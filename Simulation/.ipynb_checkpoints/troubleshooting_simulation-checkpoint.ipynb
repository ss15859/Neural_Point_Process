{
 "cells": [
  {
   "cell_type": "markdown",
   "id": "tracked-cradle",
   "metadata": {},
   "source": [
    "# Troubleshooting Simulation "
   ]
  },
  {
   "cell_type": "code",
   "execution_count": 92,
   "id": "invisible-desire",
   "metadata": {},
   "outputs": [],
   "source": [
    "import csv\n",
    "import numpy as np\n",
    "import datetime as dt\n",
    "from shapely.geometry import Polygon\n",
    "import pandas as pd\n",
    "import matplotlib.pyplot as plt\n",
    "\n",
    "from simulation import generate_catalog, simulate_aftershock_time\n",
    "from inversion import round_half_up, polygon_surface, expected_aftershocks\n",
    "\n",
    "from scipy.special import gamma\n",
    "\n",
    "import tensorflow as tf\n",
    "import tensorflow.keras as keras\n",
    "from tensorflow.keras import layers\n",
    "from tensorflow.keras import backend as K\n",
    "from tensorflow.keras.models import Model"
   ]
  },
  {
   "cell_type": "code",
   "execution_count": 2,
   "id": "outdoor-parish",
   "metadata": {},
   "outputs": [
    {
     "name": "stderr",
     "output_type": "stream",
     "text": [
      "/home/ss15859/anaconda3/envs/py-37-keras-21/lib/python3.7/site-packages/pyproj/crs/crs.py:53: FutureWarning: '+init=<authority>:<code>' syntax is deprecated. '<authority>:<code>' is the preferred initialization method. When making the change, be mindful of axis order changes: https://pyproj4.github.io/pyproj/stable/gotchas.html#axis-order-changes-in-proj-6\n",
      "  return _prepare_from_string(\" \".join(pjargs))\n",
      "/home/ss15859/anaconda3/envs/py-37-keras-21/lib/python3.7/site-packages/pyproj/crs/crs.py:294: FutureWarning: '+init=<authority>:<code>' syntax is deprecated. '<authority>:<code>' is the preferred initialization method. When making the change, be mindful of axis order changes: https://pyproj4.github.io/pyproj/stable/gotchas.html#axis-order-changes-in-proj-6\n",
      "  projstring = _prepare_from_string(\" \".join((projstring, projkwargs)))\n"
     ]
    }
   ],
   "source": [
    "shape_coords = [list([a[1], a[0]]) for a in (np.load(\"california_shape.npy\"))]\n",
    "caliregion = Polygon(shape_coords)\n",
    "area = polygon_surface(caliregion)\n",
    "burn_start = dt.datetime(1871, 1, 1)\n",
    "primary_start = dt.datetime(1871, 1, 1)\n",
    "end = dt.datetime(2021, 1, 1)\n",
    "\n",
    "\n",
    "mc=3.6\n",
    "beta=2.4\n",
    "\n",
    "params = {\n",
    "    'log10_mu': -7.5,\n",
    "    'log10_k0': -2.49,\n",
    "    'a': 1.69,\n",
    "    'log10_c': -2.95,\n",
    "    'omega': -0.03,\n",
    "    'log10_tau': 3.99,\n",
    "    'log10_d': -0.35,\n",
    "    'gamma': 1.22,\n",
    "    'rho': 0.51,\n",
    "    'M0': mc,\n",
    "    'beta': beta\n",
    "    }"
   ]
  },
  {
   "cell_type": "code",
   "execution_count": 3,
   "id": "reverse-consent",
   "metadata": {},
   "outputs": [
    {
     "name": "stdout",
     "output_type": "stream",
     "text": [
      "generating background events..\n"
     ]
    },
    {
     "name": "stderr",
     "output_type": "stream",
     "text": [
      "/home/ss15859/anaconda3/envs/py-37-keras-21/lib/python3.7/site-packages/pyproj/crs/crs.py:53: FutureWarning: '+init=<authority>:<code>' syntax is deprecated. '<authority>:<code>' is the preferred initialization method. When making the change, be mindful of axis order changes: https://pyproj4.github.io/pyproj/stable/gotchas.html#axis-order-changes-in-proj-6\n",
      "  return _prepare_from_string(\" \".join(pjargs))\n",
      "/home/ss15859/anaconda3/envs/py-37-keras-21/lib/python3.7/site-packages/pyproj/crs/crs.py:294: FutureWarning: '+init=<authority>:<code>' syntax is deprecated. '<authority>:<code>' is the preferred initialization method. When making the change, be mindful of axis order changes: https://pyproj4.github.io/pyproj/stable/gotchas.html#axis-order-changes-in-proj-6\n",
      "  projstring = _prepare_from_string(\" \".join((projstring, projkwargs)))\n",
      "/home/ss15859/anaconda3/envs/py-37-keras-21/lib/python3.7/site-packages/pyproj/crs/crs.py:53: FutureWarning: '+init=<authority>:<code>' syntax is deprecated. '<authority>:<code>' is the preferred initialization method. When making the change, be mindful of axis order changes: https://pyproj4.github.io/pyproj/stable/gotchas.html#axis-order-changes-in-proj-6\n",
      "  return _prepare_from_string(\" \".join(pjargs))\n",
      "/home/ss15859/anaconda3/envs/py-37-keras-21/lib/python3.7/site-packages/pyproj/crs/crs.py:294: FutureWarning: '+init=<authority>:<code>' syntax is deprecated. '<authority>:<code>' is the preferred initialization method. When making the change, be mindful of axis order changes: https://pyproj4.github.io/pyproj/stable/gotchas.html#axis-order-changes-in-proj-6\n",
      "  projstring = _prepare_from_string(\" \".join((projstring, projkwargs)))\n"
     ]
    },
    {
     "name": "stdout",
     "output_type": "stream",
     "text": [
      "  number of background events needed: 1679\n",
      "  generating 1679 to throw away those outside the polygon\n",
      "  number of background events: 1679\n",
      "\n",
      "  branching ratio: 0.8667056165577146\n",
      "  expected total number of events (if time were infinite): 12596.179648687024\n",
      "\n",
      "\n",
      "simulating aftershocks of generation 0 ..\n",
      "  number of events with aftershocks: 872\n",
      "  number of generated aftershocks: 1421\n",
      "\n",
      "\n",
      "simulating aftershocks of generation 1 ..\n",
      "  number of events with aftershocks: 764\n",
      "  number of generated aftershocks: 1253\n",
      "\n",
      "\n",
      "simulating aftershocks of generation 2 ..\n",
      "  number of events with aftershocks: 666\n",
      "  number of generated aftershocks: 1083\n",
      "\n",
      "\n",
      "simulating aftershocks of generation 3 ..\n",
      "  number of events with aftershocks: 542\n",
      "  number of generated aftershocks: 870\n",
      "\n",
      "\n",
      "simulating aftershocks of generation 4 ..\n",
      "  number of events with aftershocks: 447\n",
      "  number of generated aftershocks: 724\n",
      "\n",
      "\n",
      "simulating aftershocks of generation 5 ..\n",
      "  number of events with aftershocks: 367\n",
      "  number of generated aftershocks: 561\n",
      "\n",
      "\n",
      "simulating aftershocks of generation 6 ..\n",
      "  number of events with aftershocks: 301\n",
      "  number of generated aftershocks: 588\n",
      "\n",
      "\n",
      "simulating aftershocks of generation 7 ..\n",
      "  number of events with aftershocks: 306\n",
      "  number of generated aftershocks: 468\n",
      "\n",
      "\n",
      "simulating aftershocks of generation 8 ..\n",
      "  number of events with aftershocks: 257\n",
      "  number of generated aftershocks: 406\n",
      "\n",
      "\n",
      "simulating aftershocks of generation 9 ..\n",
      "  number of events with aftershocks: 218\n",
      "  number of generated aftershocks: 348\n",
      "\n",
      "\n",
      "simulating aftershocks of generation 10 ..\n",
      "  number of events with aftershocks: 175\n",
      "  number of generated aftershocks: 286\n",
      "\n",
      "\n",
      "simulating aftershocks of generation 11 ..\n",
      "  number of events with aftershocks: 146\n",
      "  number of generated aftershocks: 260\n",
      "\n",
      "\n",
      "simulating aftershocks of generation 12 ..\n",
      "  number of events with aftershocks: 147\n",
      "  number of generated aftershocks: 221\n",
      "\n",
      "\n",
      "simulating aftershocks of generation 13 ..\n",
      "  number of events with aftershocks: 117\n",
      "  number of generated aftershocks: 188\n",
      "\n",
      "\n",
      "simulating aftershocks of generation 14 ..\n",
      "  number of events with aftershocks: 97\n",
      "  number of generated aftershocks: 156\n",
      "\n",
      "\n",
      "simulating aftershocks of generation 15 ..\n",
      "  number of events with aftershocks: 85\n",
      "  number of generated aftershocks: 158\n",
      "\n",
      "\n",
      "simulating aftershocks of generation 16 ..\n",
      "  number of events with aftershocks: 70\n",
      "  number of generated aftershocks: 120\n",
      "\n",
      "\n",
      "simulating aftershocks of generation 17 ..\n",
      "  number of events with aftershocks: 76\n",
      "  number of generated aftershocks: 152\n",
      "\n",
      "\n",
      "simulating aftershocks of generation 18 ..\n",
      "  number of events with aftershocks: 81\n",
      "  number of generated aftershocks: 164\n",
      "\n",
      "\n",
      "simulating aftershocks of generation 19 ..\n",
      "  number of events with aftershocks: 77\n",
      "  number of generated aftershocks: 140\n",
      "\n",
      "\n",
      "simulating aftershocks of generation 20 ..\n",
      "  number of events with aftershocks: 71\n",
      "  number of generated aftershocks: 110\n",
      "\n",
      "\n",
      "simulating aftershocks of generation 21 ..\n",
      "  number of events with aftershocks: 60\n",
      "  number of generated aftershocks: 99\n",
      "\n",
      "\n",
      "simulating aftershocks of generation 22 ..\n",
      "  number of events with aftershocks: 52\n",
      "  number of generated aftershocks: 78\n",
      "\n",
      "\n",
      "simulating aftershocks of generation 23 ..\n",
      "  number of events with aftershocks: 40\n",
      "  number of generated aftershocks: 62\n",
      "\n",
      "\n",
      "simulating aftershocks of generation 24 ..\n",
      "  number of events with aftershocks: 28\n",
      "  number of generated aftershocks: 40\n",
      "\n",
      "\n",
      "simulating aftershocks of generation 25 ..\n",
      "  number of events with aftershocks: 22\n",
      "  number of generated aftershocks: 25\n",
      "\n",
      "\n",
      "simulating aftershocks of generation 26 ..\n",
      "  number of events with aftershocks: 14\n",
      "  number of generated aftershocks: 20\n",
      "\n",
      "\n",
      "simulating aftershocks of generation 27 ..\n",
      "  number of events with aftershocks: 12\n",
      "  number of generated aftershocks: 16\n",
      "\n",
      "\n",
      "simulating aftershocks of generation 28 ..\n",
      "  number of events with aftershocks: 10\n",
      "  number of generated aftershocks: 14\n",
      "\n",
      "\n",
      "simulating aftershocks of generation 29 ..\n",
      "  number of events with aftershocks: 8\n",
      "  number of generated aftershocks: 9\n",
      "\n",
      "\n",
      "simulating aftershocks of generation 30 ..\n",
      "  number of events with aftershocks: 6\n",
      "  number of generated aftershocks: 7\n",
      "\n",
      "\n",
      "simulating aftershocks of generation 31 ..\n",
      "  number of events with aftershocks: 4\n",
      "  number of generated aftershocks: 6\n",
      "\n",
      "\n",
      "simulating aftershocks of generation 32 ..\n",
      "  number of events with aftershocks: 5\n",
      "  number of generated aftershocks: 8\n",
      "\n",
      "\n",
      "simulating aftershocks of generation 33 ..\n",
      "  number of events with aftershocks: 7\n",
      "  number of generated aftershocks: 8\n",
      "\n",
      "\n",
      "simulating aftershocks of generation 34 ..\n",
      "  number of events with aftershocks: 4\n",
      "  number of generated aftershocks: 4\n",
      "\n",
      "\n",
      "simulating aftershocks of generation 35 ..\n",
      "  number of events with aftershocks: 4\n",
      "  number of generated aftershocks: 5\n",
      "\n",
      "\n",
      "simulating aftershocks of generation 36 ..\n",
      "  number of events with aftershocks: 3\n",
      "  number of generated aftershocks: 4\n",
      "\n",
      "\n",
      "simulating aftershocks of generation 37 ..\n",
      "  number of events with aftershocks: 1\n",
      "  number of generated aftershocks: 2\n",
      "\n",
      "\n",
      "simulating aftershocks of generation 38 ..\n",
      "  number of events with aftershocks: 2\n",
      "  number of generated aftershocks: 2\n",
      "\n",
      "\n",
      "simulating aftershocks of generation 39 ..\n",
      "  number of events with aftershocks: 2\n",
      "  number of generated aftershocks: 5\n",
      "\n",
      "\n",
      "simulating aftershocks of generation 40 ..\n",
      "  number of events with aftershocks: 4\n",
      "  number of generated aftershocks: 6\n",
      "\n",
      "\n",
      "simulating aftershocks of generation 41 ..\n",
      "  number of events with aftershocks: 2\n",
      "  number of generated aftershocks: 3\n",
      "\n",
      "\n",
      "simulating aftershocks of generation 42 ..\n",
      "  number of events with aftershocks: 3\n",
      "  number of generated aftershocks: 3\n",
      "\n",
      "\n",
      "simulating aftershocks of generation 43 ..\n",
      "  number of events with aftershocks: 1\n",
      "  number of generated aftershocks: 1\n",
      "\n",
      "\n",
      "simulating aftershocks of generation 44 ..\n",
      "  number of events with aftershocks: 1\n",
      "  number of generated aftershocks: 2\n",
      "\n",
      "\n",
      "simulating aftershocks of generation 45 ..\n",
      "  number of events with aftershocks: 2\n",
      "  number of generated aftershocks: 5\n",
      "\n",
      "\n",
      "simulating aftershocks of generation 46 ..\n",
      "  number of events with aftershocks: 1\n",
      "  number of generated aftershocks: 4\n",
      "\n",
      "\n",
      "simulating aftershocks of generation 47 ..\n",
      "  number of events with aftershocks: 2\n",
      "  number of generated aftershocks: 1\n",
      "\n",
      "\n",
      "simulating aftershocks of generation 48 ..\n",
      "  number of events with aftershocks: 0\n",
      "\n",
      "\n",
      "total events simulated!: 11795\n",
      "inside the polygon: 11795\n"
     ]
    }
   ],
   "source": [
    "synthetic = generate_catalog(\n",
    "        polygon=caliregion,\n",
    "        timewindow_start=burn_start,\n",
    "        timewindow_end=end,\n",
    "        parameters=params,\n",
    "        mc=mc,\n",
    "        beta_main=beta,\n",
    "        \n",
    "    )\n"
   ]
  },
  {
   "cell_type": "code",
   "execution_count": 4,
   "id": "accessible-donor",
   "metadata": {},
   "outputs": [],
   "source": [
    "synthetic = synthetic[[\"latitude\", \"longitude\", \"time\", \"magnitude\"]]\n"
   ]
  },
  {
   "cell_type": "code",
   "execution_count": 5,
   "id": "decreased-uganda",
   "metadata": {},
   "outputs": [
    {
     "data": {
      "text/html": [
       "<div>\n",
       "<style scoped>\n",
       "    .dataframe tbody tr th:only-of-type {\n",
       "        vertical-align: middle;\n",
       "    }\n",
       "\n",
       "    .dataframe tbody tr th {\n",
       "        vertical-align: top;\n",
       "    }\n",
       "\n",
       "    .dataframe thead th {\n",
       "        text-align: right;\n",
       "    }\n",
       "</style>\n",
       "<table border=\"1\" class=\"dataframe\">\n",
       "  <thead>\n",
       "    <tr style=\"text-align: right;\">\n",
       "      <th></th>\n",
       "      <th>latitude</th>\n",
       "      <th>longitude</th>\n",
       "      <th>time</th>\n",
       "      <th>magnitude</th>\n",
       "    </tr>\n",
       "  </thead>\n",
       "  <tbody>\n",
       "    <tr>\n",
       "      <th>1</th>\n",
       "      <td>36</td>\n",
       "      <td>-122</td>\n",
       "      <td>1871-03-07 20:32:40.989412000</td>\n",
       "      <td>3.821657</td>\n",
       "    </tr>\n",
       "    <tr>\n",
       "      <th>2</th>\n",
       "      <td>36</td>\n",
       "      <td>-122</td>\n",
       "      <td>1871-03-25 00:10:40.300701000</td>\n",
       "      <td>4.117646</td>\n",
       "    </tr>\n",
       "    <tr>\n",
       "      <th>3</th>\n",
       "      <td>36</td>\n",
       "      <td>-122</td>\n",
       "      <td>1871-04-16 09:07:51.017090000</td>\n",
       "      <td>4.102649</td>\n",
       "    </tr>\n",
       "    <tr>\n",
       "      <th>4</th>\n",
       "      <td>36</td>\n",
       "      <td>-122</td>\n",
       "      <td>1871-04-22 11:01:21.806220000</td>\n",
       "      <td>3.880877</td>\n",
       "    </tr>\n",
       "    <tr>\n",
       "      <th>5</th>\n",
       "      <td>36</td>\n",
       "      <td>-122</td>\n",
       "      <td>1871-05-06 15:19:15.871923000</td>\n",
       "      <td>4.081661</td>\n",
       "    </tr>\n",
       "    <tr>\n",
       "      <th>...</th>\n",
       "      <td>...</td>\n",
       "      <td>...</td>\n",
       "      <td>...</td>\n",
       "      <td>...</td>\n",
       "    </tr>\n",
       "    <tr>\n",
       "      <th>11791</th>\n",
       "      <td>36</td>\n",
       "      <td>-122</td>\n",
       "      <td>2013-02-09 11:47:04.115670599</td>\n",
       "      <td>4.457984</td>\n",
       "    </tr>\n",
       "    <tr>\n",
       "      <th>11792</th>\n",
       "      <td>36</td>\n",
       "      <td>-122</td>\n",
       "      <td>1993-08-22 11:32:16.587568199</td>\n",
       "      <td>3.793960</td>\n",
       "    </tr>\n",
       "    <tr>\n",
       "      <th>11793</th>\n",
       "      <td>36</td>\n",
       "      <td>-122</td>\n",
       "      <td>1999-03-10 03:31:19.275366599</td>\n",
       "      <td>3.637890</td>\n",
       "    </tr>\n",
       "    <tr>\n",
       "      <th>11794</th>\n",
       "      <td>36</td>\n",
       "      <td>-122</td>\n",
       "      <td>1995-04-29 19:27:03.310816199</td>\n",
       "      <td>4.228008</td>\n",
       "    </tr>\n",
       "    <tr>\n",
       "      <th>11795</th>\n",
       "      <td>36</td>\n",
       "      <td>-122</td>\n",
       "      <td>1993-08-22 14:59:15.928768199</td>\n",
       "      <td>3.628416</td>\n",
       "    </tr>\n",
       "  </tbody>\n",
       "</table>\n",
       "<p>11795 rows × 4 columns</p>\n",
       "</div>"
      ],
      "text/plain": [
       "       latitude  longitude                          time  magnitude\n",
       "1            36       -122 1871-03-07 20:32:40.989412000   3.821657\n",
       "2            36       -122 1871-03-25 00:10:40.300701000   4.117646\n",
       "3            36       -122 1871-04-16 09:07:51.017090000   4.102649\n",
       "4            36       -122 1871-04-22 11:01:21.806220000   3.880877\n",
       "5            36       -122 1871-05-06 15:19:15.871923000   4.081661\n",
       "...         ...        ...                           ...        ...\n",
       "11791        36       -122 2013-02-09 11:47:04.115670599   4.457984\n",
       "11792        36       -122 1993-08-22 11:32:16.587568199   3.793960\n",
       "11793        36       -122 1999-03-10 03:31:19.275366599   3.637890\n",
       "11794        36       -122 1995-04-29 19:27:03.310816199   4.228008\n",
       "11795        36       -122 1993-08-22 14:59:15.928768199   3.628416\n",
       "\n",
       "[11795 rows x 4 columns]"
      ]
     },
     "execution_count": 5,
     "metadata": {},
     "output_type": "execute_result"
    }
   ],
   "source": [
    "synthetic"
   ]
  },
  {
   "cell_type": "code",
   "execution_count": 6,
   "id": "acceptable-rhythm",
   "metadata": {},
   "outputs": [
    {
     "data": {
      "text/html": [
       "<div>\n",
       "<style scoped>\n",
       "    .dataframe tbody tr th:only-of-type {\n",
       "        vertical-align: middle;\n",
       "    }\n",
       "\n",
       "    .dataframe tbody tr th {\n",
       "        vertical-align: top;\n",
       "    }\n",
       "\n",
       "    .dataframe thead th {\n",
       "        text-align: right;\n",
       "    }\n",
       "</style>\n",
       "<table border=\"1\" class=\"dataframe\">\n",
       "  <thead>\n",
       "    <tr style=\"text-align: right;\">\n",
       "      <th></th>\n",
       "      <th>latitude</th>\n",
       "      <th>longitude</th>\n",
       "      <th>time</th>\n",
       "      <th>magnitude</th>\n",
       "    </tr>\n",
       "  </thead>\n",
       "  <tbody>\n",
       "    <tr>\n",
       "      <th>1</th>\n",
       "      <td>36</td>\n",
       "      <td>-122</td>\n",
       "      <td>1871-03-07 20:32:40.989412000</td>\n",
       "      <td>3.821657</td>\n",
       "    </tr>\n",
       "    <tr>\n",
       "      <th>2</th>\n",
       "      <td>36</td>\n",
       "      <td>-122</td>\n",
       "      <td>1871-03-25 00:10:40.300701000</td>\n",
       "      <td>4.117646</td>\n",
       "    </tr>\n",
       "    <tr>\n",
       "      <th>3</th>\n",
       "      <td>36</td>\n",
       "      <td>-122</td>\n",
       "      <td>1871-04-16 09:07:51.017090000</td>\n",
       "      <td>4.102649</td>\n",
       "    </tr>\n",
       "    <tr>\n",
       "      <th>4</th>\n",
       "      <td>36</td>\n",
       "      <td>-122</td>\n",
       "      <td>1871-04-22 11:01:21.806220000</td>\n",
       "      <td>3.880877</td>\n",
       "    </tr>\n",
       "    <tr>\n",
       "      <th>1681</th>\n",
       "      <td>36</td>\n",
       "      <td>-122</td>\n",
       "      <td>1871-04-22 12:42:07.947583200</td>\n",
       "      <td>3.611503</td>\n",
       "    </tr>\n",
       "    <tr>\n",
       "      <th>...</th>\n",
       "      <td>...</td>\n",
       "      <td>...</td>\n",
       "      <td>...</td>\n",
       "      <td>...</td>\n",
       "    </tr>\n",
       "    <tr>\n",
       "      <th>7591</th>\n",
       "      <td>36</td>\n",
       "      <td>-122</td>\n",
       "      <td>2020-12-08 05:53:13.561095200</td>\n",
       "      <td>3.666504</td>\n",
       "    </tr>\n",
       "    <tr>\n",
       "      <th>6290</th>\n",
       "      <td>36</td>\n",
       "      <td>-122</td>\n",
       "      <td>2020-12-20 07:52:19.449975800</td>\n",
       "      <td>4.152964</td>\n",
       "    </tr>\n",
       "    <tr>\n",
       "      <th>7019</th>\n",
       "      <td>36</td>\n",
       "      <td>-122</td>\n",
       "      <td>2020-12-20 13:12:52.434539000</td>\n",
       "      <td>5.113860</td>\n",
       "    </tr>\n",
       "    <tr>\n",
       "      <th>7588</th>\n",
       "      <td>36</td>\n",
       "      <td>-122</td>\n",
       "      <td>2020-12-23 01:35:40.620443000</td>\n",
       "      <td>4.499663</td>\n",
       "    </tr>\n",
       "    <tr>\n",
       "      <th>7587</th>\n",
       "      <td>36</td>\n",
       "      <td>-122</td>\n",
       "      <td>2020-12-23 23:33:06.328302200</td>\n",
       "      <td>3.653465</td>\n",
       "    </tr>\n",
       "  </tbody>\n",
       "</table>\n",
       "<p>11795 rows × 4 columns</p>\n",
       "</div>"
      ],
      "text/plain": [
       "      latitude  longitude                          time  magnitude\n",
       "1           36       -122 1871-03-07 20:32:40.989412000   3.821657\n",
       "2           36       -122 1871-03-25 00:10:40.300701000   4.117646\n",
       "3           36       -122 1871-04-16 09:07:51.017090000   4.102649\n",
       "4           36       -122 1871-04-22 11:01:21.806220000   3.880877\n",
       "1681        36       -122 1871-04-22 12:42:07.947583200   3.611503\n",
       "...        ...        ...                           ...        ...\n",
       "7591        36       -122 2020-12-08 05:53:13.561095200   3.666504\n",
       "6290        36       -122 2020-12-20 07:52:19.449975800   4.152964\n",
       "7019        36       -122 2020-12-20 13:12:52.434539000   5.113860\n",
       "7588        36       -122 2020-12-23 01:35:40.620443000   4.499663\n",
       "7587        36       -122 2020-12-23 23:33:06.328302200   3.653465\n",
       "\n",
       "[11795 rows x 4 columns]"
      ]
     },
     "execution_count": 6,
     "metadata": {},
     "output_type": "execute_result"
    }
   ],
   "source": [
    "synthetic = synthetic.sort_values('time')\n",
    "synthetic"
   ]
  },
  {
   "cell_type": "code",
   "execution_count": 7,
   "id": "increased-corpus",
   "metadata": {},
   "outputs": [
    {
     "data": {
      "text/plain": [
       "array([  0.        ,  17.15138092,  39.52442162,  45.60325019,\n",
       "        45.67322868,  59.78234818,  59.78456795,  80.74616883,\n",
       "        82.03752329,  89.81068565,  93.47484649, 119.42935276,\n",
       "       138.55241115, 156.74332413, 162.90111282, 191.06981368,\n",
       "       200.71957309, 200.73727974, 215.2448492 , 223.81416882])"
      ]
     },
     "execution_count": 7,
     "metadata": {},
     "output_type": "execute_result"
    }
   ],
   "source": [
    "dates = np.array(synthetic['time'])\n",
    "delta_times = (dates-dates[0])\n",
    "times=delta_times/ np.timedelta64(1, 'D')\n",
    "times[:20]"
   ]
  },
  {
   "cell_type": "code",
   "execution_count": 8,
   "id": "parliamentary-hours",
   "metadata": {},
   "outputs": [
    {
     "data": {
      "text/plain": [
       "array([3.82165685, 4.1176464 , 4.1026489 , 3.88087713, 3.61150297,\n",
       "       4.08166099, 3.9525264 , 3.77583216, 3.74502073, 3.96727701,\n",
       "       4.2790161 , 4.45368819, 4.10839223, 3.6496303 , 3.65609674,\n",
       "       4.10477867, 3.648143  , 4.05629042, 3.6308096 , 3.96851789])"
      ]
     },
     "execution_count": 8,
     "metadata": {},
     "output_type": "execute_result"
    }
   ],
   "source": [
    "mags = np.array(synthetic['magnitude'])\n",
    "mags[:20]"
   ]
  },
  {
   "cell_type": "markdown",
   "id": "received-customer",
   "metadata": {},
   "source": [
    "$$ g(t,x,y,m) = \\frac{k_0 \\cdot e^{a(m-m_c)} }{\\frac{(t+c)^{1+\\omega}}{e^{-t/\\tau}} \\cdot\\left((x^2+y^2)+d \\cdot e^{\\gamma(m-m_c)}\\right)^{1+\\rho} }$$"
   ]
  },
  {
   "cell_type": "markdown",
   "id": "broken-donor",
   "metadata": {},
   "source": [
    "To simply this to only temporal, we can take the same parameter values and just ensure that $x$ and $y$ are always zero. The triggering function then becomes:\n",
    "$$ g(t,m) = \\frac{k_0 \\cdot e^{a(m-m_c)} }{\\frac{(t+c)^{1+\\omega}}{e^{-t/\\tau}} \\cdot\\left(d \\cdot e^{\\gamma(m-m_c)}\\right)^{1+\\rho} }$$"
   ]
  },
  {
   "cell_type": "markdown",
   "id": "angry-tournament",
   "metadata": {},
   "source": [
    "The intensity at time $t$ is:\n",
    "\\begin{align*} \\lambda(t) &= \\mu + \\sum_{t_i<t} g(t-t_i,m_i) \\\\\n",
    "&= \\mu + \\sum_{t_i<t} h(t-t_i) k(m_i)\n",
    "\\end{align*}"
   ]
  },
  {
   "cell_type": "markdown",
   "id": "expensive-alpha",
   "metadata": {},
   "source": [
    "Where,\n",
    "$$h(t) = \\frac{e^{-t/\\tau}}{(t+c)^{1+\\omega}}$$"
   ]
  },
  {
   "cell_type": "markdown",
   "id": "steady-miracle",
   "metadata": {},
   "source": [
    "$$k(m) = \\frac{k_0 \\cdot e^{a(m-m_c)}}{\\left(d \\cdot e^{\\gamma(m-m_c)}\\right)^{1+\\rho} } $$"
   ]
  },
  {
   "cell_type": "code",
   "execution_count": 9,
   "id": "vietnamese-material",
   "metadata": {},
   "outputs": [],
   "source": [
    "tau=10**float(params[\"log10_tau\"])\n",
    "c= 10**float(params[\"log10_c\"])\n",
    "w = float(params[\"omega\"])\n",
    "k0 = 10**float(params[\"log10_k0\"])\n",
    "alpha = float(params[\"a\"])\n",
    "M0 = float(params[\"M0\"])\n",
    "d = 10**float(params[\"log10_d\"])\n",
    "rho = float(params[\"rho\"])\n",
    "ground = 10**float(params[\"log10_mu\"])\n",
    "gamma = float(params[\"gamma\"])\n",
    "beta = float(params[\"beta\"])\n",
    "\n",
    "\n",
    "# def h(t):\n",
    "#     return np.exp(-t/tau)/((t+c)**(1+w))\n",
    "\n",
    "# def k(m):\n",
    "#     return k0 * np.exp(alpha * (m - M0))/((d*np.exp(gamma*(m-M0)))**(1+rho))\n",
    "\n",
    "\n",
    "def h(t):\n",
    "    return np.exp(-t/tau)/(np.power(t+c,(1+w)))\n",
    "\n",
    "def k(m):\n",
    "    return k0*np.exp(alpha*(m-M0))/(np.power(d*np.exp(gamma*(m-M0)),(rho)))\n",
    "\n",
    "\n"
   ]
  },
  {
   "cell_type": "code",
   "execution_count": 120,
   "id": "sixth-america",
   "metadata": {},
   "outputs": [
    {
     "data": {
      "text/plain": [
       "[<matplotlib.lines.Line2D at 0x7f671db9aa90>]"
      ]
     },
     "execution_count": 120,
     "metadata": {},
     "output_type": "execute_result"
    },
    {
     "data": {
      "image/png": "[encoded data removed]",
      "text/plain": [
       "<Figure size 432x288 with 1 Axes>"
      ]
     },
     "metadata": {
      "needs_background": "light"
     },
     "output_type": "display_data"
    }
   ],
   "source": [
    "t = simulate_aftershock_time(params[\"log10_c\"], w, params[\"log10_tau\"], size=100000)\n",
    "from scipy.stats import gaussian_kde\n",
    "density = gaussian_kde(t)\n",
    "x=np.linspace(0,50000,1000)\n",
    "plt.plot(x,density(x))\n",
    "# plt.hist(t,density=True)\n",
    "# plt.plot(x,h(x)*(density(10000)/h(10000)))"
   ]
  },
  {
   "cell_type": "code",
   "execution_count": 121,
   "id": "studied-blind",
   "metadata": {},
   "outputs": [],
   "source": [
    "# def marked_ETAS_intensity(Tdat,Mdat):\n",
    "    \n",
    "#     lam = np.zeros_like(Tdat)\n",
    "#     lam[0] = ground*area\n",
    "#     for i in range(len(lam)):\n",
    "    \n",
    "#         cumulative = 0\n",
    "#         for j in range(1,i):\n",
    "#             cumulative += k(Mdat[j])*h(Tdat[i]-Tdat[j])\n",
    "\n",
    "    \n",
    "#         lam[i] = ground*area + cumulative\n",
    "    \n",
    "#     return lam \n",
    "\n",
    "theta_without_mu = params[\"log10_k0\"], params[\"a\"], params[\"log10_c\"], params[\"omega\"], \\\n",
    "                       params[\"log10_tau\"], params[\"log10_d\"], params[\"gamma\"], params[\"rho\"]\n",
    "\n",
    "def marked_ETAS_intensity(Tdat,Mdat):\n",
    "    \n",
    "    lam = np.zeros_like(Tdat)\n",
    "    lam[0] = ground*area\n",
    "    for i in range(len(lam)):\n",
    "    \n",
    "        cumulative = 0\n",
    "        for j in range(1,i):\n",
    "            cumulative += expected_aftershocks(Mdat[j],params=[theta_without_mu, M0],no_start=True,no_end=True)*density(Tdat[i]-Tdat[j])\n",
    "\n",
    "    \n",
    "        lam[i] = ground*area + cumulative\n",
    "    \n",
    "    return lam "
   ]
  },
  {
   "cell_type": "code",
   "execution_count": 63,
   "id": "smooth-berkeley",
   "metadata": {},
   "outputs": [
    {
     "data": {
      "text/plain": [
       "<matplotlib.legend.Legend at 0x7f6784536bd0>"
      ]
     },
     "execution_count": 63,
     "metadata": {},
     "output_type": "execute_result"
    },
    {
     "data": {
      "image/png": "[encoded data removed]",
      "text/plain": [
       "<Figure size 432x288 with 1 Axes>"
      ]
     },
     "metadata": {
      "needs_background": "light"
     },
     "output_type": "display_data"
    }
   ],
   "source": [
    "x = np.linspace(8,10,1000)\n",
    "plt.plot(x,k(x),alpha=0.8,label='mine')\n",
    "plt.plot(x,expected_aftershocks(x,params=[theta_without_mu, M0],no_start=True,no_end=True)/98.566605105878,alpha=0.5,label='hers')\n",
    "plt.legend()"
   ]
  },
  {
   "cell_type": "code",
   "execution_count": 44,
   "id": "irish-huntington",
   "metadata": {},
   "outputs": [
    {
     "data": {
      "text/plain": [
       "98.566605105878"
      ]
     },
     "execution_count": 44,
     "metadata": {},
     "output_type": "execute_result"
    }
   ],
   "source": [
    "expected_aftershocks(10,params=[theta_without_mu, M0],no_start=True,no_end=True)/k(10)"
   ]
  },
  {
   "cell_type": "code",
   "execution_count": 11,
   "id": "inner-appeal",
   "metadata": {},
   "outputs": [],
   "source": [
    "times=times[:4000]\n",
    "mags=mags[:4000]"
   ]
  },
  {
   "cell_type": "code",
   "execution_count": null,
   "id": "logical-midnight",
   "metadata": {},
   "outputs": [],
   "source": [
    "lam = marked_ETAS_intensity(times,mags)"
   ]
  },
  {
   "cell_type": "code",
   "execution_count": 13,
   "id": "beneficial-enough",
   "metadata": {},
   "outputs": [
    {
     "data": {
      "text/plain": [
       "array([3.82165685, 4.1176464 , 4.1026489 , 3.88087713, 3.61150297,\n",
       "       4.08166099, 3.9525264 , 3.77583216, 3.74502073, 3.96727701,\n",
       "       4.2790161 , 4.45368819, 4.10839223, 3.6496303 , 3.65609674,\n",
       "       4.10477867, 3.648143  , 4.05629042, 3.6308096 , 3.96851789,\n",
       "       3.68418951, 4.33433318, 4.30386707, 3.67721394, 3.70477507,\n",
       "       4.24909967, 4.41286755, 4.57549271, 3.81969675, 3.71661514])"
      ]
     },
     "execution_count": 13,
     "metadata": {},
     "output_type": "execute_result"
    }
   ],
   "source": [
    "mags[:30]"
   ]
  },
  {
   "cell_type": "code",
   "execution_count": 14,
   "id": "bigger-handle",
   "metadata": {},
   "outputs": [
    {
     "data": {
      "text/plain": [
       "array([  0.        ,  17.15138092,  39.52442162,  45.60325019,\n",
       "        45.67322868,  59.78234818,  59.78456795,  80.74616883,\n",
       "        82.03752329,  89.81068565,  93.47484649, 119.42935276,\n",
       "       138.55241115, 156.74332413, 162.90111282, 191.06981368,\n",
       "       200.71957309, 200.73727974, 215.2448492 , 223.81416882,\n",
       "       274.42668969, 276.93950025, 280.15827564, 311.13915087,\n",
       "       381.24661728, 384.73263187, 413.60084648, 413.67617909,\n",
       "       416.68603814, 427.62402934])"
      ]
     },
     "execution_count": 14,
     "metadata": {},
     "output_type": "execute_result"
    }
   ],
   "source": [
    "times[:30]"
   ]
  },
  {
   "cell_type": "code",
   "execution_count": 15,
   "id": "severe-registrar",
   "metadata": {},
   "outputs": [
    {
     "data": {
      "text/plain": [
       "array([3.03522670e-02, 3.03522670e-02, 7.12815642e-02, 2.05532433e-01,\n",
       "       8.64041136e+00, 1.83397185e-01, 2.03108371e+02, 1.81766662e-01,\n",
       "       6.27663255e-01, 2.90810431e-01, 4.39709647e-01, 1.99026643e-01,\n",
       "       2.14748001e-01, 2.06439341e-01, 2.70113570e-01, 1.68400365e-01,\n",
       "       2.41687655e-01, 2.41184917e+01, 2.65492578e-01, 2.74820932e-01,\n",
       "       1.51510028e-01, 3.63695934e-01, 5.80479449e-01, 2.06667073e-01,\n",
       "       1.29452973e-01, 2.87367394e-01, 1.67801731e-01, 1.40442554e+01,\n",
       "       1.01335751e+00, 3.98838447e-01])"
      ]
     },
     "execution_count": 15,
     "metadata": {},
     "output_type": "execute_result"
    }
   ],
   "source": [
    "lam[:30]"
   ]
  },
  {
   "cell_type": "code",
   "execution_count": 65,
   "id": "active-aging",
   "metadata": {},
   "outputs": [],
   "source": [
    "## hyper parameters\n",
    "time_step = 60 # truncation depth of RNN \n",
    "size_rnn = 64 # the number of units in the RNN\n",
    "size_nn = 64 # the nubmer of units in each hidden layer in the cumulative hazard function network\n",
    "size_layer_chfn = 2 # the number of the hidden layers in the cumulative hazard function network\n",
    "size_layer_cmfn = 2\n",
    "\n",
    "T_train=times\n",
    "M_train=mags\n",
    "\n",
    "## mean and std of the log of the inter-event interval, which will be used for the data standardization\n",
    "mu = np.log(np.ediff1d(T_train)).mean()\n",
    "sigma = np.log(np.ediff1d(T_train)).std()\n",
    "\n",
    "mu1 = np.log(M_train).mean()\n",
    "sigma1 = np.log(M_train).std()\n",
    "\n",
    "## kernel initializer for positive weights\n",
    "def abs_glorot_uniform(shape, dtype=None, partition_info=None): \n",
    "    return K.abs(keras.initializers.glorot_uniform(seed=None)(shape,dtype=dtype))\n",
    "\n",
    "## Inputs \n",
    "\n",
    "event_history = layers.Input(shape=(time_step,2))\n",
    "elapsed_time = layers.Input(shape=(1,)) # input to cumulative hazard function network (the elapsed time from the most recent event)\n",
    "current_mag = layers.Input(shape=(1,)) \n",
    "\n",
    "\n",
    "## log-transformation and standardization\n",
    "# event_history_nmlz = layers.Lambda(lambda x: (K.log(x)-mu)/sigma )(event_history) ## probs have to do matrix equivalent for this\n",
    "elapsed_time_nmlz = layers.Lambda(lambda x: (K.log(x)-mu)/sigma )(elapsed_time) \n",
    "\n",
    "numpyA = np.array([[1/sigma,0],[0,1/sigma1]])\n",
    "\n",
    "def multA(x,A):\n",
    "    A = K.constant(numpyA)\n",
    "\n",
    "    return K.dot(x,A)\n",
    "\n",
    "event_history_nmlz = layers.Lambda(lambda x: multA(K.log(x)-[mu,mu1],numpyA))(event_history)\n",
    "current_mag_nmlz = layers.Lambda(lambda x: (K.log(x)-mu1)/sigma1 )(current_mag)\n",
    "\n",
    "## RNN\n",
    "output_rnn = layers.SimpleRNN(size_rnn,input_shape=(time_step,2),activation='tanh')(event_history_nmlz)\n",
    "\n",
    "## the first hidden layer in the cummulative hazard function network\n",
    "hidden_tau = layers.Dense(size_nn,kernel_initializer=abs_glorot_uniform,kernel_constraint=keras.constraints.NonNeg(),use_bias=False)(elapsed_time_nmlz) # elapsed time -> the 1st hidden layer, positive weights\n",
    "hidden_rnn = layers.Dense(size_nn)(output_rnn) # rnn output -> the 1st hidden layer\n",
    "hidden = layers.Lambda(lambda inputs: K.tanh(inputs[0]+inputs[1]) )([hidden_tau,hidden_rnn])\n",
    "\n",
    "## the second and higher hidden layers\n",
    "for i in range(size_layer_chfn-1):\n",
    "    hidden = layers.Dense(size_nn,activation='tanh',kernel_initializer=abs_glorot_uniform,kernel_constraint=keras.constraints.NonNeg())(hidden) # positive weights\n",
    "\n",
    "## the first hidden layer in the cummulative hazard function network\n",
    "hidden_mu = layers.Dense(size_nn,kernel_initializer=abs_glorot_uniform,kernel_constraint=keras.constraints.NonNeg(),use_bias=False)(current_mag_nmlz) # elapsed time -> the 1st hidden layer, positive weights\n",
    "hidden_rnn_mag = layers.Dense(size_nn)(output_rnn) # rnn output -> the 1st hidden layer\n",
    "hidden_mag = layers.Lambda(lambda inputs: K.tanh(inputs[0]+inputs[1]) )([hidden_mu,hidden_rnn_mag,hidden_tau])\n",
    "\n",
    "## the second and higher hidden layers\n",
    "for i in range(size_layer_cmfn-1):\n",
    "    hidden_mag = layers.Dense(size_nn,activation='tanh',kernel_initializer=abs_glorot_uniform,kernel_constraint=keras.constraints.NonNeg())(hidden_mag) # positive weights\n",
    "    \n",
    "    \n",
    "    \n",
    "## Outputs\n",
    "Int_l = layers.Dense(1, activation='softplus',kernel_initializer=abs_glorot_uniform, kernel_constraint=keras.constraints.NonNeg() )(hidden) # cumulative hazard function, positive weights\n",
    "l = layers.Lambda( lambda inputs: K.gradients(inputs[0],inputs[1])[0] )([Int_l,elapsed_time]) # hazard function\n",
    "Int_l_mag = layers.Dense(1, activation='softplus',kernel_initializer=abs_glorot_uniform, kernel_constraint=keras.constraints.NonNeg() )(hidden_mag) # cumulative hazard function, positive weights\n",
    "l_mag= layers.Lambda( lambda inputs: K.gradients(inputs[0],inputs[1])[0] )([Int_l_mag,current_mag]) # hazard function\n",
    "\n",
    "## define model\n",
    "model = Model(inputs=[event_history,elapsed_time,current_mag],outputs=[l,Int_l,l_mag,Int_l_mag])\n",
    "model.add_loss( -K.mean( K.log( 1e-10 + l )+ K.log(1e-10 + l_mag ) - Int_l ) ) # set loss function to be the negative log-likelihood function"
   ]
  },
  {
   "cell_type": "code",
   "execution_count": 66,
   "id": "flying-advocate",
   "metadata": {},
   "outputs": [
    {
     "name": "stdout",
     "output_type": "stream",
     "text": [
      "WARNING:tensorflow:Output lambda_12 missing from loss dictionary. We assume this was done on purpose. The fit and evaluate APIs will not be expecting any data to be passed to lambda_12.\n",
      "WARNING:tensorflow:Output dense_14 missing from loss dictionary. We assume this was done on purpose. The fit and evaluate APIs will not be expecting any data to be passed to dense_14.\n",
      "WARNING:tensorflow:Output lambda_13 missing from loss dictionary. We assume this was done on purpose. The fit and evaluate APIs will not be expecting any data to be passed to lambda_13.\n",
      "WARNING:tensorflow:Output dense_15 missing from loss dictionary. We assume this was done on purpose. The fit and evaluate APIs will not be expecting any data to be passed to dense_15.\n",
      "Train on 3151 samples, validate on 788 samples\n",
      "Epoch 1/20\n",
      "3151/3151 [==============================] - 1s 442us/sample - loss: 3.6088 - val_loss: 2.0478\n",
      "Epoch 2/20\n",
      "3151/3151 [==============================] - 0s 122us/sample - loss: 1.2851 - val_loss: 0.3019\n",
      "Epoch 3/20\n",
      "3151/3151 [==============================] - 0s 101us/sample - loss: 0.3515 - val_loss: -0.1565\n",
      "Epoch 4/20\n",
      "3151/3151 [==============================] - 0s 101us/sample - loss: -0.0315 - val_loss: -0.3844\n",
      "Epoch 5/20\n",
      "3151/3151 [==============================] - 0s 101us/sample - loss: -0.1873 - val_loss: -0.4897\n",
      "Epoch 6/20\n",
      "3151/3151 [==============================] - 0s 97us/sample - loss: -0.2879 - val_loss: -0.5525\n",
      "Epoch 7/20\n",
      "3151/3151 [==============================] - 0s 100us/sample - loss: -0.3567 - val_loss: -0.6411\n",
      "Epoch 8/20\n",
      "3151/3151 [==============================] - 0s 101us/sample - loss: -0.4196 - val_loss: -0.7171\n",
      "Epoch 9/20\n",
      "3151/3151 [==============================] - 0s 102us/sample - loss: -0.4985 - val_loss: -0.7813\n",
      "Epoch 10/20\n",
      "3151/3151 [==============================] - 0s 99us/sample - loss: -0.5565 - val_loss: -0.8306\n",
      "Epoch 11/20\n",
      "3151/3151 [==============================] - 0s 100us/sample - loss: -0.5979 - val_loss: -0.8695\n",
      "Epoch 12/20\n",
      "3151/3151 [==============================] - 0s 99us/sample - loss: -0.6516 - val_loss: -0.9118\n",
      "Epoch 13/20\n",
      "3151/3151 [==============================] - 0s 116us/sample - loss: -0.6923 - val_loss: -0.9603\n",
      "Epoch 14/20\n",
      "3151/3151 [==============================] - 0s 101us/sample - loss: -0.7422 - val_loss: -1.0036\n",
      "Epoch 15/20\n",
      "3151/3151 [==============================] - 0s 101us/sample - loss: -0.7918 - val_loss: -1.0618\n",
      "Epoch 16/20\n",
      "3151/3151 [==============================] - 0s 101us/sample - loss: -0.8339 - val_loss: -1.0928\n",
      "Epoch 17/20\n",
      "3151/3151 [==============================] - 0s 98us/sample - loss: -0.8701 - val_loss: -1.1137\n",
      "Epoch 18/20\n",
      "3151/3151 [==============================] - 0s 102us/sample - loss: -0.8955 - val_loss: -1.1617\n",
      "Epoch 19/20\n",
      "3151/3151 [==============================] - 0s 101us/sample - loss: -0.9418 - val_loss: -1.1938\n",
      "Epoch 20/20\n",
      "3151/3151 [==============================] - 0s 96us/sample - loss: -0.9775 - val_loss: -1.2302\n"
     ]
    },
    {
     "data": {
      "text/plain": [
       "<tensorflow.python.keras.callbacks.History at 0x7f67842ad6d0>"
      ]
     },
     "execution_count": 66,
     "metadata": {},
     "output_type": "execute_result"
    }
   ],
   "source": [
    "## format the input data\n",
    "dM_train = np.delete(mags,0)\n",
    "\n",
    "dT_train = np.ediff1d(times) # transform a series of timestamps to a series of interevent intervals: T_train -> dT_train\n",
    "n = dT_train.shape[0]\n",
    "n2 = dM_train.shape[0]\n",
    "input_RNN_times = np.array( [ dT_train[i:i+time_step] for i in range(n-time_step) ]).reshape(n-time_step,time_step,1)\n",
    "input_RNN_mags = np.array( [ dM_train[i:i+time_step] for i in range(n2-time_step) ]).reshape(n2-time_step,time_step,1)\n",
    "input_RNN = np.concatenate((input_RNN_times,input_RNN_mags),axis=2)\n",
    "input_CHFN = dT_train[-n+time_step:].reshape(n-time_step,1)\n",
    "input_CMFN =dM_train[-n+time_step:].reshape(n-time_step,1)\n",
    "\n",
    "\n",
    "## training \n",
    "model.compile(keras.optimizers.Adam(lr=0.001))\n",
    "model.fit([input_RNN,input_CHFN,input_CMFN],epochs=20,batch_size=256,validation_split=0.2) # In our study, we have set epochs = 100 and employed early stopping. Please see code.ipynb for more details."
   ]
  },
  {
   "cell_type": "code",
   "execution_count": 18,
   "id": "worthy-prague",
   "metadata": {},
   "outputs": [],
   "source": [
    "[l_test,Int_l_test,l_mag_test,Int_mag_test] = model.predict([input_RNN,input_CHFN,input_CMFN],batch_size=input_RNN.shape[0])"
   ]
  },
  {
   "cell_type": "code",
   "execution_count": 19,
   "id": "thorough-decrease",
   "metadata": {},
   "outputs": [
    {
     "data": {
      "text/plain": [
       "(3979, 1)"
      ]
     },
     "execution_count": 19,
     "metadata": {},
     "output_type": "execute_result"
    }
   ],
   "source": [
    "l_test.shape"
   ]
  },
  {
   "cell_type": "code",
   "execution_count": 20,
   "id": "proud-corruption",
   "metadata": {},
   "outputs": [
    {
     "data": {
      "text/plain": [
       "(3979,)"
      ]
     },
     "execution_count": 20,
     "metadata": {},
     "output_type": "execute_result"
    }
   ],
   "source": [
    "times[21:].shape"
   ]
  },
  {
   "cell_type": "code",
   "execution_count": null,
   "id": "protecting-volunteer",
   "metadata": {},
   "outputs": [],
   "source": [
    "timesplot=times[21:]\n",
    "lam=lam[21:]"
   ]
  },
  {
   "cell_type": "code",
   "execution_count": 22,
   "id": "behavioral-calcium",
   "metadata": {},
   "outputs": [
    {
     "ename": "TypeError",
     "evalue": "'float' object is not callable",
     "output_type": "error",
     "traceback": [
      "\u001b[0;31m---------------------------------------------------------------------------\u001b[0m",
      "\u001b[0;31mTypeError\u001b[0m                                 Traceback (most recent call last)",
      "\u001b[0;32m<ipython-input-22-2292dd4a97fc>\u001b[0m in \u001b[0;36m<module>\u001b[0;34m\u001b[0m\n\u001b[0;32m----> 1\u001b[0;31m \u001b[0mscale\u001b[0m \u001b[0;34m=\u001b[0m \u001b[0mgamma\u001b[0m\u001b[0;34m(\u001b[0m\u001b[0;34m-\u001b[0m\u001b[0mw\u001b[0m\u001b[0;34m)\u001b[0m\u001b[0;34m\u001b[0m\u001b[0;34m\u001b[0m\u001b[0m\n\u001b[0m\u001b[1;32m      2\u001b[0m \u001b[0mscale\u001b[0m\u001b[0;34m\u001b[0m\u001b[0;34m\u001b[0m\u001b[0m\n",
      "\u001b[0;31mTypeError\u001b[0m: 'float' object is not callable"
     ]
    }
   ],
   "source": [
    "scale = gamma(-w)\n",
    "scale"
   ]
  },
  {
   "cell_type": "code",
   "execution_count": 91,
   "id": "joint-geneva",
   "metadata": {},
   "outputs": [
    {
     "data": {
      "text/plain": [
       "<matplotlib.legend.Legend at 0x7f6787a9a8d0>"
      ]
     },
     "execution_count": 91,
     "metadata": {},
     "output_type": "execute_result"
    },
    {
     "data": {
      "image/png": "[encoded data removed]",
      "text/plain": [
       "<Figure size 432x288 with 1 Axes>"
      ]
     },
     "metadata": {
      "needs_background": "light"
     },
     "output_type": "display_data"
    }
   ],
   "source": [
    "i = 1500\n",
    "index=range(i,i+10)\n",
    "plt.plot(timesplot[index],l_test[index],label='predicted')\n",
    "plt.plot(timesplot[index],0.075*lam[index],label='true')\n",
    "plt.legend()"
   ]
  },
  {
   "cell_type": "code",
   "execution_count": 70,
   "id": "adjacent-serbia",
   "metadata": {},
   "outputs": [
    {
     "data": {
      "text/plain": [
       "[<matplotlib.lines.Line2D at 0x7f67dcec7f90>]"
      ]
     },
     "execution_count": 70,
     "metadata": {},
     "output_type": "execute_result"
    },
    {
     "data": {
      "image/png": "[encoded data removed]",
      "text/plain": [
       "<Figure size 432x288 with 1 Axes>"
      ]
     },
     "metadata": {
      "needs_background": "light"
     },
     "output_type": "display_data"
    }
   ],
   "source": [
    "plt.plot(l_test[:,0]/lam)"
   ]
  },
  {
   "cell_type": "code",
   "execution_count": null,
   "id": "piano-oliver",
   "metadata": {},
   "outputs": [],
   "source": [
    "binwidth=0.5\n",
    "plt.hist(dT_train,bins=np.arange(min(dT_train), max(dT_train) + binwidth, binwidth),density=True)"
   ]
  }
 ],
 "metadata": {
  "kernelspec": {
   "display_name": "Python 3",
   "language": "python",
   "name": "python3"
  },
  "language_info": {
   "codemirror_mode": {
    "name": "ipython",
    "version": 3
   },
   "file_extension": ".py",
   "mimetype": "text/x-python",
   "name": "python",
   "nbconvert_exporter": "python",
   "pygments_lexer": "ipython3",
   "version": "3.7.10"
  }
 },
 "nbformat": 4,
 "nbformat_minor": 5
}
