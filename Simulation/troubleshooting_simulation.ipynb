{
 "cells": [
  {
   "cell_type": "markdown",
   "id": "norman-socket",
   "metadata": {},
   "source": [
    "# Troubleshooting Simulation "
   ]
  },
  {
   "cell_type": "code",
   "execution_count": 1,
   "id": "compound-stuff",
   "metadata": {},
   "outputs": [],
   "source": [
    "import csv\n",
    "import numpy as np\n",
    "import datetime as dt\n",
    "from shapely.geometry import Polygon\n",
    "import pandas as pd\n",
    "import matplotlib.pyplot as plt\n",
    "\n",
    "from simulation import generate_catalog, simulate_aftershock_time\n",
    "from inversion import round_half_up, polygon_surface, expected_aftershocks\n",
    "\n",
    "from scipy.special import gammaincc, gammainccinv, gamma, gammainc\n",
    "from scipy.stats import gaussian_kde\n",
    "\n",
    "import tensorflow as tf\n",
    "import tensorflow.keras as keras\n",
    "from tensorflow.keras import layers\n",
    "from tensorflow.keras import backend as K\n",
    "from tensorflow.keras.models import Model"
   ]
  },
  {
   "cell_type": "code",
   "execution_count": 4,
   "id": "isolated-florence",
   "metadata": {},
   "outputs": [
    {
     "name": "stderr",
     "output_type": "stream",
     "text": [
      "/home/ss15859/anaconda3/envs/py-37-keras-21/lib/python3.7/site-packages/pyproj/crs/crs.py:53: FutureWarning: '+init=<authority>:<code>' syntax is deprecated. '<authority>:<code>' is the preferred initialization method. When making the change, be mindful of axis order changes: https://pyproj4.github.io/pyproj/stable/gotchas.html#axis-order-changes-in-proj-6\n",
      "  return _prepare_from_string(\" \".join(pjargs))\n",
      "/home/ss15859/anaconda3/envs/py-37-keras-21/lib/python3.7/site-packages/pyproj/crs/crs.py:294: FutureWarning: '+init=<authority>:<code>' syntax is deprecated. '<authority>:<code>' is the preferred initialization method. When making the change, be mindful of axis order changes: https://pyproj4.github.io/pyproj/stable/gotchas.html#axis-order-changes-in-proj-6\n",
      "  projstring = _prepare_from_string(\" \".join((projstring, projkwargs)))\n"
     ]
    }
   ],
   "source": [
    "shape_coords = [list([a[1], a[0]]) for a in (np.load(\"california_shape.npy\"))]\n",
    "caliregion = Polygon(shape_coords)\n",
    "area = polygon_surface(caliregion)\n",
    "burn_start = dt.datetime(1871, 1, 1)\n",
    "primary_start = dt.datetime(1871, 1, 1)\n",
    "end = dt.datetime(2021, 1, 1)\n",
    "\n",
    "\n",
    "mc=3.6\n",
    "beta=2.4\n",
    "\n",
    "params = {\n",
    "    'log10_mu': -7.5,\n",
    "    'log10_k0': -2.49,\n",
    "    'a': 1.69,\n",
    "    'log10_c': -2.95,\n",
    "    'omega': -0.02,\n",
    "    'log10_tau': 10.99,\n",
    "    'log10_d': -0.35,\n",
    "    'gamma': 1.22,\n",
    "    'rho': 0.51,\n",
    "    'M0': mc,\n",
    "    'beta': beta\n",
    "    }"
   ]
  },
  {
   "cell_type": "code",
   "execution_count": 5,
   "id": "satisfied-lending",
   "metadata": {},
   "outputs": [
    {
     "name": "stdout",
     "output_type": "stream",
     "text": [
      "generating background events..\n"
     ]
    },
    {
     "name": "stderr",
     "output_type": "stream",
     "text": [
      "/home/ss15859/anaconda3/envs/py-37-keras-21/lib/python3.7/site-packages/pyproj/crs/crs.py:53: FutureWarning: '+init=<authority>:<code>' syntax is deprecated. '<authority>:<code>' is the preferred initialization method. When making the change, be mindful of axis order changes: https://pyproj4.github.io/pyproj/stable/gotchas.html#axis-order-changes-in-proj-6\n",
      "  return _prepare_from_string(\" \".join(pjargs))\n",
      "/home/ss15859/anaconda3/envs/py-37-keras-21/lib/python3.7/site-packages/pyproj/crs/crs.py:294: FutureWarning: '+init=<authority>:<code>' syntax is deprecated. '<authority>:<code>' is the preferred initialization method. When making the change, be mindful of axis order changes: https://pyproj4.github.io/pyproj/stable/gotchas.html#axis-order-changes-in-proj-6\n",
      "  projstring = _prepare_from_string(\" \".join((projstring, projkwargs)))\n",
      "/home/ss15859/anaconda3/envs/py-37-keras-21/lib/python3.7/site-packages/pyproj/crs/crs.py:53: FutureWarning: '+init=<authority>:<code>' syntax is deprecated. '<authority>:<code>' is the preferred initialization method. When making the change, be mindful of axis order changes: https://pyproj4.github.io/pyproj/stable/gotchas.html#axis-order-changes-in-proj-6\n",
      "  return _prepare_from_string(\" \".join(pjargs))\n",
      "/home/ss15859/anaconda3/envs/py-37-keras-21/lib/python3.7/site-packages/pyproj/crs/crs.py:294: FutureWarning: '+init=<authority>:<code>' syntax is deprecated. '<authority>:<code>' is the preferred initialization method. When making the change, be mindful of axis order changes: https://pyproj4.github.io/pyproj/stable/gotchas.html#axis-order-changes-in-proj-6\n",
      "  projstring = _prepare_from_string(\" \".join((projstring, projkwargs)))\n"
     ]
    },
    {
     "name": "stdout",
     "output_type": "stream",
     "text": [
      "  number of background events needed: 1673\n",
      "  generating 1673 to throw away those outside the polygon\n",
      "  number of background events: 1673\n",
      "\n",
      "  branching ratio: 2.078177901862884\n",
      "  expected total number of events (if time were infinite): -1551.6919769078718\n",
      "\n",
      "\n",
      "simulating aftershocks of generation 0 ..\n",
      "  number of events with aftershocks: 1368\n",
      "  number of generated aftershocks: 1576\n",
      "\n",
      "\n",
      "simulating aftershocks of generation 1 ..\n",
      "  number of events with aftershocks: 1296\n",
      "  number of generated aftershocks: 1561\n",
      "\n",
      "\n",
      "simulating aftershocks of generation 2 ..\n",
      "  number of events with aftershocks: 1289\n",
      "  number of generated aftershocks: 1478\n",
      "\n",
      "\n",
      "simulating aftershocks of generation 3 ..\n",
      "  number of events with aftershocks: 1201\n",
      "  number of generated aftershocks: 1337\n",
      "\n",
      "\n",
      "simulating aftershocks of generation 4 ..\n",
      "  number of events with aftershocks: 1073\n",
      "  number of generated aftershocks: 1168\n",
      "\n",
      "\n",
      "simulating aftershocks of generation 5 ..\n",
      "  number of events with aftershocks: 937\n",
      "  number of generated aftershocks: 1059\n",
      "\n",
      "\n",
      "simulating aftershocks of generation 6 ..\n",
      "  number of events with aftershocks: 875\n",
      "  number of generated aftershocks: 998\n",
      "\n",
      "\n",
      "simulating aftershocks of generation 7 ..\n",
      "  number of events with aftershocks: 812\n",
      "  number of generated aftershocks: 889\n",
      "\n",
      "\n",
      "simulating aftershocks of generation 8 ..\n",
      "  number of events with aftershocks: 696\n",
      "  number of generated aftershocks: 777\n",
      "\n",
      "\n",
      "simulating aftershocks of generation 9 ..\n",
      "  number of events with aftershocks: 640\n",
      "  number of generated aftershocks: 728\n",
      "\n",
      "\n",
      "simulating aftershocks of generation 10 ..\n",
      "  number of events with aftershocks: 593\n",
      "  number of generated aftershocks: 654\n",
      "\n",
      "\n",
      "simulating aftershocks of generation 11 ..\n",
      "  number of events with aftershocks: 534\n",
      "  number of generated aftershocks: 567\n",
      "\n",
      "\n",
      "simulating aftershocks of generation 12 ..\n",
      "  number of events with aftershocks: 463\n",
      "  number of generated aftershocks: 495\n",
      "\n",
      "\n",
      "simulating aftershocks of generation 13 ..\n",
      "  number of events with aftershocks: 399\n",
      "  number of generated aftershocks: 486\n",
      "\n",
      "\n",
      "simulating aftershocks of generation 14 ..\n",
      "  number of events with aftershocks: 394\n",
      "  number of generated aftershocks: 446\n",
      "\n",
      "\n",
      "simulating aftershocks of generation 15 ..\n",
      "  number of events with aftershocks: 355\n",
      "  number of generated aftershocks: 398\n",
      "\n",
      "\n",
      "simulating aftershocks of generation 16 ..\n",
      "  number of events with aftershocks: 341\n",
      "  number of generated aftershocks: 338\n",
      "\n",
      "\n",
      "simulating aftershocks of generation 17 ..\n",
      "  number of events with aftershocks: 280\n",
      "  number of generated aftershocks: 288\n",
      "\n",
      "\n",
      "simulating aftershocks of generation 18 ..\n",
      "  number of events with aftershocks: 244\n",
      "  number of generated aftershocks: 266\n",
      "\n",
      "\n",
      "simulating aftershocks of generation 19 ..\n",
      "  number of events with aftershocks: 220\n",
      "  number of generated aftershocks: 257\n",
      "\n",
      "\n",
      "simulating aftershocks of generation 20 ..\n",
      "  number of events with aftershocks: 211\n",
      "  number of generated aftershocks: 237\n",
      "\n",
      "\n",
      "simulating aftershocks of generation 21 ..\n",
      "  number of events with aftershocks: 187\n",
      "  number of generated aftershocks: 194\n",
      "\n",
      "\n",
      "simulating aftershocks of generation 22 ..\n",
      "  number of events with aftershocks: 165\n",
      "  number of generated aftershocks: 160\n",
      "\n",
      "\n",
      "simulating aftershocks of generation 23 ..\n",
      "  number of events with aftershocks: 132\n",
      "  number of generated aftershocks: 148\n",
      "\n",
      "\n",
      "simulating aftershocks of generation 24 ..\n",
      "  number of events with aftershocks: 115\n",
      "  number of generated aftershocks: 148\n",
      "\n",
      "\n",
      "simulating aftershocks of generation 25 ..\n",
      "  number of events with aftershocks: 125\n",
      "  number of generated aftershocks: 135\n",
      "\n",
      "\n",
      "simulating aftershocks of generation 26 ..\n",
      "  number of events with aftershocks: 106\n",
      "  number of generated aftershocks: 140\n",
      "\n",
      "\n",
      "simulating aftershocks of generation 27 ..\n",
      "  number of events with aftershocks: 116\n",
      "  number of generated aftershocks: 98\n",
      "\n",
      "\n",
      "simulating aftershocks of generation 28 ..\n",
      "  number of events with aftershocks: 80\n",
      "  number of generated aftershocks: 111\n",
      "\n",
      "\n",
      "simulating aftershocks of generation 29 ..\n",
      "  number of events with aftershocks: 88\n",
      "  number of generated aftershocks: 88\n",
      "\n",
      "\n",
      "simulating aftershocks of generation 30 ..\n",
      "  number of events with aftershocks: 68\n",
      "  number of generated aftershocks: 66\n",
      "\n",
      "\n",
      "simulating aftershocks of generation 31 ..\n",
      "  number of events with aftershocks: 54\n",
      "  number of generated aftershocks: 53\n",
      "\n",
      "\n",
      "simulating aftershocks of generation 32 ..\n",
      "  number of events with aftershocks: 41\n",
      "  number of generated aftershocks: 49\n",
      "\n",
      "\n",
      "simulating aftershocks of generation 33 ..\n",
      "  number of events with aftershocks: 39\n",
      "  number of generated aftershocks: 49\n",
      "\n",
      "\n",
      "simulating aftershocks of generation 34 ..\n",
      "  number of events with aftershocks: 46\n",
      "  number of generated aftershocks: 43\n",
      "\n",
      "\n",
      "simulating aftershocks of generation 35 ..\n",
      "  number of events with aftershocks: 37\n",
      "  number of generated aftershocks: 37\n",
      "\n",
      "\n",
      "simulating aftershocks of generation 36 ..\n",
      "  number of events with aftershocks: 32\n",
      "  number of generated aftershocks: 57\n",
      "\n",
      "\n",
      "simulating aftershocks of generation 37 ..\n",
      "  number of events with aftershocks: 45\n",
      "  number of generated aftershocks: 49\n",
      "\n",
      "\n",
      "simulating aftershocks of generation 38 ..\n",
      "  number of events with aftershocks: 41\n",
      "  number of generated aftershocks: 52\n",
      "\n",
      "\n",
      "simulating aftershocks of generation 39 ..\n",
      "  number of events with aftershocks: 42\n",
      "  number of generated aftershocks: 34\n",
      "\n",
      "\n",
      "simulating aftershocks of generation 40 ..\n",
      "  number of events with aftershocks: 27\n",
      "  number of generated aftershocks: 24\n",
      "\n",
      "\n",
      "simulating aftershocks of generation 41 ..\n",
      "  number of events with aftershocks: 20\n",
      "  number of generated aftershocks: 20\n",
      "\n",
      "\n",
      "simulating aftershocks of generation 42 ..\n",
      "  number of events with aftershocks: 18\n",
      "  number of generated aftershocks: 18\n",
      "\n",
      "\n",
      "simulating aftershocks of generation 43 ..\n",
      "  number of events with aftershocks: 14\n",
      "  number of generated aftershocks: 15\n",
      "\n",
      "\n",
      "simulating aftershocks of generation 44 ..\n",
      "  number of events with aftershocks: 13\n",
      "  number of generated aftershocks: 13\n",
      "\n",
      "\n",
      "simulating aftershocks of generation 45 ..\n",
      "  number of events with aftershocks: 9\n",
      "  number of generated aftershocks: 4\n",
      "\n",
      "\n",
      "simulating aftershocks of generation 46 ..\n",
      "  number of events with aftershocks: 4\n",
      "  number of generated aftershocks: 5\n",
      "\n",
      "\n",
      "simulating aftershocks of generation 47 ..\n",
      "  number of events with aftershocks: 4\n",
      "  number of generated aftershocks: 4\n",
      "\n",
      "\n",
      "simulating aftershocks of generation 48 ..\n",
      "  number of events with aftershocks: 2\n",
      "  number of generated aftershocks: 0\n",
      "\n",
      "\n",
      "simulating aftershocks of generation 49 ..\n",
      "  number of events with aftershocks: 0\n",
      "\n",
      "\n",
      "total events simulated!: 19490\n",
      "inside the polygon: 19490\n"
     ]
    }
   ],
   "source": [
    "synthetic = generate_catalog(\n",
    "        polygon=caliregion,\n",
    "        timewindow_start=burn_start,\n",
    "        timewindow_end=end,\n",
    "        parameters=params,\n",
    "        mc=mc,\n",
    "        beta_main=beta,\n",
    "        \n",
    "    )\n"
   ]
  },
  {
   "cell_type": "code",
   "execution_count": 6,
   "id": "local-producer",
   "metadata": {},
   "outputs": [],
   "source": [
    "synthetic = synthetic[[\"latitude\", \"longitude\", \"time\", \"magnitude\"]]\n"
   ]
  },
  {
   "cell_type": "code",
   "execution_count": 7,
   "id": "incorporate-resort",
   "metadata": {},
   "outputs": [
    {
     "data": {
      "text/html": [
       "<div>\n",
       "<style scoped>\n",
       "    .dataframe tbody tr th:only-of-type {\n",
       "        vertical-align: middle;\n",
       "    }\n",
       "\n",
       "    .dataframe tbody tr th {\n",
       "        vertical-align: top;\n",
       "    }\n",
       "\n",
       "    .dataframe thead th {\n",
       "        text-align: right;\n",
       "    }\n",
       "</style>\n",
       "<table border=\"1\" class=\"dataframe\">\n",
       "  <thead>\n",
       "    <tr style=\"text-align: right;\">\n",
       "      <th></th>\n",
       "      <th>latitude</th>\n",
       "      <th>longitude</th>\n",
       "      <th>time</th>\n",
       "      <th>magnitude</th>\n",
       "    </tr>\n",
       "  </thead>\n",
       "  <tbody>\n",
       "    <tr>\n",
       "      <th>1</th>\n",
       "      <td>36</td>\n",
       "      <td>-122</td>\n",
       "      <td>1871-01-04 06:39:38.465941000</td>\n",
       "      <td>3.667194</td>\n",
       "    </tr>\n",
       "    <tr>\n",
       "      <th>2</th>\n",
       "      <td>36</td>\n",
       "      <td>-122</td>\n",
       "      <td>1871-01-12 00:44:10.780259000</td>\n",
       "      <td>3.779781</td>\n",
       "    </tr>\n",
       "    <tr>\n",
       "      <th>3</th>\n",
       "      <td>36</td>\n",
       "      <td>-122</td>\n",
       "      <td>1871-01-23 22:12:08.105387000</td>\n",
       "      <td>4.019202</td>\n",
       "    </tr>\n",
       "    <tr>\n",
       "      <th>4</th>\n",
       "      <td>36</td>\n",
       "      <td>-122</td>\n",
       "      <td>1871-03-11 21:53:39.562020000</td>\n",
       "      <td>3.659253</td>\n",
       "    </tr>\n",
       "    <tr>\n",
       "      <th>5</th>\n",
       "      <td>36</td>\n",
       "      <td>-122</td>\n",
       "      <td>1871-03-28 00:16:47.148537000</td>\n",
       "      <td>4.148422</td>\n",
       "    </tr>\n",
       "    <tr>\n",
       "      <th>...</th>\n",
       "      <td>...</td>\n",
       "      <td>...</td>\n",
       "      <td>...</td>\n",
       "      <td>...</td>\n",
       "    </tr>\n",
       "    <tr>\n",
       "      <th>19486</th>\n",
       "      <td>36</td>\n",
       "      <td>-122</td>\n",
       "      <td>1993-08-27 03:47:18.652747798</td>\n",
       "      <td>3.668118</td>\n",
       "    </tr>\n",
       "    <tr>\n",
       "      <th>19487</th>\n",
       "      <td>36</td>\n",
       "      <td>-122</td>\n",
       "      <td>1982-12-22 07:06:19.392490995</td>\n",
       "      <td>4.181624</td>\n",
       "    </tr>\n",
       "    <tr>\n",
       "      <th>19488</th>\n",
       "      <td>36</td>\n",
       "      <td>-122</td>\n",
       "      <td>2005-03-31 11:43:33.613662197</td>\n",
       "      <td>3.918438</td>\n",
       "    </tr>\n",
       "    <tr>\n",
       "      <th>19489</th>\n",
       "      <td>36</td>\n",
       "      <td>-122</td>\n",
       "      <td>1993-03-18 00:00:51.742901398</td>\n",
       "      <td>3.753223</td>\n",
       "    </tr>\n",
       "    <tr>\n",
       "      <th>19490</th>\n",
       "      <td>36</td>\n",
       "      <td>-122</td>\n",
       "      <td>1993-08-03 23:10:02.856158998</td>\n",
       "      <td>3.887296</td>\n",
       "    </tr>\n",
       "  </tbody>\n",
       "</table>\n",
       "<p>19490 rows × 4 columns</p>\n",
       "</div>"
      ],
      "text/plain": [
       "       latitude  longitude                          time  magnitude\n",
       "1            36       -122 1871-01-04 06:39:38.465941000   3.667194\n",
       "2            36       -122 1871-01-12 00:44:10.780259000   3.779781\n",
       "3            36       -122 1871-01-23 22:12:08.105387000   4.019202\n",
       "4            36       -122 1871-03-11 21:53:39.562020000   3.659253\n",
       "5            36       -122 1871-03-28 00:16:47.148537000   4.148422\n",
       "...         ...        ...                           ...        ...\n",
       "19486        36       -122 1993-08-27 03:47:18.652747798   3.668118\n",
       "19487        36       -122 1982-12-22 07:06:19.392490995   4.181624\n",
       "19488        36       -122 2005-03-31 11:43:33.613662197   3.918438\n",
       "19489        36       -122 1993-03-18 00:00:51.742901398   3.753223\n",
       "19490        36       -122 1993-08-03 23:10:02.856158998   3.887296\n",
       "\n",
       "[19490 rows x 4 columns]"
      ]
     },
     "execution_count": 7,
     "metadata": {},
     "output_type": "execute_result"
    }
   ],
   "source": [
    "synthetic"
   ]
  },
  {
   "cell_type": "code",
   "execution_count": 8,
   "id": "violent-clarity",
   "metadata": {},
   "outputs": [
    {
     "data": {
      "text/html": [
       "<div>\n",
       "<style scoped>\n",
       "    .dataframe tbody tr th:only-of-type {\n",
       "        vertical-align: middle;\n",
       "    }\n",
       "\n",
       "    .dataframe tbody tr th {\n",
       "        vertical-align: top;\n",
       "    }\n",
       "\n",
       "    .dataframe thead th {\n",
       "        text-align: right;\n",
       "    }\n",
       "</style>\n",
       "<table border=\"1\" class=\"dataframe\">\n",
       "  <thead>\n",
       "    <tr style=\"text-align: right;\">\n",
       "      <th></th>\n",
       "      <th>latitude</th>\n",
       "      <th>longitude</th>\n",
       "      <th>time</th>\n",
       "      <th>magnitude</th>\n",
       "    </tr>\n",
       "  </thead>\n",
       "  <tbody>\n",
       "    <tr>\n",
       "      <th>1</th>\n",
       "      <td>36</td>\n",
       "      <td>-122</td>\n",
       "      <td>1871-01-04 06:39:38.465941000</td>\n",
       "      <td>3.667194</td>\n",
       "    </tr>\n",
       "    <tr>\n",
       "      <th>1674</th>\n",
       "      <td>36</td>\n",
       "      <td>-122</td>\n",
       "      <td>1871-01-05 22:14:24.044696200</td>\n",
       "      <td>3.709956</td>\n",
       "    </tr>\n",
       "    <tr>\n",
       "      <th>2</th>\n",
       "      <td>36</td>\n",
       "      <td>-122</td>\n",
       "      <td>1871-01-12 00:44:10.780259000</td>\n",
       "      <td>3.779781</td>\n",
       "    </tr>\n",
       "    <tr>\n",
       "      <th>3</th>\n",
       "      <td>36</td>\n",
       "      <td>-122</td>\n",
       "      <td>1871-01-23 22:12:08.105387000</td>\n",
       "      <td>4.019202</td>\n",
       "    </tr>\n",
       "    <tr>\n",
       "      <th>1675</th>\n",
       "      <td>36</td>\n",
       "      <td>-122</td>\n",
       "      <td>1871-03-01 02:28:14.121611000</td>\n",
       "      <td>3.743835</td>\n",
       "    </tr>\n",
       "    <tr>\n",
       "      <th>...</th>\n",
       "      <td>...</td>\n",
       "      <td>...</td>\n",
       "      <td>...</td>\n",
       "      <td>...</td>\n",
       "    </tr>\n",
       "    <tr>\n",
       "      <th>18454</th>\n",
       "      <td>36</td>\n",
       "      <td>-122</td>\n",
       "      <td>2020-12-27 19:43:27.730141600</td>\n",
       "      <td>4.344444</td>\n",
       "    </tr>\n",
       "    <tr>\n",
       "      <th>18593</th>\n",
       "      <td>36</td>\n",
       "      <td>-122</td>\n",
       "      <td>2020-12-27 19:49:57.252186400</td>\n",
       "      <td>3.979497</td>\n",
       "    </tr>\n",
       "    <tr>\n",
       "      <th>18594</th>\n",
       "      <td>36</td>\n",
       "      <td>-122</td>\n",
       "      <td>2020-12-27 21:43:18.283655200</td>\n",
       "      <td>3.782925</td>\n",
       "    </tr>\n",
       "    <tr>\n",
       "      <th>8793</th>\n",
       "      <td>36</td>\n",
       "      <td>-122</td>\n",
       "      <td>2020-12-28 23:06:13.243381199</td>\n",
       "      <td>3.855690</td>\n",
       "    </tr>\n",
       "    <tr>\n",
       "      <th>9852</th>\n",
       "      <td>36</td>\n",
       "      <td>-122</td>\n",
       "      <td>2020-12-28 23:46:16.080949199</td>\n",
       "      <td>4.314920</td>\n",
       "    </tr>\n",
       "  </tbody>\n",
       "</table>\n",
       "<p>19490 rows × 4 columns</p>\n",
       "</div>"
      ],
      "text/plain": [
       "       latitude  longitude                          time  magnitude\n",
       "1            36       -122 1871-01-04 06:39:38.465941000   3.667194\n",
       "1674         36       -122 1871-01-05 22:14:24.044696200   3.709956\n",
       "2            36       -122 1871-01-12 00:44:10.780259000   3.779781\n",
       "3            36       -122 1871-01-23 22:12:08.105387000   4.019202\n",
       "1675         36       -122 1871-03-01 02:28:14.121611000   3.743835\n",
       "...         ...        ...                           ...        ...\n",
       "18454        36       -122 2020-12-27 19:43:27.730141600   4.344444\n",
       "18593        36       -122 2020-12-27 19:49:57.252186400   3.979497\n",
       "18594        36       -122 2020-12-27 21:43:18.283655200   3.782925\n",
       "8793         36       -122 2020-12-28 23:06:13.243381199   3.855690\n",
       "9852         36       -122 2020-12-28 23:46:16.080949199   4.314920\n",
       "\n",
       "[19490 rows x 4 columns]"
      ]
     },
     "execution_count": 8,
     "metadata": {},
     "output_type": "execute_result"
    }
   ],
   "source": [
    "synthetic = synthetic.sort_values('time')\n",
    "synthetic"
   ]
  },
  {
   "cell_type": "code",
   "execution_count": 9,
   "id": "meaningful-mission",
   "metadata": {},
   "outputs": [],
   "source": [
    "dates = np.array(synthetic['time'])\n",
    "delta_times = (dates-dates[0])\n",
    "times=delta_times/ np.timedelta64(1, 'D')"
   ]
  },
  {
   "cell_type": "code",
   "execution_count": 10,
   "id": "consecutive-grain",
   "metadata": {},
   "outputs": [],
   "source": [
    "mags = np.array(synthetic['magnitude'])"
   ]
  },
  {
   "cell_type": "markdown",
   "id": "systematic-panic",
   "metadata": {},
   "source": [
    "$$ g(t,x,y,m) = \\frac{k_0 \\cdot e^{a(m-m_c)} }{\\frac{(t+c)^{1+\\omega}}{e^{-t/\\tau}} \\cdot\\left((x^2+y^2)+d \\cdot e^{\\gamma(m-m_c)}\\right)^{1+\\rho} }$$"
   ]
  },
  {
   "cell_type": "markdown",
   "id": "monetary-screw",
   "metadata": {},
   "source": [
    "To simply this to only temporal, we can take the same parameter values and just ensure that $x$ and $y$ are always zero. The triggering function then becomes:\n",
    "$$ g(t,m) = \\frac{k_0 \\cdot e^{a(m-m_c)} }{\\frac{(t+c)^{1+\\omega}}{e^{-t/\\tau}} \\cdot\\left(d \\cdot e^{\\gamma(m-m_c)}\\right)^{1+\\rho} }$$"
   ]
  },
  {
   "cell_type": "markdown",
   "id": "pretty-macintosh",
   "metadata": {},
   "source": [
    "The intensity at time $t$ is:\n",
    "\\begin{align*} \\lambda(t) &= \\mu + \\sum_{t_i<t} g(t-t_i,m_i) \\\\\n",
    "&= \\mu + \\sum_{t_i<t} h(t-t_i) k(m_i)\n",
    "\\end{align*}"
   ]
  },
  {
   "cell_type": "markdown",
   "id": "distinguished-soldier",
   "metadata": {},
   "source": [
    "Where,\n",
    "$$h(t) = \\frac{e^{-t/\\tau}}{(t+c)^{1+\\omega}}$$"
   ]
  },
  {
   "cell_type": "markdown",
   "id": "recorded-companion",
   "metadata": {},
   "source": [
    "$$k(m) = \\frac{k_0 \\cdot e^{a(m-m_c)}}{\\left(d \\cdot e^{\\gamma(m-m_c)}\\right)^{1+\\rho} } $$"
   ]
  },
  {
   "cell_type": "code",
   "execution_count": 11,
   "id": "canadian-peripheral",
   "metadata": {},
   "outputs": [],
   "source": [
    "tau=10**float(params[\"log10_tau\"])\n",
    "c= 10**float(params[\"log10_c\"])\n",
    "w = float(params[\"omega\"])\n",
    "k0 = 10**float(params[\"log10_k0\"])\n",
    "alpha = float(params[\"a\"])\n",
    "M0 = float(params[\"M0\"])\n",
    "d = 10**float(params[\"log10_d\"])\n",
    "rho = float(params[\"rho\"])\n",
    "ground = 10**float(params[\"log10_mu\"])\n",
    "gama = float(params[\"gamma\"])\n",
    "beta = float(params[\"beta\"])\n",
    "\n",
    "\n",
    "# def h(t):\n",
    "#     return np.exp(-t/tau)/((t+c)**(1+w))\n",
    "\n",
    "# def k(m):\n",
    "#     return k0 * np.exp(alpha * (m - M0))/((d*np.exp(gamma*(m-M0)))**(1+rho))\n",
    "\n",
    "\n",
    "scale = 1/(gamma(-w)*np.power(tau,-1*w))\n",
    "\n",
    "def upper_gamma_ext(a, x):\n",
    "    if a > 0:\n",
    "        return gammaincc(a, x) * gamma(a)\n",
    "    elif a == 0:\n",
    "        return exp1(x)\n",
    "    else:\n",
    "        return (upper_gamma_ext(a + 1, x) - np.power(x, a)*np.exp(-x)) / a\n",
    "\n",
    "def h(t):\n",
    "    return scale*np.exp(-t/tau)/(np.power(t+c,(1+w)))\n",
    "\n",
    "# def k(m):\n",
    "#     return k0*np.exp(alpha*(m-M0))/(np.power(d*np.exp(gama*(m-M0)),(1+rho)))\n",
    "\n",
    "def k(m):\n",
    "    \n",
    "    number_factor = k0 * np.exp(alpha * (m - M0))\n",
    "    area_factor = np.pi * np.power(\n",
    "        d * np.exp(gama * (m - M0)),\n",
    "        -1 * rho\n",
    "    ) / rho\n",
    "\n",
    "    time_factor = np.exp(c/tau) * np.power(tau, -w) \n",
    "    time_fraction = upper_gamma_ext(-w, c/tau)\n",
    "    \n",
    "    \n",
    "    return number_factor*area_factor*time_factor*time_fraction\n",
    "\n",
    "def H(t):\n",
    "    return (1/gamma(-w))*gammainc(-w,t/tau)\n"
   ]
  },
  {
   "cell_type": "code",
   "execution_count": 126,
   "id": "aboriginal-tribune",
   "metadata": {},
   "outputs": [
    {
     "data": {
      "text/plain": [
       "12.146469167682966"
      ]
     },
     "execution_count": 126,
     "metadata": {},
     "output_type": "execute_result"
    }
   ],
   "source": [
    "upper_gamma_ext(-w, c/tau)"
   ]
  },
  {
   "cell_type": "code",
   "execution_count": 11,
   "id": "supported-croatia",
   "metadata": {},
   "outputs": [
    {
     "data": {
      "text/plain": [
       "[<matplotlib.lines.Line2D at 0x7fdc0477a610>]"
      ]
     },
     "execution_count": 11,
     "metadata": {},
     "output_type": "execute_result"
    },
    {
     "data": {
      "image/png": "[encoded data removed]",
      "text/plain": [
       "<Figure size 432x288 with 1 Axes>"
      ]
     },
     "metadata": {
      "needs_background": "light"
     },
     "output_type": "display_data"
    }
   ],
   "source": [
    "t = simulate_aftershock_time(params[\"log10_c\"], w, params[\"log10_tau\"], size=100000)\n",
    "\n",
    "density = gaussian_kde(t)\n",
    "x=np.linspace(0,5000,100000)\n",
    "plt.plot(x,density(x))\n",
    "# # plt.hist(t,density=True)\n",
    "plt.plot(x,h(x/100000)/605000)"
   ]
  },
  {
   "cell_type": "code",
   "execution_count": 46,
   "id": "useful-couple",
   "metadata": {},
   "outputs": [
    {
     "data": {
      "text/plain": [
       "array([21368.65426429, 21368.80392101, 21369.06462058, 21369.38393168,\n",
       "       21370.30535117, 21377.61107168, 21381.42604518, 21383.30394816,\n",
       "       21391.31752614, 21395.10312427, 21395.21312482, 21398.85599543,\n",
       "       21406.336031  , 21416.54026852, 21419.30830865, 21425.57772673,\n",
       "       21437.11650608, 21438.9285913 , 21451.81214139, 21454.21419442,\n",
       "       21476.43927028, 21480.4830345 , 21499.01578726, 21519.13048982,\n",
       "       21519.63203039, 21525.14188377, 21527.12745185, 21527.12748174,\n",
       "       21535.8869739 , 21535.89710063])"
      ]
     },
     "execution_count": 46,
     "metadata": {},
     "output_type": "execute_result"
    }
   ],
   "source": [
    "T_train[-30:]"
   ]
  },
  {
   "cell_type": "code",
   "execution_count": 44,
   "id": "upper-toronto",
   "metadata": {},
   "outputs": [
    {
     "data": {
      "text/plain": [
       "21381.260082622415"
      ]
     },
     "execution_count": 44,
     "metadata": {},
     "output_type": "execute_result"
    }
   ],
   "source": [
    "(T_test[-1]-T_test[time_step+1])"
   ]
  },
  {
   "cell_type": "code",
   "execution_count": 49,
   "id": "referenced-michigan",
   "metadata": {},
   "outputs": [
    {
     "data": {
      "text/plain": [
       "array([1.67242836e+02, 1.67093180e+02, 1.66832480e+02, 1.66513169e+02,\n",
       "       1.65591749e+02, 1.58286029e+02, 1.54471055e+02, 1.52593152e+02,\n",
       "       1.44579574e+02, 1.40793976e+02, 1.40683976e+02, 1.37041105e+02,\n",
       "       1.29561070e+02, 1.19356832e+02, 1.16588792e+02, 1.10319374e+02,\n",
       "       9.87805945e+01, 9.69685093e+01, 8.40849592e+01, 8.16829062e+01,\n",
       "       5.94578303e+01, 5.54140661e+01, 3.68813134e+01, 1.67666108e+01,\n",
       "       1.62650702e+01, 1.07552169e+01, 8.76964878e+00, 8.76961890e+00,\n",
       "       1.01267280e-02, 0.00000000e+00])"
      ]
     },
     "execution_count": 49,
     "metadata": {},
     "output_type": "execute_result"
    }
   ],
   "source": [
    "((T_test[-1])-T_test[time_step+1:])[-30:]"
   ]
  },
  {
   "cell_type": "code",
   "execution_count": 12,
   "id": "standard-australia",
   "metadata": {},
   "outputs": [],
   "source": [
    "# def marked_ETAS_intensity(Tdat,Mdat):\n",
    "    \n",
    "#     lam = np.zeros_like(Tdat)\n",
    "#     lam[0] = ground*area\n",
    "#     for i in range(len(lam)):\n",
    "    \n",
    "#         cumulative = 0\n",
    "#         for j in range(1,i):\n",
    "#             cumulative += k(Mdat[j])*h((Tdat[i]-Tdat[j]))\n",
    "\n",
    "    \n",
    "#         lam[i] = ground*area + cumulative\n",
    "    \n",
    "#     return lam \n",
    "\n",
    "theta_without_mu = params[\"log10_k0\"], params[\"a\"], params[\"log10_c\"], params[\"omega\"], \\\n",
    "                       params[\"log10_tau\"], params[\"log10_d\"], params[\"gamma\"], params[\"rho\"]\n",
    "\n",
    "def marked_ETAS_intensity(Tdat,Mdat):\n",
    "    \n",
    "    lam = np.zeros_like(Tdat)\n",
    "    lam[0] = ground*area\n",
    "    for i in range(len(lam)):\n",
    "    \n",
    "        cumulative = 0\n",
    "        for j in range(1,i):\n",
    "            cumulative += k(Mdat[j])*h(Tdat[i]-Tdat[j])\n",
    "\n",
    "    \n",
    "        lam[i] = ground*area + cumulative\n",
    "    \n",
    "    return lam \n",
    "\n",
    "\n",
    "def marked_likelihood(Tdat,Mdat,maxTime):\n",
    "    temp = np.log(ground*area)\n",
    "    for i in range(1,len(Tdat)):\n",
    "        \n",
    "        temp += np.log(ground + sum(k(Mdat[:(i )]) * h(Tdat[i] - Tdat[:(i)]))+1e-7)\n",
    "    \n",
    "    temp = temp - ground*maxTime*area\n",
    "    temp = temp - sum(k(Mdat) * H(maxTime - Tdat))\n",
    "    \n",
    "    return temp"
   ]
  },
  {
   "cell_type": "code",
   "execution_count": 12,
   "id": "second-depth",
   "metadata": {},
   "outputs": [
    {
     "data": {
      "text/plain": [
       "<matplotlib.legend.Legend at 0x7fba716e8d10>"
      ]
     },
     "execution_count": 12,
     "metadata": {},
     "output_type": "execute_result"
    },
    {
     "data": {
      "image/png": "[encoded data removed]",
      "text/plain": [
       "<Figure size 432x288 with 1 Axes>"
      ]
     },
     "metadata": {
      "needs_background": "light"
     },
     "output_type": "display_data"
    }
   ],
   "source": [
    "x = np.linspace(8,10,1000)\n",
    "plt.plot(x,k(x),alpha=0.8,label='mine')\n",
    "plt.plot(x,expected_aftershocks(x,params=[theta_without_mu, M0],no_start=True,no_end=True),alpha=0.5,label='hers')\n",
    "plt.legend()"
   ]
  },
  {
   "cell_type": "code",
   "execution_count": 13,
   "id": "cathedral-story",
   "metadata": {},
   "outputs": [],
   "source": [
    "lamtimes=times[:4000]\n",
    "lammags=mags[:4000]"
   ]
  },
  {
   "cell_type": "code",
   "execution_count": 14,
   "id": "adopted-chester",
   "metadata": {},
   "outputs": [],
   "source": [
    "lam = marked_ETAS_intensity(lamtimes,lammags)"
   ]
  },
  {
   "cell_type": "code",
   "execution_count": 15,
   "id": "aboriginal-poverty",
   "metadata": {},
   "outputs": [],
   "source": [
    "## hyper parameters\n",
    "time_step = 20 # truncation depth of RNN \n",
    "size_rnn = 64 # the number of units in the RNN\n",
    "size_nn = 64 # the nubmer of units in each hidden layer in the cumulative hazard function network\n",
    "size_layer_chfn = 2 # the number of the hidden layers in the cumulative hazard function network\n",
    "size_layer_cmfn = 2\n",
    "\n",
    "T_train=times\n",
    "M_train=mags\n",
    "\n",
    "## mean and std of the log of the inter-event interval, which will be used for the data standardization\n",
    "mu = np.log(np.ediff1d(T_train)).mean()\n",
    "sigma = np.log(np.ediff1d(T_train)).std()\n",
    "\n",
    "mu1 = np.log(M_train).mean()\n",
    "sigma1 = np.log(M_train).std()\n",
    "\n",
    "## kernel initializer for positive weights\n",
    "def abs_glorot_uniform(shape, dtype=None, partition_info=None): \n",
    "    return K.abs(keras.initializers.glorot_uniform(seed=None)(shape,dtype=dtype))\n",
    "\n",
    "## Inputs \n",
    "\n",
    "event_history = layers.Input(shape=(time_step,2))\n",
    "elapsed_time = layers.Input(shape=(1,)) # input to cumulative hazard function network (the elapsed time from the most recent event)\n",
    "current_mag = layers.Input(shape=(1,)) \n",
    "\n",
    "\n",
    "## log-transformation and standardization\n",
    "# event_history_nmlz = layers.Lambda(lambda x: (K.log(x)-mu)/sigma )(event_history) ## probs have to do matrix equivalent for this\n",
    "elapsed_time_nmlz = layers.Lambda(lambda x: (K.log(x)-mu)/sigma )(elapsed_time) \n",
    "\n",
    "numpyA = np.array([[1/sigma,0],[0,1/sigma1]])\n",
    "\n",
    "def multA(x,A):\n",
    "    A = K.constant(numpyA)\n",
    "\n",
    "    return K.dot(x,A)\n",
    "\n",
    "event_history_nmlz = layers.Lambda(lambda x: multA(K.log(x)-[mu,mu1],numpyA))(event_history)\n",
    "current_mag_nmlz = layers.Lambda(lambda x: (K.log(x)-mu1)/sigma1 )(current_mag)\n",
    "\n",
    "## RNN\n",
    "output_rnn = layers.SimpleRNN(size_rnn,input_shape=(time_step,2),activation='tanh')(event_history_nmlz)\n",
    "\n",
    "## the first hidden layer in the cummulative hazard function network\n",
    "hidden_tau = layers.Dense(size_nn,kernel_initializer=abs_glorot_uniform,kernel_constraint=keras.constraints.NonNeg(),use_bias=False)(elapsed_time_nmlz) # elapsed time -> the 1st hidden layer, positive weights\n",
    "hidden_rnn = layers.Dense(size_nn)(output_rnn) # rnn output -> the 1st hidden layer\n",
    "hidden = layers.Lambda(lambda inputs: K.tanh(inputs[0]+inputs[1]) )([hidden_tau,hidden_rnn])\n",
    "\n",
    "## the second and higher hidden layers\n",
    "for i in range(size_layer_chfn-1):\n",
    "    hidden = layers.Dense(size_nn,activation='tanh',kernel_initializer=abs_glorot_uniform,kernel_constraint=keras.constraints.NonNeg())(hidden) # positive weights\n",
    "\n",
    "## the first hidden layer in the cummulative hazard function network\n",
    "hidden_mu = layers.Dense(size_nn,kernel_initializer=abs_glorot_uniform,kernel_constraint=keras.constraints.NonNeg(),use_bias=False)(current_mag_nmlz) # elapsed time -> the 1st hidden layer, positive weights\n",
    "hidden_rnn_mag = layers.Dense(size_nn)(output_rnn) # rnn output -> the 1st hidden layer\n",
    "hidden_mag = layers.Lambda(lambda inputs: K.tanh(inputs[0]+inputs[1]) )([hidden_mu,hidden_rnn_mag,hidden_tau])\n",
    "\n",
    "## the second and higher hidden layers\n",
    "for i in range(size_layer_cmfn-1):\n",
    "    hidden_mag = layers.Dense(size_nn,activation='tanh',kernel_initializer=abs_glorot_uniform,kernel_constraint=keras.constraints.NonNeg())(hidden_mag) # positive weights\n",
    "    \n",
    "    \n",
    "    \n",
    "## Outputs\n",
    "Int_l = layers.Dense(1, activation='softplus',kernel_initializer=abs_glorot_uniform, kernel_constraint=keras.constraints.NonNeg() )(hidden) # cumulative hazard function, positive weights\n",
    "l = layers.Lambda( lambda inputs: K.gradients(inputs[0],inputs[1])[0] )([Int_l,elapsed_time]) # hazard function\n",
    "Int_l_mag = layers.Dense(1, activation='softplus',kernel_initializer=abs_glorot_uniform, kernel_constraint=keras.constraints.NonNeg() )(hidden_mag) # cumulative hazard function, positive weights\n",
    "l_mag= layers.Lambda( lambda inputs: K.gradients(inputs[0],inputs[1])[0] )([Int_l_mag,current_mag]) # hazard function\n",
    "\n",
    "## define model\n",
    "model = Model(inputs=[event_history,elapsed_time,current_mag],outputs=[l,Int_l,l_mag,Int_l_mag])\n",
    "model.add_loss( -K.mean( K.log( 1e-10 + l )+ K.log(1e-10 + l_mag ) - Int_l ) ) # set loss function to be the negative log-likelihood function"
   ]
  },
  {
   "cell_type": "code",
   "execution_count": 16,
   "id": "solar-document",
   "metadata": {},
   "outputs": [
    {
     "name": "stdout",
     "output_type": "stream",
     "text": [
      "WARNING:tensorflow:Output lambda_5 missing from loss dictionary. We assume this was done on purpose. The fit and evaluate APIs will not be expecting any data to be passed to lambda_5.\n",
      "WARNING:tensorflow:Output dense_6 missing from loss dictionary. We assume this was done on purpose. The fit and evaluate APIs will not be expecting any data to be passed to dense_6.\n",
      "WARNING:tensorflow:Output lambda_6 missing from loss dictionary. We assume this was done on purpose. The fit and evaluate APIs will not be expecting any data to be passed to lambda_6.\n",
      "WARNING:tensorflow:Output dense_7 missing from loss dictionary. We assume this was done on purpose. The fit and evaluate APIs will not be expecting any data to be passed to dense_7.\n",
      "Train on 15575 samples, validate on 3894 samples\n",
      "Epoch 1/30\n",
      "15575/15575 [==============================] - 2s 106us/sample - loss: 0.7729 - val_loss: -1.0752\n",
      "Epoch 2/30\n",
      "15575/15575 [==============================] - 1s 37us/sample - loss: -0.6600 - val_loss: -1.3933\n",
      "Epoch 3/30\n",
      "15575/15575 [==============================] - 1s 38us/sample - loss: -0.9336 - val_loss: -1.5774\n",
      "Epoch 4/30\n",
      "15575/15575 [==============================] - 1s 39us/sample - loss: -1.1385 - val_loss: -1.7396\n",
      "Epoch 5/30\n",
      "15575/15575 [==============================] - 1s 40us/sample - loss: -1.2978 - val_loss: -1.9082\n",
      "Epoch 6/30\n",
      "15575/15575 [==============================] - 1s 41us/sample - loss: -1.4388 - val_loss: -2.0402\n",
      "Epoch 7/30\n",
      "15575/15575 [==============================] - 1s 41us/sample - loss: -1.5429 - val_loss: -2.1291\n",
      "Epoch 8/30\n",
      "15575/15575 [==============================] - 1s 41us/sample - loss: -1.6534 - val_loss: -2.2879\n",
      "Epoch 9/30\n",
      "15575/15575 [==============================] - 1s 38us/sample - loss: -1.7462 - val_loss: -2.3336\n",
      "Epoch 10/30\n",
      "15575/15575 [==============================] - 1s 39us/sample - loss: -1.8207 - val_loss: -2.3890\n",
      "Epoch 11/30\n",
      "15575/15575 [==============================] - 1s 39us/sample - loss: -1.8911 - val_loss: -2.4940\n",
      "Epoch 12/30\n",
      "15575/15575 [==============================] - 1s 39us/sample - loss: -1.9575 - val_loss: -2.5704\n",
      "Epoch 13/30\n",
      "15575/15575 [==============================] - 1s 39us/sample - loss: -2.0135 - val_loss: -2.5262\n",
      "Epoch 14/30\n",
      "15575/15575 [==============================] - 1s 39us/sample - loss: -2.0657 - val_loss: -2.6500\n",
      "Epoch 15/30\n",
      "15575/15575 [==============================] - 1s 39us/sample - loss: -2.1172 - val_loss: -2.7097\n",
      "Epoch 16/30\n",
      "15575/15575 [==============================] - 1s 39us/sample - loss: -2.1666 - val_loss: -2.7093\n",
      "Epoch 17/30\n",
      "15575/15575 [==============================] - 1s 41us/sample - loss: -2.2108 - val_loss: -2.7300\n",
      "Epoch 18/30\n",
      "15575/15575 [==============================] - 1s 44us/sample - loss: -2.2516 - val_loss: -2.8418\n",
      "Epoch 19/30\n",
      "15575/15575 [==============================] - 1s 38us/sample - loss: -2.2949 - val_loss: -2.8931\n",
      "Epoch 20/30\n",
      "15575/15575 [==============================] - 1s 37us/sample - loss: -2.3355 - val_loss: -2.9156\n",
      "Epoch 21/30\n",
      "15575/15575 [==============================] - 1s 37us/sample - loss: -2.3694 - val_loss: -2.8966\n",
      "Epoch 22/30\n",
      "15575/15575 [==============================] - 1s 43us/sample - loss: -2.4064 - val_loss: -2.9695\n",
      "Epoch 23/30\n",
      "15575/15575 [==============================] - 1s 46us/sample - loss: -2.4369 - val_loss: -3.0196\n",
      "Epoch 24/30\n",
      "15575/15575 [==============================] - 1s 44us/sample - loss: -2.4680 - val_loss: -3.0334\n",
      "Epoch 25/30\n",
      "15575/15575 [==============================] - 1s 49us/sample - loss: -2.5102 - val_loss: -3.1058\n",
      "Epoch 26/30\n",
      "15575/15575 [==============================] - 1s 45us/sample - loss: -2.5436 - val_loss: -3.0962\n",
      "Epoch 27/30\n",
      "15575/15575 [==============================] - 1s 44us/sample - loss: -2.5457 - val_loss: -3.0778\n",
      "Epoch 28/30\n",
      "15575/15575 [==============================] - 1s 52us/sample - loss: -2.5959 - val_loss: -3.1798\n",
      "Epoch 29/30\n",
      "15575/15575 [==============================] - 1s 46us/sample - loss: -2.6313 - val_loss: -3.1927\n",
      "Epoch 30/30\n",
      "15575/15575 [==============================] - 1s 45us/sample - loss: -2.6565 - val_loss: -3.2380\n"
     ]
    },
    {
     "data": {
      "text/plain": [
       "<tensorflow.python.keras.callbacks.History at 0x7f3f1a3a1110>"
      ]
     },
     "execution_count": 16,
     "metadata": {},
     "output_type": "execute_result"
    }
   ],
   "source": [
    "## format the input data\n",
    "dM_train = np.delete(mags,0)\n",
    "\n",
    "dT_train = np.ediff1d(times) # transform a series of timestamps to a series of interevent intervals: T_train -> dT_train\n",
    "n = dT_train.shape[0]\n",
    "n2 = dM_train.shape[0]\n",
    "input_RNN_times = np.array( [ dT_train[i:i+time_step] for i in range(n-time_step) ]).reshape(n-time_step,time_step,1)\n",
    "input_RNN_mags = np.array( [ dM_train[i:i+time_step] for i in range(n2-time_step) ]).reshape(n2-time_step,time_step,1)\n",
    "input_RNN = np.concatenate((input_RNN_times,input_RNN_mags),axis=2)\n",
    "input_CHFN = dT_train[-n+time_step:].reshape(n-time_step,1)\n",
    "input_CMFN =dM_train[-n+time_step:].reshape(n-time_step,1)\n",
    "\n",
    "\n",
    "## training \n",
    "model.compile(keras.optimizers.Adam(lr=0.001))\n",
    "model.fit([input_RNN,input_CHFN,input_CMFN],epochs=30,batch_size=256,validation_split=0.2) # In our study, we have set epochs = 100 and employed early stopping. Please see code.ipynb for more details."
   ]
  },
  {
   "cell_type": "code",
   "execution_count": 19,
   "id": "nutritional-moment",
   "metadata": {},
   "outputs": [
    {
     "name": "stdout",
     "output_type": "stream",
     "text": [
      "Mean negative log-likelihood per event:  1.3375062\n"
     ]
    }
   ],
   "source": [
    "[l_test,Int_l_test,l_mag_test,Int_mag_test] = model.predict([input_RNN,input_CHFN,input_CMFN],batch_size=input_RNN.shape[0])\n",
    "LL = np.log(l_test+1e-10) - Int_l_test  # log-liklihood\n",
    "print(\"Mean negative log-likelihood per event: \",-LL.mean())"
   ]
  },
  {
   "cell_type": "code",
   "execution_count": 54,
   "id": "actual-corporation",
   "metadata": {},
   "outputs": [
    {
     "name": "stdout",
     "output_type": "stream",
     "text": [
      "True mean negative log-likelihood per event:  2.3325355852115384\n"
     ]
    }
   ],
   "source": [
    "T_test=T_train\n",
    "M_test=M_train\n",
    "TLL = -marked_likelihood(T_test[time_step+1:],M_test[time_step+1:],(T_test[-1]))/len(T_test[time_step+1:])\n",
    "print(\"True mean negative log-likelihood per event: \",TLL)"
   ]
  },
  {
   "cell_type": "code",
   "execution_count": 17,
   "id": "objective-december",
   "metadata": {},
   "outputs": [],
   "source": [
    "timesplot=times[time_step+1:]\n",
    "lam=lam[time_step+1:]"
   ]
  },
  {
   "cell_type": "code",
   "execution_count": 20,
   "id": "internal-learning",
   "metadata": {},
   "outputs": [
    {
     "data": {
      "text/plain": [
       "<matplotlib.legend.Legend at 0x7f3ec87bbc10>"
      ]
     },
     "execution_count": 20,
     "metadata": {},
     "output_type": "execute_result"
    },
    {
     "data": {
      "image/png": "[encoded data removed]",
      "text/plain": [
       "<Figure size 432x288 with 1 Axes>"
      ]
     },
     "metadata": {
      "needs_background": "light"
     },
     "output_type": "display_data"
    }
   ],
   "source": [
    "i = 450\n",
    "index=range(i,i+10)\n",
    "plt.plot(timesplot[index],l_test[index],label='predicted')\n",
    "plt.plot(timesplot[index],np.pi*lam[index],label='true')\n",
    "plt.legend()"
   ]
  },
  {
   "cell_type": "code",
   "execution_count": 57,
   "id": "electric-tribe",
   "metadata": {},
   "outputs": [
    {
     "data": {
      "text/plain": [
       "<matplotlib.legend.Legend at 0x7f3e66792850>"
      ]
     },
     "execution_count": 57,
     "metadata": {},
     "output_type": "execute_result"
    },
    {
     "data": {
      "image/png": "[encoded data removed]",
      "text/plain": [
       "<Figure size 432x288 with 1 Axes>"
      ]
     },
     "metadata": {
      "needs_background": "light"
     },
     "output_type": "display_data"
    }
   ],
   "source": [
    "i = 329\n",
    "index=range(i,i+7)\n",
    "plt.plot(timesplot[index],l_test[index],label='predicted')\n",
    "plt.plot(timesplot[index],np.pi*lam[index],label='true')\n",
    "plt.legend()"
   ]
  },
  {
   "cell_type": "code",
   "execution_count": 120,
   "id": "acoustic-luxury",
   "metadata": {},
   "outputs": [
    {
     "data": {
      "text/plain": [
       "0.51"
      ]
     },
     "execution_count": 120,
     "metadata": {},
     "output_type": "execute_result"
    }
   ],
   "source": [
    "rho"
   ]
  },
  {
   "cell_type": "code",
   "execution_count": 40,
   "id": "statutory-sheffield",
   "metadata": {},
   "outputs": [
    {
     "ename": "ValueError",
     "evalue": "operands could not be broadcast together with shapes (19469,) (3979,) ",
     "output_type": "error",
     "traceback": [
      "\u001b[0;31m---------------------------------------------------------------------------\u001b[0m",
      "\u001b[0;31mValueError\u001b[0m                                Traceback (most recent call last)",
      "\u001b[0;32m<ipython-input-40-66c570a1d1cc>\u001b[0m in \u001b[0;36m<module>\u001b[0;34m\u001b[0m\n\u001b[0;32m----> 1\u001b[0;31m \u001b[0mplt\u001b[0m\u001b[0;34m.\u001b[0m\u001b[0mplot\u001b[0m\u001b[0;34m(\u001b[0m\u001b[0mabs\u001b[0m\u001b[0;34m(\u001b[0m\u001b[0ml_test\u001b[0m\u001b[0;34m[\u001b[0m\u001b[0;34m:\u001b[0m\u001b[0;34m,\u001b[0m\u001b[0;36m0\u001b[0m\u001b[0;34m]\u001b[0m\u001b[0;34m/\u001b[0m\u001b[0;34m(\u001b[0m\u001b[0;36m1\u001b[0m\u001b[0;34m*\u001b[0m\u001b[0mlam\u001b[0m\u001b[0;34m)\u001b[0m\u001b[0;34m)\u001b[0m\u001b[0;34m)\u001b[0m\u001b[0;34m\u001b[0m\u001b[0;34m\u001b[0m\u001b[0m\n\u001b[0m",
      "\u001b[0;31mValueError\u001b[0m: operands could not be broadcast together with shapes (19469,) (3979,) "
     ]
    }
   ],
   "source": [
    "plt.plot(abs(l_test[:,0]/(1*lam)))"
   ]
  },
  {
   "cell_type": "code",
   "execution_count": 86,
   "id": "analyzed-doctor",
   "metadata": {},
   "outputs": [
    {
     "data": {
      "text/plain": [
       "32.78499835179414"
      ]
     },
     "execution_count": 86,
     "metadata": {},
     "output_type": "execute_result"
    }
   ],
   "source": []
  },
  {
   "cell_type": "code",
   "execution_count": 41,
   "id": "suspected-shuttle",
   "metadata": {},
   "outputs": [
    {
     "data": {
      "text/plain": [
       "2.370475364347354"
      ]
     },
     "execution_count": 41,
     "metadata": {},
     "output_type": "execute_result"
    }
   ],
   "source": [
    "(l_test[:,0]/lam).mean()"
   ]
  },
  {
   "cell_type": "code",
   "execution_count": 22,
   "id": "valued-postcard",
   "metadata": {},
   "outputs": [
    {
     "data": {
      "text/plain": [
       "2402"
      ]
     },
     "execution_count": 22,
     "metadata": {},
     "output_type": "execute_result"
    }
   ],
   "source": [
    "lammags.argmax()"
   ]
  },
  {
   "cell_type": "code",
   "execution_count": 50,
   "id": "western-horse",
   "metadata": {},
   "outputs": [
    {
     "data": {
      "text/plain": [
       "8.252733724440251"
      ]
     },
     "execution_count": 50,
     "metadata": {},
     "output_type": "execute_result"
    }
   ],
   "source": [
    "M_train.max()"
   ]
  },
  {
   "cell_type": "code",
   "execution_count": null,
   "id": "divine-world",
   "metadata": {},
   "outputs": [],
   "source": [
    "binwidth=0.5\n",
    "plt.hist(dT_train,bins=np.arange(min(dT_train), max(dT_train) + binwidth, binwidth),density=True)"
   ]
  }
 ],
 "metadata": {
  "kernelspec": {
   "display_name": "Python 3",
   "language": "python",
   "name": "python3"
  },
  "language_info": {
   "codemirror_mode": {
    "name": "ipython",
    "version": 3
   },
   "file_extension": ".py",
   "mimetype": "text/x-python",
   "name": "python",
   "nbconvert_exporter": "python",
   "pygments_lexer": "ipython3",
   "version": "3.7.10"
  }
 },
 "nbformat": 4,
 "nbformat_minor": 5
}
