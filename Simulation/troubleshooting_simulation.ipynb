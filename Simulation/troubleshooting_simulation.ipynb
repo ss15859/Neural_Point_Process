{
 "cells": [
  {
   "cell_type": "markdown",
   "id": "substantial-secretariat",
   "metadata": {},
   "source": [
    "# Troubleshooting Simulation "
   ]
  },
  {
   "cell_type": "code",
   "execution_count": 1,
   "id": "choice-advisory",
   "metadata": {},
   "outputs": [],
   "source": [
    "import csv\n",
    "import numpy as np\n",
    "import datetime as dt\n",
    "from shapely.geometry import Polygon\n",
    "import pandas as pd\n",
    "import matplotlib.pyplot as plt\n",
    "\n",
    "from simulation import generate_catalog, simulate_aftershock_time\n",
    "from inversion import round_half_up, polygon_surface, expected_aftershocks\n",
    "\n",
    "from scipy.special import gammaincc, gammainccinv, gamma, gammainc\n",
    "from scipy.stats import gaussian_kde\n",
    "\n",
    "import tensorflow as tf\n",
    "import tensorflow.keras as keras\n",
    "from tensorflow.keras import layers\n",
    "from tensorflow.keras import backend as K\n",
    "from tensorflow.keras.models import Model"
   ]
  },
  {
   "cell_type": "code",
   "execution_count": 130,
   "id": "connected-triangle",
   "metadata": {},
   "outputs": [
    {
     "name": "stderr",
     "output_type": "stream",
     "text": [
      "/home/ss15859/anaconda3/envs/py-37-keras-21/lib/python3.7/site-packages/pyproj/crs/crs.py:53: FutureWarning: '+init=<authority>:<code>' syntax is deprecated. '<authority>:<code>' is the preferred initialization method. When making the change, be mindful of axis order changes: https://pyproj4.github.io/pyproj/stable/gotchas.html#axis-order-changes-in-proj-6\n",
      "  return _prepare_from_string(\" \".join(pjargs))\n",
      "/home/ss15859/anaconda3/envs/py-37-keras-21/lib/python3.7/site-packages/pyproj/crs/crs.py:294: FutureWarning: '+init=<authority>:<code>' syntax is deprecated. '<authority>:<code>' is the preferred initialization method. When making the change, be mindful of axis order changes: https://pyproj4.github.io/pyproj/stable/gotchas.html#axis-order-changes-in-proj-6\n",
      "  projstring = _prepare_from_string(\" \".join((projstring, projkwargs)))\n"
     ]
    }
   ],
   "source": [
    "shape_coords = [list([a[1], a[0]]) for a in (np.load(\"california_shape.npy\"))]\n",
    "caliregion = Polygon(shape_coords)\n",
    "area = polygon_surface(caliregion)\n",
    "burn_start = dt.datetime(1871, 1, 1)\n",
    "primary_start = dt.datetime(1871, 1, 1)\n",
    "end = dt.datetime(2021, 1, 1)\n",
    "\n",
    "\n",
    "mc=3.6\n",
    "beta=2.4\n",
    "\n",
    "params = {\n",
    "    'log10_mu': -6.0,\n",
    "    'log10_k0': -2.49,\n",
    "    'a': 1.69,\n",
    "    'log10_c': -2.95,\n",
    "    'omega': -0.03,\n",
    "    'log10_tau': 3.99,\n",
    "    'log10_d': -0.35,\n",
    "    'gamma': 1.22,\n",
    "    'rho': 0.51,\n",
    "    'M0': mc,\n",
    "    'beta': beta\n",
    "    }"
   ]
  },
  {
   "cell_type": "code",
   "execution_count": 131,
   "id": "statistical-swedish",
   "metadata": {},
   "outputs": [
    {
     "name": "stdout",
     "output_type": "stream",
     "text": [
      "generating background events..\n"
     ]
    },
    {
     "name": "stderr",
     "output_type": "stream",
     "text": [
      "/home/ss15859/anaconda3/envs/py-37-keras-21/lib/python3.7/site-packages/pyproj/crs/crs.py:53: FutureWarning: '+init=<authority>:<code>' syntax is deprecated. '<authority>:<code>' is the preferred initialization method. When making the change, be mindful of axis order changes: https://pyproj4.github.io/pyproj/stable/gotchas.html#axis-order-changes-in-proj-6\n",
      "  return _prepare_from_string(\" \".join(pjargs))\n",
      "/home/ss15859/anaconda3/envs/py-37-keras-21/lib/python3.7/site-packages/pyproj/crs/crs.py:294: FutureWarning: '+init=<authority>:<code>' syntax is deprecated. '<authority>:<code>' is the preferred initialization method. When making the change, be mindful of axis order changes: https://pyproj4.github.io/pyproj/stable/gotchas.html#axis-order-changes-in-proj-6\n",
      "  projstring = _prepare_from_string(\" \".join((projstring, projkwargs)))\n",
      "/home/ss15859/anaconda3/envs/py-37-keras-21/lib/python3.7/site-packages/pyproj/crs/crs.py:53: FutureWarning: '+init=<authority>:<code>' syntax is deprecated. '<authority>:<code>' is the preferred initialization method. When making the change, be mindful of axis order changes: https://pyproj4.github.io/pyproj/stable/gotchas.html#axis-order-changes-in-proj-6\n",
      "  return _prepare_from_string(\" \".join(pjargs))\n",
      "/home/ss15859/anaconda3/envs/py-37-keras-21/lib/python3.7/site-packages/pyproj/crs/crs.py:294: FutureWarning: '+init=<authority>:<code>' syntax is deprecated. '<authority>:<code>' is the preferred initialization method. When making the change, be mindful of axis order changes: https://pyproj4.github.io/pyproj/stable/gotchas.html#axis-order-changes-in-proj-6\n",
      "  projstring = _prepare_from_string(\" \".join((projstring, projkwargs)))\n"
     ]
    },
    {
     "name": "stdout",
     "output_type": "stream",
     "text": [
      "  number of background events needed: 52651\n",
      "  generating 52651 to throw away those outside the polygon\n",
      "  number of background events: 52651\n",
      "\n",
      "  branching ratio: 0.8667056165577146\n",
      "  expected total number of events (if time were infinite): 394997.8884353904\n",
      "\n",
      "\n",
      "simulating aftershocks of generation 0 ..\n",
      "  number of events with aftershocks: 27805\n",
      "  number of generated aftershocks: 45022\n",
      "\n",
      "\n",
      "simulating aftershocks of generation 1 ..\n",
      "  number of events with aftershocks: 23666\n",
      "  number of generated aftershocks: 38224\n",
      "\n",
      "\n",
      "simulating aftershocks of generation 2 ..\n",
      "  number of events with aftershocks: 20240\n",
      "  number of generated aftershocks: 32769\n",
      "\n",
      "\n",
      "simulating aftershocks of generation 3 ..\n",
      "  number of events with aftershocks: 17339\n",
      "  number of generated aftershocks: 28387\n",
      "\n",
      "\n",
      "simulating aftershocks of generation 4 ..\n",
      "  number of events with aftershocks: 14884\n",
      "  number of generated aftershocks: 24294\n",
      "\n",
      "\n",
      "simulating aftershocks of generation 5 ..\n",
      "  number of events with aftershocks: 12842\n",
      "  number of generated aftershocks: 21178\n",
      "\n",
      "\n",
      "simulating aftershocks of generation 6 ..\n",
      "  number of events with aftershocks: 11299\n",
      "  number of generated aftershocks: 18460\n",
      "\n",
      "\n",
      "simulating aftershocks of generation 7 ..\n",
      "  number of events with aftershocks: 9684\n",
      "  number of generated aftershocks: 15538\n",
      "\n",
      "\n",
      "simulating aftershocks of generation 8 ..\n",
      "  number of events with aftershocks: 8175\n",
      "  number of generated aftershocks: 13506\n",
      "\n",
      "\n",
      "simulating aftershocks of generation 9 ..\n",
      "  number of events with aftershocks: 7125\n",
      "  number of generated aftershocks: 11566\n",
      "\n",
      "\n",
      "simulating aftershocks of generation 10 ..\n",
      "  number of events with aftershocks: 6096\n",
      "  number of generated aftershocks: 10089\n",
      "\n",
      "\n",
      "simulating aftershocks of generation 11 ..\n",
      "  number of events with aftershocks: 5231\n",
      "  number of generated aftershocks: 8411\n",
      "\n",
      "\n",
      "simulating aftershocks of generation 12 ..\n",
      "  number of events with aftershocks: 4451\n",
      "  number of generated aftershocks: 7110\n",
      "\n",
      "\n",
      "simulating aftershocks of generation 13 ..\n",
      "  number of events with aftershocks: 3709\n",
      "  number of generated aftershocks: 5954\n",
      "\n",
      "\n",
      "simulating aftershocks of generation 14 ..\n",
      "  number of events with aftershocks: 3200\n",
      "  number of generated aftershocks: 5130\n",
      "\n",
      "\n",
      "simulating aftershocks of generation 15 ..\n",
      "  number of events with aftershocks: 2728\n",
      "  number of generated aftershocks: 4386\n",
      "\n",
      "\n",
      "simulating aftershocks of generation 16 ..\n",
      "  number of events with aftershocks: 2296\n",
      "  number of generated aftershocks: 3688\n",
      "\n",
      "\n",
      "simulating aftershocks of generation 17 ..\n",
      "  number of events with aftershocks: 1899\n",
      "  number of generated aftershocks: 3018\n",
      "\n",
      "\n",
      "simulating aftershocks of generation 18 ..\n",
      "  number of events with aftershocks: 1579\n",
      "  number of generated aftershocks: 2612\n",
      "\n",
      "\n",
      "simulating aftershocks of generation 19 ..\n",
      "  number of events with aftershocks: 1355\n",
      "  number of generated aftershocks: 2181\n",
      "\n",
      "\n",
      "simulating aftershocks of generation 20 ..\n",
      "  number of events with aftershocks: 1157\n",
      "  number of generated aftershocks: 1827\n",
      "\n",
      "\n",
      "simulating aftershocks of generation 21 ..\n",
      "  number of events with aftershocks: 940\n",
      "  number of generated aftershocks: 1449\n",
      "\n",
      "\n",
      "simulating aftershocks of generation 22 ..\n",
      "  number of events with aftershocks: 794\n",
      "  number of generated aftershocks: 1301\n",
      "\n",
      "\n",
      "simulating aftershocks of generation 23 ..\n",
      "  number of events with aftershocks: 699\n",
      "  number of generated aftershocks: 1131\n",
      "\n",
      "\n",
      "simulating aftershocks of generation 24 ..\n",
      "  number of events with aftershocks: 609\n",
      "  number of generated aftershocks: 935\n",
      "\n",
      "\n",
      "simulating aftershocks of generation 25 ..\n",
      "  number of events with aftershocks: 500\n",
      "  number of generated aftershocks: 816\n",
      "\n",
      "\n",
      "simulating aftershocks of generation 26 ..\n",
      "  number of events with aftershocks: 440\n",
      "  number of generated aftershocks: 664\n",
      "\n",
      "\n",
      "simulating aftershocks of generation 27 ..\n",
      "  number of events with aftershocks: 372\n",
      "  number of generated aftershocks: 667\n",
      "\n",
      "\n",
      "simulating aftershocks of generation 28 ..\n",
      "  number of events with aftershocks: 381\n",
      "  number of generated aftershocks: 644\n",
      "\n",
      "\n",
      "simulating aftershocks of generation 29 ..\n",
      "  number of events with aftershocks: 341\n",
      "  number of generated aftershocks: 566\n",
      "\n",
      "\n",
      "simulating aftershocks of generation 30 ..\n",
      "  number of events with aftershocks: 313\n",
      "  number of generated aftershocks: 471\n",
      "\n",
      "\n",
      "simulating aftershocks of generation 31 ..\n",
      "  number of events with aftershocks: 262\n",
      "  number of generated aftershocks: 412\n",
      "\n",
      "\n",
      "simulating aftershocks of generation 32 ..\n",
      "  number of events with aftershocks: 207\n",
      "  number of generated aftershocks: 318\n",
      "\n",
      "\n",
      "simulating aftershocks of generation 33 ..\n",
      "  number of events with aftershocks: 169\n",
      "  number of generated aftershocks: 267\n",
      "\n",
      "\n",
      "simulating aftershocks of generation 34 ..\n",
      "  number of events with aftershocks: 140\n",
      "  number of generated aftershocks: 232\n",
      "\n",
      "\n",
      "simulating aftershocks of generation 35 ..\n",
      "  number of events with aftershocks: 112\n",
      "  number of generated aftershocks: 164\n",
      "\n",
      "\n",
      "simulating aftershocks of generation 36 ..\n",
      "  number of events with aftershocks: 77\n",
      "  number of generated aftershocks: 117\n",
      "\n",
      "\n",
      "simulating aftershocks of generation 37 ..\n",
      "  number of events with aftershocks: 68\n",
      "  number of generated aftershocks: 121\n",
      "\n",
      "\n",
      "simulating aftershocks of generation 38 ..\n",
      "  number of events with aftershocks: 70\n",
      "  number of generated aftershocks: 121\n",
      "\n",
      "\n",
      "simulating aftershocks of generation 39 ..\n",
      "  number of events with aftershocks: 70\n",
      "  number of generated aftershocks: 112\n",
      "\n",
      "\n",
      "simulating aftershocks of generation 40 ..\n",
      "  number of events with aftershocks: 60\n",
      "  number of generated aftershocks: 81\n",
      "\n",
      "\n",
      "simulating aftershocks of generation 41 ..\n",
      "  number of events with aftershocks: 47\n",
      "  number of generated aftershocks: 68\n",
      "\n",
      "\n",
      "simulating aftershocks of generation 42 ..\n",
      "  number of events with aftershocks: 39\n",
      "  number of generated aftershocks: 53\n",
      "\n",
      "\n",
      "simulating aftershocks of generation 43 ..\n",
      "  number of events with aftershocks: 27\n",
      "  number of generated aftershocks: 36\n",
      "\n",
      "\n",
      "simulating aftershocks of generation 44 ..\n",
      "  number of events with aftershocks: 22\n",
      "  number of generated aftershocks: 33\n",
      "\n",
      "\n",
      "simulating aftershocks of generation 45 ..\n",
      "  number of events with aftershocks: 16\n",
      "  number of generated aftershocks: 26\n",
      "\n",
      "\n",
      "simulating aftershocks of generation 46 ..\n",
      "  number of events with aftershocks: 14\n",
      "  number of generated aftershocks: 26\n",
      "\n",
      "\n",
      "simulating aftershocks of generation 47 ..\n",
      "  number of events with aftershocks: 14\n",
      "  number of generated aftershocks: 24\n",
      "\n",
      "\n",
      "simulating aftershocks of generation 48 ..\n",
      "  number of events with aftershocks: 14\n",
      "  number of generated aftershocks: 38\n",
      "\n",
      "\n",
      "simulating aftershocks of generation 49 ..\n",
      "  number of events with aftershocks: 19\n",
      "  number of generated aftershocks: 30\n",
      "\n",
      "\n",
      "simulating aftershocks of generation 50 ..\n",
      "  number of events with aftershocks: 16\n",
      "  number of generated aftershocks: 25\n",
      "\n",
      "\n",
      "simulating aftershocks of generation 51 ..\n",
      "  number of events with aftershocks: 12\n",
      "  number of generated aftershocks: 16\n",
      "\n",
      "\n",
      "simulating aftershocks of generation 52 ..\n",
      "  number of events with aftershocks: 11\n",
      "  number of generated aftershocks: 19\n",
      "\n",
      "\n",
      "simulating aftershocks of generation 53 ..\n",
      "  number of events with aftershocks: 13\n",
      "  number of generated aftershocks: 14\n",
      "\n",
      "\n",
      "simulating aftershocks of generation 54 ..\n",
      "  number of events with aftershocks: 9\n",
      "  number of generated aftershocks: 10\n",
      "\n",
      "\n",
      "simulating aftershocks of generation 55 ..\n",
      "  number of events with aftershocks: 4\n",
      "  number of generated aftershocks: 5\n",
      "\n",
      "\n",
      "simulating aftershocks of generation 56 ..\n",
      "  number of events with aftershocks: 3\n",
      "  number of generated aftershocks: 5\n",
      "\n",
      "\n",
      "simulating aftershocks of generation 57 ..\n",
      "  number of events with aftershocks: 2\n",
      "  number of generated aftershocks: 3\n",
      "\n",
      "\n",
      "simulating aftershocks of generation 58 ..\n",
      "  number of events with aftershocks: 2\n",
      "  number of generated aftershocks: 2\n",
      "\n",
      "\n",
      "simulating aftershocks of generation 59 ..\n",
      "  number of events with aftershocks: 1\n",
      "  number of generated aftershocks: 1\n",
      "\n",
      "\n",
      "simulating aftershocks of generation 60 ..\n",
      "  number of events with aftershocks: 1\n",
      "  number of generated aftershocks: 4\n",
      "\n",
      "\n",
      "simulating aftershocks of generation 61 ..\n",
      "  number of events with aftershocks: 3\n",
      "  number of generated aftershocks: 2\n",
      "\n",
      "\n",
      "simulating aftershocks of generation 62 ..\n",
      "  number of events with aftershocks: 2\n",
      "  number of generated aftershocks: 5\n",
      "\n",
      "\n",
      "simulating aftershocks of generation 63 ..\n",
      "  number of events with aftershocks: 3\n",
      "  number of generated aftershocks: 7\n",
      "\n",
      "\n",
      "simulating aftershocks of generation 64 ..\n",
      "  number of events with aftershocks: 5\n",
      "  number of generated aftershocks: 3\n",
      "\n",
      "\n",
      "simulating aftershocks of generation 65 ..\n",
      "  number of events with aftershocks: 1\n",
      "  number of generated aftershocks: 3\n",
      "\n",
      "\n",
      "simulating aftershocks of generation 66 ..\n",
      "  number of events with aftershocks: 1\n",
      "  number of generated aftershocks: 2\n",
      "\n",
      "\n",
      "simulating aftershocks of generation 67 ..\n",
      "  number of events with aftershocks: 0\n",
      "\n",
      "\n",
      "total events simulated!: 367050\n",
      "inside the polygon: 367050\n"
     ]
    }
   ],
   "source": [
    "synthetic = generate_catalog(\n",
    "        polygon=caliregion,\n",
    "        timewindow_start=burn_start,\n",
    "        timewindow_end=end,\n",
    "        parameters=params,\n",
    "        mc=mc,\n",
    "        beta_main=beta,\n",
    "        \n",
    "    )\n"
   ]
  },
  {
   "cell_type": "code",
   "execution_count": 132,
   "id": "subjective-hostel",
   "metadata": {},
   "outputs": [],
   "source": [
    "synthetic = synthetic[[\"latitude\", \"longitude\", \"time\", \"magnitude\"]]\n"
   ]
  },
  {
   "cell_type": "code",
   "execution_count": 133,
   "id": "familiar-tennessee",
   "metadata": {},
   "outputs": [
    {
     "data": {
      "text/html": [
       "<div>\n",
       "<style scoped>\n",
       "    .dataframe tbody tr th:only-of-type {\n",
       "        vertical-align: middle;\n",
       "    }\n",
       "\n",
       "    .dataframe tbody tr th {\n",
       "        vertical-align: top;\n",
       "    }\n",
       "\n",
       "    .dataframe thead th {\n",
       "        text-align: right;\n",
       "    }\n",
       "</style>\n",
       "<table border=\"1\" class=\"dataframe\">\n",
       "  <thead>\n",
       "    <tr style=\"text-align: right;\">\n",
       "      <th></th>\n",
       "      <th>latitude</th>\n",
       "      <th>longitude</th>\n",
       "      <th>time</th>\n",
       "      <th>magnitude</th>\n",
       "    </tr>\n",
       "  </thead>\n",
       "  <tbody>\n",
       "    <tr>\n",
       "      <th>1</th>\n",
       "      <td>36</td>\n",
       "      <td>-122</td>\n",
       "      <td>1871-01-02 19:34:21.896390000</td>\n",
       "      <td>3.621129</td>\n",
       "    </tr>\n",
       "    <tr>\n",
       "      <th>2</th>\n",
       "      <td>36</td>\n",
       "      <td>-122</td>\n",
       "      <td>1871-01-02 20:38:05.308485000</td>\n",
       "      <td>3.952553</td>\n",
       "    </tr>\n",
       "    <tr>\n",
       "      <th>3</th>\n",
       "      <td>36</td>\n",
       "      <td>-122</td>\n",
       "      <td>1871-01-04 11:34:21.999466000</td>\n",
       "      <td>3.710021</td>\n",
       "    </tr>\n",
       "    <tr>\n",
       "      <th>4</th>\n",
       "      <td>36</td>\n",
       "      <td>-122</td>\n",
       "      <td>1871-01-05 15:16:28.985847000</td>\n",
       "      <td>3.777841</td>\n",
       "    </tr>\n",
       "    <tr>\n",
       "      <th>5</th>\n",
       "      <td>36</td>\n",
       "      <td>-122</td>\n",
       "      <td>1871-01-06 14:22:15.030368000</td>\n",
       "      <td>3.680742</td>\n",
       "    </tr>\n",
       "    <tr>\n",
       "      <th>...</th>\n",
       "      <td>...</td>\n",
       "      <td>...</td>\n",
       "      <td>...</td>\n",
       "      <td>...</td>\n",
       "    </tr>\n",
       "    <tr>\n",
       "      <th>367046</th>\n",
       "      <td>36</td>\n",
       "      <td>-122</td>\n",
       "      <td>2019-02-26 00:24:02.689249795</td>\n",
       "      <td>3.647549</td>\n",
       "    </tr>\n",
       "    <tr>\n",
       "      <th>367047</th>\n",
       "      <td>36</td>\n",
       "      <td>-122</td>\n",
       "      <td>2019-12-06 06:55:22.589867395</td>\n",
       "      <td>4.162529</td>\n",
       "    </tr>\n",
       "    <tr>\n",
       "      <th>367048</th>\n",
       "      <td>36</td>\n",
       "      <td>-122</td>\n",
       "      <td>2019-02-26 06:05:15.372635395</td>\n",
       "      <td>4.601036</td>\n",
       "    </tr>\n",
       "    <tr>\n",
       "      <th>367049</th>\n",
       "      <td>36</td>\n",
       "      <td>-122</td>\n",
       "      <td>2020-01-08 06:32:48.442494595</td>\n",
       "      <td>4.764503</td>\n",
       "    </tr>\n",
       "    <tr>\n",
       "      <th>367050</th>\n",
       "      <td>36</td>\n",
       "      <td>-122</td>\n",
       "      <td>2019-12-07 01:01:06.450548995</td>\n",
       "      <td>4.183682</td>\n",
       "    </tr>\n",
       "  </tbody>\n",
       "</table>\n",
       "<p>367050 rows × 4 columns</p>\n",
       "</div>"
      ],
      "text/plain": [
       "        latitude  longitude                          time  magnitude\n",
       "1             36       -122 1871-01-02 19:34:21.896390000   3.621129\n",
       "2             36       -122 1871-01-02 20:38:05.308485000   3.952553\n",
       "3             36       -122 1871-01-04 11:34:21.999466000   3.710021\n",
       "4             36       -122 1871-01-05 15:16:28.985847000   3.777841\n",
       "5             36       -122 1871-01-06 14:22:15.030368000   3.680742\n",
       "...          ...        ...                           ...        ...\n",
       "367046        36       -122 2019-02-26 00:24:02.689249795   3.647549\n",
       "367047        36       -122 2019-12-06 06:55:22.589867395   4.162529\n",
       "367048        36       -122 2019-02-26 06:05:15.372635395   4.601036\n",
       "367049        36       -122 2020-01-08 06:32:48.442494595   4.764503\n",
       "367050        36       -122 2019-12-07 01:01:06.450548995   4.183682\n",
       "\n",
       "[367050 rows x 4 columns]"
      ]
     },
     "execution_count": 133,
     "metadata": {},
     "output_type": "execute_result"
    }
   ],
   "source": [
    "synthetic"
   ]
  },
  {
   "cell_type": "code",
   "execution_count": 134,
   "id": "saving-matrix",
   "metadata": {},
   "outputs": [
    {
     "data": {
      "text/html": [
       "<div>\n",
       "<style scoped>\n",
       "    .dataframe tbody tr th:only-of-type {\n",
       "        vertical-align: middle;\n",
       "    }\n",
       "\n",
       "    .dataframe tbody tr th {\n",
       "        vertical-align: top;\n",
       "    }\n",
       "\n",
       "    .dataframe thead th {\n",
       "        text-align: right;\n",
       "    }\n",
       "</style>\n",
       "<table border=\"1\" class=\"dataframe\">\n",
       "  <thead>\n",
       "    <tr style=\"text-align: right;\">\n",
       "      <th></th>\n",
       "      <th>latitude</th>\n",
       "      <th>longitude</th>\n",
       "      <th>time</th>\n",
       "      <th>magnitude</th>\n",
       "    </tr>\n",
       "  </thead>\n",
       "  <tbody>\n",
       "    <tr>\n",
       "      <th>1</th>\n",
       "      <td>36</td>\n",
       "      <td>-122</td>\n",
       "      <td>1871-01-02 19:34:21.896390000</td>\n",
       "      <td>3.621129</td>\n",
       "    </tr>\n",
       "    <tr>\n",
       "      <th>2</th>\n",
       "      <td>36</td>\n",
       "      <td>-122</td>\n",
       "      <td>1871-01-02 20:38:05.308485000</td>\n",
       "      <td>3.952553</td>\n",
       "    </tr>\n",
       "    <tr>\n",
       "      <th>52653</th>\n",
       "      <td>36</td>\n",
       "      <td>-122</td>\n",
       "      <td>1871-01-02 20:41:26.166021000</td>\n",
       "      <td>3.974648</td>\n",
       "    </tr>\n",
       "    <tr>\n",
       "      <th>3</th>\n",
       "      <td>36</td>\n",
       "      <td>-122</td>\n",
       "      <td>1871-01-04 11:34:21.999466000</td>\n",
       "      <td>3.710021</td>\n",
       "    </tr>\n",
       "    <tr>\n",
       "      <th>4</th>\n",
       "      <td>36</td>\n",
       "      <td>-122</td>\n",
       "      <td>1871-01-05 15:16:28.985847000</td>\n",
       "      <td>3.777841</td>\n",
       "    </tr>\n",
       "    <tr>\n",
       "      <th>...</th>\n",
       "      <td>...</td>\n",
       "      <td>...</td>\n",
       "      <td>...</td>\n",
       "      <td>...</td>\n",
       "    </tr>\n",
       "    <tr>\n",
       "      <th>351530</th>\n",
       "      <td>36</td>\n",
       "      <td>-122</td>\n",
       "      <td>2020-12-31 13:39:59.754834396</td>\n",
       "      <td>4.822378</td>\n",
       "    </tr>\n",
       "    <tr>\n",
       "      <th>260350</th>\n",
       "      <td>36</td>\n",
       "      <td>-122</td>\n",
       "      <td>2020-12-31 16:16:38.418689999</td>\n",
       "      <td>6.048668</td>\n",
       "    </tr>\n",
       "    <tr>\n",
       "      <th>276101</th>\n",
       "      <td>36</td>\n",
       "      <td>-122</td>\n",
       "      <td>2020-12-31 16:45:28.575406799</td>\n",
       "      <td>3.605661</td>\n",
       "    </tr>\n",
       "    <tr>\n",
       "      <th>276102</th>\n",
       "      <td>36</td>\n",
       "      <td>-122</td>\n",
       "      <td>2020-12-31 17:09:44.185755599</td>\n",
       "      <td>4.136564</td>\n",
       "    </tr>\n",
       "    <tr>\n",
       "      <th>353791</th>\n",
       "      <td>36</td>\n",
       "      <td>-122</td>\n",
       "      <td>2020-12-31 22:26:06.341298396</td>\n",
       "      <td>3.775796</td>\n",
       "    </tr>\n",
       "  </tbody>\n",
       "</table>\n",
       "<p>367050 rows × 4 columns</p>\n",
       "</div>"
      ],
      "text/plain": [
       "        latitude  longitude                          time  magnitude\n",
       "1             36       -122 1871-01-02 19:34:21.896390000   3.621129\n",
       "2             36       -122 1871-01-02 20:38:05.308485000   3.952553\n",
       "52653         36       -122 1871-01-02 20:41:26.166021000   3.974648\n",
       "3             36       -122 1871-01-04 11:34:21.999466000   3.710021\n",
       "4             36       -122 1871-01-05 15:16:28.985847000   3.777841\n",
       "...          ...        ...                           ...        ...\n",
       "351530        36       -122 2020-12-31 13:39:59.754834396   4.822378\n",
       "260350        36       -122 2020-12-31 16:16:38.418689999   6.048668\n",
       "276101        36       -122 2020-12-31 16:45:28.575406799   3.605661\n",
       "276102        36       -122 2020-12-31 17:09:44.185755599   4.136564\n",
       "353791        36       -122 2020-12-31 22:26:06.341298396   3.775796\n",
       "\n",
       "[367050 rows x 4 columns]"
      ]
     },
     "execution_count": 134,
     "metadata": {},
     "output_type": "execute_result"
    }
   ],
   "source": [
    "synthetic = synthetic.sort_values('time')\n",
    "synthetic"
   ]
  },
  {
   "cell_type": "code",
   "execution_count": 135,
   "id": "durable-bosnia",
   "metadata": {},
   "outputs": [],
   "source": [
    "dates = np.array(synthetic['time'])\n",
    "delta_times = (dates-dates[0])\n",
    "times=delta_times/ np.timedelta64(1, 'D')"
   ]
  },
  {
   "cell_type": "code",
   "execution_count": 136,
   "id": "narrative-large",
   "metadata": {},
   "outputs": [],
   "source": [
    "mags = np.array(synthetic['magnitude'])"
   ]
  },
  {
   "cell_type": "markdown",
   "id": "downtown-gilbert",
   "metadata": {},
   "source": [
    "$$ g(t,x,y,m) = \\frac{k_0 \\cdot e^{a(m-m_c)} }{\\frac{(t+c)^{1+\\omega}}{e^{-t/\\tau}} \\cdot\\left((x^2+y^2)+d \\cdot e^{\\gamma(m-m_c)}\\right)^{1+\\rho} }$$"
   ]
  },
  {
   "cell_type": "markdown",
   "id": "formal-stations",
   "metadata": {},
   "source": [
    "To simply this to only temporal, we can take the same parameter values and just ensure that $x$ and $y$ are always zero. The triggering function then becomes:\n",
    "$$ g(t,m) = \\frac{k_0 \\cdot e^{a(m-m_c)} }{\\frac{(t+c)^{1+\\omega}}{e^{-t/\\tau}} \\cdot\\left(d \\cdot e^{\\gamma(m-m_c)}\\right)^{1+\\rho} }$$"
   ]
  },
  {
   "cell_type": "markdown",
   "id": "talented-adams",
   "metadata": {},
   "source": [
    "The intensity at time $t$ is:\n",
    "\\begin{align*} \\lambda(t) &= \\mu + \\sum_{t_i<t} g(t-t_i,m_i) \\\\\n",
    "&= \\mu + \\sum_{t_i<t} h(t-t_i) k(m_i)\n",
    "\\end{align*}"
   ]
  },
  {
   "cell_type": "markdown",
   "id": "random-softball",
   "metadata": {},
   "source": [
    "Where,\n",
    "$$h(t) = \\frac{e^{-t/\\tau}}{(t+c)^{1+\\omega}}$$"
   ]
  },
  {
   "cell_type": "markdown",
   "id": "roman-punishment",
   "metadata": {},
   "source": [
    "$$k(m) = \\frac{k_0 \\cdot e^{a(m-m_c)}}{\\left(d \\cdot e^{\\gamma(m-m_c)}\\right)^{1+\\rho} } $$"
   ]
  },
  {
   "cell_type": "code",
   "execution_count": 137,
   "id": "popular-wonder",
   "metadata": {},
   "outputs": [],
   "source": [
    "tau=10**float(params[\"log10_tau\"])\n",
    "c= 10**float(params[\"log10_c\"])\n",
    "w = float(params[\"omega\"])\n",
    "k0 = 10**float(params[\"log10_k0\"])\n",
    "alpha = float(params[\"a\"])\n",
    "M0 = float(params[\"M0\"])\n",
    "d = 10**float(params[\"log10_d\"])\n",
    "rho = float(params[\"rho\"])\n",
    "ground = 10**float(params[\"log10_mu\"])\n",
    "gama = float(params[\"gamma\"])\n",
    "beta = float(params[\"beta\"])\n",
    "\n",
    "\n",
    "# def h(t):\n",
    "#     return np.exp(-t/tau)/((t+c)**(1+w))\n",
    "\n",
    "# def k(m):\n",
    "#     return k0 * np.exp(alpha * (m - M0))/((d*np.exp(gamma*(m-M0)))**(1+rho))\n",
    "\n",
    "\n",
    "scale = 1/(gamma(-w)*np.power(tau,-1*w))\n",
    "\n",
    "def upper_gamma_ext(a, x):\n",
    "    if a > 0:\n",
    "        return gammaincc(a, x) * gamma(a)\n",
    "    elif a == 0:\n",
    "        return exp1(x)\n",
    "    else:\n",
    "        return (upper_gamma_ext(a + 1, x) - np.power(x, a)*np.exp(-x)) / a\n",
    "\n",
    "def h(t):\n",
    "    return scale*np.exp(-t/tau)/(np.power(t+c,(1+w)))\n",
    "\n",
    "# def k(m):\n",
    "#     return k0*np.exp(alpha*(m-M0))/(np.power(d*np.exp(gama*(m-M0)),(1+rho)))\n",
    "\n",
    "def k(m):\n",
    "    \n",
    "    number_factor = k0 * np.exp(alpha * (m - M0))\n",
    "    area_factor = np.pi * np.power(\n",
    "        d * np.exp(gama * (m - M0)),\n",
    "        -1 * rho\n",
    "    ) / rho\n",
    "\n",
    "    time_factor = np.exp(c/tau) * np.power(tau, -w) \n",
    "    time_fraction = upper_gamma_ext(-w, c/tau)\n",
    "    \n",
    "    \n",
    "    return number_factor*area_factor*time_factor*time_fraction\n",
    "\n",
    "# def H(t):\n",
    "#     return (1/gamma(-w))*gammainc(-w,t/tau)\n",
    "\n",
    "def H(t):\n",
    "    return 1 - gammaincc(-w,(t+c)/tau)/gammaincc(-w,c/tau)\n"
   ]
  },
  {
   "cell_type": "code",
   "execution_count": 126,
   "id": "ecological-whole",
   "metadata": {},
   "outputs": [
    {
     "data": {
      "text/plain": [
       "12.146469167682966"
      ]
     },
     "execution_count": 126,
     "metadata": {},
     "output_type": "execute_result"
    }
   ],
   "source": [
    "upper_gamma_ext(-w, c/tau)"
   ]
  },
  {
   "cell_type": "code",
   "execution_count": 138,
   "id": "cleared-integrity",
   "metadata": {},
   "outputs": [
    {
     "data": {
      "text/plain": [
       "<matplotlib.legend.Legend at 0x7fae955e2ad0>"
      ]
     },
     "execution_count": 138,
     "metadata": {},
     "output_type": "execute_result"
    },
    {
     "data": {
      "image/png": "[encoded data removed]",
      "text/plain": [
       "<Figure size 432x288 with 1 Axes>"
      ]
     },
     "metadata": {
      "needs_background": "light"
     },
     "output_type": "display_data"
    }
   ],
   "source": [
    "# t = simulate_aftershock_time(params[\"log10_c\"], w, params[\"log10_tau\"], size=100000)\n",
    "def f(x):\n",
    "    return np.exp(-(x+c)/tau)/(gammaincc(-w,c/tau)*tau*np.power(((x+c)/tau),1+w)*gamma(-w))\n",
    "\n",
    "\n",
    "\n",
    "# density = gaussian_kde(t)\n",
    "x=np.linspace(0,0.2,100000)\n",
    "# plt.plot(x,density(x))\n",
    "# # plt.hist(t,density=True)\n",
    "plt.plot(x,h(x),label='As stated in paper')\n",
    "plt.plot(x,f(x),label='Reverse engineered from code')\n",
    "plt.legend()"
   ]
  },
  {
   "cell_type": "code",
   "execution_count": 46,
   "id": "formed-general",
   "metadata": {},
   "outputs": [
    {
     "data": {
      "text/plain": [
       "array([21368.65426429, 21368.80392101, 21369.06462058, 21369.38393168,\n",
       "       21370.30535117, 21377.61107168, 21381.42604518, 21383.30394816,\n",
       "       21391.31752614, 21395.10312427, 21395.21312482, 21398.85599543,\n",
       "       21406.336031  , 21416.54026852, 21419.30830865, 21425.57772673,\n",
       "       21437.11650608, 21438.9285913 , 21451.81214139, 21454.21419442,\n",
       "       21476.43927028, 21480.4830345 , 21499.01578726, 21519.13048982,\n",
       "       21519.63203039, 21525.14188377, 21527.12745185, 21527.12748174,\n",
       "       21535.8869739 , 21535.89710063])"
      ]
     },
     "execution_count": 46,
     "metadata": {},
     "output_type": "execute_result"
    }
   ],
   "source": [
    "T_train[-30:]"
   ]
  },
  {
   "cell_type": "code",
   "execution_count": 44,
   "id": "solar-approval",
   "metadata": {},
   "outputs": [
    {
     "data": {
      "text/plain": [
       "21381.260082622415"
      ]
     },
     "execution_count": 44,
     "metadata": {},
     "output_type": "execute_result"
    }
   ],
   "source": [
    "(T_test[-1]-T_test[time_step+1])"
   ]
  },
  {
   "cell_type": "code",
   "execution_count": 49,
   "id": "intimate-forth",
   "metadata": {},
   "outputs": [
    {
     "data": {
      "text/plain": [
       "array([1.67242836e+02, 1.67093180e+02, 1.66832480e+02, 1.66513169e+02,\n",
       "       1.65591749e+02, 1.58286029e+02, 1.54471055e+02, 1.52593152e+02,\n",
       "       1.44579574e+02, 1.40793976e+02, 1.40683976e+02, 1.37041105e+02,\n",
       "       1.29561070e+02, 1.19356832e+02, 1.16588792e+02, 1.10319374e+02,\n",
       "       9.87805945e+01, 9.69685093e+01, 8.40849592e+01, 8.16829062e+01,\n",
       "       5.94578303e+01, 5.54140661e+01, 3.68813134e+01, 1.67666108e+01,\n",
       "       1.62650702e+01, 1.07552169e+01, 8.76964878e+00, 8.76961890e+00,\n",
       "       1.01267280e-02, 0.00000000e+00])"
      ]
     },
     "execution_count": 49,
     "metadata": {},
     "output_type": "execute_result"
    }
   ],
   "source": [
    "((T_test[-1])-T_test[time_step+1:])[-30:]"
   ]
  },
  {
   "cell_type": "code",
   "execution_count": 139,
   "id": "coastal-chapter",
   "metadata": {},
   "outputs": [],
   "source": [
    "# def marked_ETAS_intensity(Tdat,Mdat):\n",
    "    \n",
    "#     lam = np.zeros_like(Tdat)\n",
    "#     lam[0] = ground*area\n",
    "#     for i in range(len(lam)):\n",
    "    \n",
    "#         cumulative = 0\n",
    "#         for j in range(1,i):\n",
    "#             cumulative += k(Mdat[j])*h((Tdat[i]-Tdat[j]))\n",
    "\n",
    "    \n",
    "#         lam[i] = ground*area + cumulative\n",
    "    \n",
    "#     return lam \n",
    "\n",
    "theta_without_mu = params[\"log10_k0\"], params[\"a\"], params[\"log10_c\"], params[\"omega\"], \\\n",
    "                       params[\"log10_tau\"], params[\"log10_d\"], params[\"gamma\"], params[\"rho\"]\n",
    "\n",
    "def marked_ETAS_intensity(Tdat,Mdat):\n",
    "    \n",
    "    lam = np.zeros_like(Tdat)\n",
    "    lam[0] = ground*area\n",
    "    for i in range(len(lam)):\n",
    "    \n",
    "        cumulative = 0\n",
    "        for j in range(1,i):\n",
    "            cumulative += k(Mdat[j])*f(Tdat[i]-Tdat[j])\n",
    "\n",
    "    \n",
    "        lam[i] = ground*area + cumulative\n",
    "    \n",
    "    return lam \n",
    "\n",
    "\n",
    "def marked_likelihood(Tdat,Mdat,maxTime):\n",
    "    temp = np.log(ground*area)\n",
    "    for i in range(1,len(Tdat)):\n",
    "        \n",
    "        temp += np.log(ground*area + sum(k(Mdat[:(i )]) * f(Tdat[i] - Tdat[:(i)]))+1e-7)\n",
    "    \n",
    "    temp = temp - ground*maxTime*area\n",
    "    temp = temp - sum(k(Mdat) * H(maxTime - Tdat))\n",
    "    \n",
    "    return temp"
   ]
  },
  {
   "cell_type": "code",
   "execution_count": 12,
   "id": "unlimited-inventory",
   "metadata": {},
   "outputs": [
    {
     "data": {
      "text/plain": [
       "<matplotlib.legend.Legend at 0x7fba716e8d10>"
      ]
     },
     "execution_count": 12,
     "metadata": {},
     "output_type": "execute_result"
    },
    {
     "data": {
      "image/png": "[encoded data removed]",
      "text/plain": [
       "<Figure size 432x288 with 1 Axes>"
      ]
     },
     "metadata": {
      "needs_background": "light"
     },
     "output_type": "display_data"
    }
   ],
   "source": [
    "x = np.linspace(8,10,1000)\n",
    "plt.plot(x,k(x),alpha=0.8,label='mine')\n",
    "plt.plot(x,expected_aftershocks(x,params=[theta_without_mu, M0],no_start=True,no_end=True),alpha=0.5,label='hers')\n",
    "plt.legend()"
   ]
  },
  {
   "cell_type": "code",
   "execution_count": 140,
   "id": "damaged-casino",
   "metadata": {},
   "outputs": [],
   "source": [
    "lamtimes=times[:4000]\n",
    "lammags=mags[:4000]"
   ]
  },
  {
   "cell_type": "code",
   "execution_count": 141,
   "id": "coral-sense",
   "metadata": {},
   "outputs": [],
   "source": [
    "lam = marked_ETAS_intensity(lamtimes,lammags)"
   ]
  },
  {
   "cell_type": "code",
   "execution_count": 142,
   "id": "corporate-incident",
   "metadata": {},
   "outputs": [],
   "source": [
    "## hyper parameters\n",
    "time_step = 20 # truncation depth of RNN \n",
    "size_rnn = 64 # the number of units in the RNN\n",
    "size_nn = 64 # the nubmer of units in each hidden layer in the cumulative hazard function network\n",
    "size_layer_chfn = 2 # the number of the hidden layers in the cumulative hazard function network\n",
    "size_layer_cmfn = 2\n",
    "\n",
    "T_train=times\n",
    "M_train=mags\n",
    "\n",
    "## mean and std of the log of the inter-event interval, which will be used for the data standardization\n",
    "mu = np.log(np.ediff1d(T_train)).mean()\n",
    "sigma = np.log(np.ediff1d(T_train)).std()\n",
    "\n",
    "mu1 = np.log(M_train).mean()\n",
    "sigma1 = np.log(M_train).std()\n",
    "\n",
    "## kernel initializer for positive weights\n",
    "def abs_glorot_uniform(shape, dtype=None, partition_info=None): \n",
    "    return K.abs(keras.initializers.glorot_uniform(seed=None)(shape,dtype=dtype))\n",
    "\n",
    "## Inputs \n",
    "\n",
    "event_history = layers.Input(shape=(time_step,2))\n",
    "elapsed_time = layers.Input(shape=(1,)) # input to cumulative hazard function network (the elapsed time from the most recent event)\n",
    "current_mag = layers.Input(shape=(1,)) \n",
    "\n",
    "\n",
    "## log-transformation and standardization\n",
    "# event_history_nmlz = layers.Lambda(lambda x: (K.log(x)-mu)/sigma )(event_history) ## probs have to do matrix equivalent for this\n",
    "elapsed_time_nmlz = layers.Lambda(lambda x: (K.log(x)-mu)/sigma )(elapsed_time) \n",
    "\n",
    "numpyA = np.array([[1/sigma,0],[0,1/sigma1]])\n",
    "\n",
    "def multA(x,A):\n",
    "    A = K.constant(numpyA)\n",
    "\n",
    "    return K.dot(x,A)\n",
    "\n",
    "event_history_nmlz = layers.Lambda(lambda x: multA(K.log(x)-[mu,mu1],numpyA))(event_history)\n",
    "current_mag_nmlz = layers.Lambda(lambda x: (K.log(x)-mu1)/sigma1 )(current_mag)\n",
    "\n",
    "## RNN\n",
    "output_rnn = layers.SimpleRNN(size_rnn,input_shape=(time_step,2),activation='tanh')(event_history_nmlz)\n",
    "\n",
    "## the first hidden layer in the cummulative hazard function network\n",
    "hidden_tau = layers.Dense(size_nn,kernel_initializer=abs_glorot_uniform,kernel_constraint=keras.constraints.NonNeg(),use_bias=False)(elapsed_time_nmlz) # elapsed time -> the 1st hidden layer, positive weights\n",
    "hidden_rnn = layers.Dense(size_nn)(output_rnn) # rnn output -> the 1st hidden layer\n",
    "hidden = layers.Lambda(lambda inputs: K.tanh(inputs[0]+inputs[1]) )([hidden_tau,hidden_rnn])\n",
    "\n",
    "## the second and higher hidden layers\n",
    "for i in range(size_layer_chfn-1):\n",
    "    hidden = layers.Dense(size_nn,activation='tanh',kernel_initializer=abs_glorot_uniform,kernel_constraint=keras.constraints.NonNeg())(hidden) # positive weights\n",
    "\n",
    "## the first hidden layer in the cummulative hazard function network\n",
    "hidden_mu = layers.Dense(size_nn,kernel_initializer=abs_glorot_uniform,kernel_constraint=keras.constraints.NonNeg(),use_bias=False)(current_mag_nmlz) # elapsed time -> the 1st hidden layer, positive weights\n",
    "hidden_rnn_mag = layers.Dense(size_nn)(output_rnn) # rnn output -> the 1st hidden layer\n",
    "hidden_mag = layers.Lambda(lambda inputs: K.tanh(inputs[0]+inputs[1]) )([hidden_mu,hidden_rnn_mag,hidden_tau])\n",
    "\n",
    "## the second and higher hidden layers\n",
    "for i in range(size_layer_cmfn-1):\n",
    "    hidden_mag = layers.Dense(size_nn,activation='tanh',kernel_initializer=abs_glorot_uniform,kernel_constraint=keras.constraints.NonNeg())(hidden_mag) # positive weights\n",
    "    \n",
    "    \n",
    "    \n",
    "## Outputs\n",
    "Int_l = layers.Dense(1, activation='softplus',kernel_initializer=abs_glorot_uniform, kernel_constraint=keras.constraints.NonNeg() )(hidden) # cumulative hazard function, positive weights\n",
    "l = layers.Lambda( lambda inputs: K.gradients(inputs[0],inputs[1])[0] )([Int_l,elapsed_time]) # hazard function\n",
    "Int_l_mag = layers.Dense(1, activation='softplus',kernel_initializer=abs_glorot_uniform, kernel_constraint=keras.constraints.NonNeg() )(hidden_mag) # cumulative hazard function, positive weights\n",
    "l_mag= layers.Lambda( lambda inputs: K.gradients(inputs[0],inputs[1])[0] )([Int_l_mag,current_mag]) # hazard function\n",
    "\n",
    "## define model\n",
    "model = Model(inputs=[event_history,elapsed_time,current_mag],outputs=[l,Int_l,l_mag,Int_l_mag])\n",
    "model.add_loss( -K.mean( K.log( 1e-10 + l )+ K.log(1e-10 + l_mag ) - Int_l ) ) # set loss function to be the negative log-likelihood function"
   ]
  },
  {
   "cell_type": "code",
   "execution_count": 143,
   "id": "closing-iraqi",
   "metadata": {},
   "outputs": [
    {
     "name": "stdout",
     "output_type": "stream",
     "text": [
      "WARNING:tensorflow:Output lambda_12 missing from loss dictionary. We assume this was done on purpose. The fit and evaluate APIs will not be expecting any data to be passed to lambda_12.\n",
      "WARNING:tensorflow:Output dense_14 missing from loss dictionary. We assume this was done on purpose. The fit and evaluate APIs will not be expecting any data to be passed to dense_14.\n",
      "WARNING:tensorflow:Output lambda_13 missing from loss dictionary. We assume this was done on purpose. The fit and evaluate APIs will not be expecting any data to be passed to lambda_13.\n",
      "WARNING:tensorflow:Output dense_15 missing from loss dictionary. We assume this was done on purpose. The fit and evaluate APIs will not be expecting any data to be passed to dense_15.\n",
      "Train on 293623 samples, validate on 73406 samples\n",
      "Epoch 1/30\n",
      "293623/293623 [==============================] - 13s 44us/sample - loss: -4.1730 - val_loss: -4.9105\n",
      "Epoch 2/30\n",
      "293623/293623 [==============================] - 12s 39us/sample - loss: -5.1454 - val_loss: -5.4648\n",
      "Epoch 3/30\n",
      "293623/293623 [==============================] - 11s 37us/sample - loss: -5.5723 - val_loss: -5.7945\n",
      "Epoch 4/30\n",
      "293623/293623 [==============================] - 11s 38us/sample - loss: -5.8805 - val_loss: -6.0945\n",
      "Epoch 5/30\n",
      "293623/293623 [==============================] - 11s 38us/sample - loss: -6.1295 - val_loss: -6.3139\n",
      "Epoch 6/30\n",
      "293623/293623 [==============================] - 12s 39us/sample - loss: -6.3363 - val_loss: -6.4691\n",
      "Epoch 7/30\n",
      "293623/293623 [==============================] - 11s 36us/sample - loss: -6.5126 - val_loss: -6.6762\n",
      "Epoch 8/30\n",
      "293623/293623 [==============================] - 11s 38us/sample - loss: -6.6645 - val_loss: -6.8110\n",
      "Epoch 9/30\n",
      "293623/293623 [==============================] - 11s 37us/sample - loss: -6.7933 - val_loss: -6.9196\n",
      "Epoch 10/30\n",
      "293623/293623 [==============================] - 12s 41us/sample - loss: -6.9101 - val_loss: -7.0370\n",
      "Epoch 11/30\n",
      "293623/293623 [==============================] - 12s 40us/sample - loss: -7.0117 - val_loss: -7.1345\n",
      "Epoch 12/30\n",
      "293623/293623 [==============================] - 9s 32us/sample - loss: -7.1025 - val_loss: -7.2136\n",
      "Epoch 13/30\n",
      "293623/293623 [==============================] - 11s 37us/sample - loss: -7.1830 - val_loss: -7.2902\n",
      "Epoch 14/30\n",
      "293623/293623 [==============================] - 10s 34us/sample - loss: -7.2523 - val_loss: -7.3605\n",
      "Epoch 15/30\n",
      "293623/293623 [==============================] - 11s 39us/sample - loss: -7.3184 - val_loss: -7.4234\n",
      "Epoch 16/30\n",
      "293623/293623 [==============================] - 10s 35us/sample - loss: -7.3806 - val_loss: -7.4700\n",
      "Epoch 17/30\n",
      "293623/293623 [==============================] - 12s 39us/sample - loss: -7.4340 - val_loss: -7.5332\n",
      "Epoch 18/30\n",
      "293623/293623 [==============================] - 11s 37us/sample - loss: -7.4827 - val_loss: -7.5604\n",
      "Epoch 19/30\n",
      "293623/293623 [==============================] - 10s 33us/sample - loss: -7.5328 - val_loss: -7.6214\n",
      "Epoch 20/30\n",
      "293623/293623 [==============================] - 10s 34us/sample - loss: -7.5567 - val_loss: -7.6424\n",
      "Epoch 21/30\n",
      "293623/293623 [==============================] - 10s 34us/sample - loss: -7.6190 - val_loss: -7.6864\n",
      "Epoch 22/30\n",
      "293623/293623 [==============================] - 10s 35us/sample - loss: -7.6556 - val_loss: -7.7373\n",
      "Epoch 23/30\n",
      "293623/293623 [==============================] - 10s 34us/sample - loss: -7.6948 - val_loss: -7.7584\n",
      "Epoch 24/30\n",
      "293623/293623 [==============================] - 12s 39us/sample - loss: -7.7291 - val_loss: -7.8086\n",
      "Epoch 25/30\n",
      "293623/293623 [==============================] - 9s 31us/sample - loss: -7.7609 - val_loss: -7.8325\n",
      "Epoch 26/30\n",
      "293623/293623 [==============================] - 10s 36us/sample - loss: -7.7955 - val_loss: -7.8836\n",
      "Epoch 27/30\n",
      "293623/293623 [==============================] - 12s 41us/sample - loss: -7.8241 - val_loss: -7.8974\n",
      "Epoch 28/30\n",
      "293623/293623 [==============================] - 12s 40us/sample - loss: -7.8552 - val_loss: -7.9178\n",
      "Epoch 29/30\n",
      "293623/293623 [==============================] - 12s 39us/sample - loss: -7.8852 - val_loss: -7.9680\n",
      "Epoch 30/30\n",
      "293623/293623 [==============================] - 9s 30us/sample - loss: -7.9101 - val_loss: -7.9883\n"
     ]
    },
    {
     "data": {
      "text/plain": [
       "<tensorflow.python.keras.callbacks.History at 0x7fae8d51e510>"
      ]
     },
     "execution_count": 143,
     "metadata": {},
     "output_type": "execute_result"
    }
   ],
   "source": [
    "## format the input data\n",
    "dM_train = np.delete(mags,0)\n",
    "\n",
    "dT_train = np.ediff1d(times) # transform a series of timestamps to a series of interevent intervals: T_train -> dT_train\n",
    "n = dT_train.shape[0]\n",
    "n2 = dM_train.shape[0]\n",
    "input_RNN_times = np.array( [ dT_train[i:i+time_step] for i in range(n-time_step) ]).reshape(n-time_step,time_step,1)\n",
    "input_RNN_mags = np.array( [ dM_train[i:i+time_step] for i in range(n2-time_step) ]).reshape(n2-time_step,time_step,1)\n",
    "input_RNN = np.concatenate((input_RNN_times,input_RNN_mags),axis=2)\n",
    "input_CHFN = dT_train[-n+time_step:].reshape(n-time_step,1)\n",
    "input_CMFN =dM_train[-n+time_step:].reshape(n-time_step,1)\n",
    "\n",
    "\n",
    "## training \n",
    "model.compile(keras.optimizers.Adam(lr=0.001))\n",
    "model.fit([input_RNN,input_CHFN,input_CMFN],epochs=30,batch_size=256,validation_split=0.2) # In our study, we have set epochs = 100 and employed early stopping. Please see code.ipynb for more details."
   ]
  },
  {
   "cell_type": "code",
   "execution_count": 144,
   "id": "empty-optimum",
   "metadata": {},
   "outputs": [
    {
     "name": "stdout",
     "output_type": "stream",
     "text": [
      "Mean negative log-likelihood per event:  -1.049454\n"
     ]
    }
   ],
   "source": [
    "[l_test,Int_l_test,l_mag_test,Int_mag_test] = model.predict([input_RNN,input_CHFN,input_CMFN],batch_size=input_RNN.shape[0])\n",
    "LL = np.log(l_test+1e-10) - Int_l_test  # log-liklihood\n",
    "print(\"Mean negative log-likelihood per event: \",-LL.mean())"
   ]
  },
  {
   "cell_type": "code",
   "execution_count": 145,
   "id": "cultural-hundred",
   "metadata": {},
   "outputs": [
    {
     "ename": "KeyboardInterrupt",
     "evalue": "",
     "output_type": "error",
     "traceback": [
      "\u001b[0;31m---------------------------------------------------------------------------\u001b[0m",
      "\u001b[0;31mKeyboardInterrupt\u001b[0m                         Traceback (most recent call last)",
      "\u001b[0;32m<ipython-input-145-229dc71b098c>\u001b[0m in \u001b[0;36m<module>\u001b[0;34m\u001b[0m\n\u001b[1;32m      1\u001b[0m \u001b[0mT_test\u001b[0m\u001b[0;34m=\u001b[0m\u001b[0mT_train\u001b[0m\u001b[0;34m\u001b[0m\u001b[0;34m\u001b[0m\u001b[0m\n\u001b[1;32m      2\u001b[0m \u001b[0mM_test\u001b[0m\u001b[0;34m=\u001b[0m\u001b[0mM_train\u001b[0m\u001b[0;34m\u001b[0m\u001b[0;34m\u001b[0m\u001b[0m\n\u001b[0;32m----> 3\u001b[0;31m \u001b[0mTLL\u001b[0m \u001b[0;34m=\u001b[0m \u001b[0;34m-\u001b[0m\u001b[0mmarked_likelihood\u001b[0m\u001b[0;34m(\u001b[0m\u001b[0mT_test\u001b[0m\u001b[0;34m[\u001b[0m\u001b[0mtime_step\u001b[0m\u001b[0;34m+\u001b[0m\u001b[0;36m1\u001b[0m\u001b[0;34m:\u001b[0m\u001b[0;34m]\u001b[0m\u001b[0;34m,\u001b[0m\u001b[0mM_test\u001b[0m\u001b[0;34m[\u001b[0m\u001b[0mtime_step\u001b[0m\u001b[0;34m+\u001b[0m\u001b[0;36m1\u001b[0m\u001b[0;34m:\u001b[0m\u001b[0;34m]\u001b[0m\u001b[0;34m,\u001b[0m\u001b[0;34m(\u001b[0m\u001b[0mT_test\u001b[0m\u001b[0;34m[\u001b[0m\u001b[0;34m-\u001b[0m\u001b[0;36m1\u001b[0m\u001b[0;34m]\u001b[0m\u001b[0;34m)\u001b[0m\u001b[0;34m)\u001b[0m\u001b[0;34m/\u001b[0m\u001b[0mlen\u001b[0m\u001b[0;34m(\u001b[0m\u001b[0mT_test\u001b[0m\u001b[0;34m[\u001b[0m\u001b[0mtime_step\u001b[0m\u001b[0;34m+\u001b[0m\u001b[0;36m1\u001b[0m\u001b[0;34m:\u001b[0m\u001b[0;34m]\u001b[0m\u001b[0;34m)\u001b[0m\u001b[0;34m\u001b[0m\u001b[0;34m\u001b[0m\u001b[0m\n\u001b[0m\u001b[1;32m      4\u001b[0m \u001b[0mprint\u001b[0m\u001b[0;34m(\u001b[0m\u001b[0;34m\"True mean negative log-likelihood per event: \"\u001b[0m\u001b[0;34m,\u001b[0m\u001b[0mTLL\u001b[0m\u001b[0;34m)\u001b[0m\u001b[0;34m\u001b[0m\u001b[0;34m\u001b[0m\u001b[0m\n",
      "\u001b[0;32m<ipython-input-139-4bdd1b32ee7c>\u001b[0m in \u001b[0;36mmarked_likelihood\u001b[0;34m(Tdat, Mdat, maxTime)\u001b[0m\n\u001b[1;32m     37\u001b[0m     \u001b[0;32mfor\u001b[0m \u001b[0mi\u001b[0m \u001b[0;32min\u001b[0m \u001b[0mrange\u001b[0m\u001b[0;34m(\u001b[0m\u001b[0;36m1\u001b[0m\u001b[0;34m,\u001b[0m\u001b[0mlen\u001b[0m\u001b[0;34m(\u001b[0m\u001b[0mTdat\u001b[0m\u001b[0;34m)\u001b[0m\u001b[0;34m)\u001b[0m\u001b[0;34m:\u001b[0m\u001b[0;34m\u001b[0m\u001b[0;34m\u001b[0m\u001b[0m\n\u001b[1;32m     38\u001b[0m \u001b[0;34m\u001b[0m\u001b[0m\n\u001b[0;32m---> 39\u001b[0;31m         \u001b[0mtemp\u001b[0m \u001b[0;34m+=\u001b[0m \u001b[0mnp\u001b[0m\u001b[0;34m.\u001b[0m\u001b[0mlog\u001b[0m\u001b[0;34m(\u001b[0m\u001b[0mground\u001b[0m\u001b[0;34m*\u001b[0m\u001b[0marea\u001b[0m \u001b[0;34m+\u001b[0m \u001b[0msum\u001b[0m\u001b[0;34m(\u001b[0m\u001b[0mk\u001b[0m\u001b[0;34m(\u001b[0m\u001b[0mMdat\u001b[0m\u001b[0;34m[\u001b[0m\u001b[0;34m:\u001b[0m\u001b[0;34m(\u001b[0m\u001b[0mi\u001b[0m \u001b[0;34m)\u001b[0m\u001b[0;34m]\u001b[0m\u001b[0;34m)\u001b[0m \u001b[0;34m*\u001b[0m \u001b[0mf\u001b[0m\u001b[0;34m(\u001b[0m\u001b[0mTdat\u001b[0m\u001b[0;34m[\u001b[0m\u001b[0mi\u001b[0m\u001b[0;34m]\u001b[0m \u001b[0;34m-\u001b[0m \u001b[0mTdat\u001b[0m\u001b[0;34m[\u001b[0m\u001b[0;34m:\u001b[0m\u001b[0;34m(\u001b[0m\u001b[0mi\u001b[0m\u001b[0;34m)\u001b[0m\u001b[0;34m]\u001b[0m\u001b[0;34m)\u001b[0m\u001b[0;34m)\u001b[0m\u001b[0;34m+\u001b[0m\u001b[0;36m1e-7\u001b[0m\u001b[0;34m)\u001b[0m\u001b[0;34m\u001b[0m\u001b[0;34m\u001b[0m\u001b[0m\n\u001b[0m\u001b[1;32m     40\u001b[0m \u001b[0;34m\u001b[0m\u001b[0m\n\u001b[1;32m     41\u001b[0m     \u001b[0mtemp\u001b[0m \u001b[0;34m=\u001b[0m \u001b[0mtemp\u001b[0m \u001b[0;34m-\u001b[0m \u001b[0mground\u001b[0m\u001b[0;34m*\u001b[0m\u001b[0mmaxTime\u001b[0m\u001b[0;34m*\u001b[0m\u001b[0marea\u001b[0m\u001b[0;34m\u001b[0m\u001b[0;34m\u001b[0m\u001b[0m\n",
      "\u001b[0;31mKeyboardInterrupt\u001b[0m: "
     ]
    }
   ],
   "source": [
    "T_test=T_train\n",
    "M_test=M_train\n",
    "TLL = -marked_likelihood(T_test[time_step+1:],M_test[time_step+1:],(T_test[-1]))/len(T_test[time_step+1:])\n",
    "print(\"True mean negative log-likelihood per event: \",TLL)"
   ]
  },
  {
   "cell_type": "code",
   "execution_count": 146,
   "id": "legislative-attack",
   "metadata": {},
   "outputs": [],
   "source": [
    "timesplot=times[time_step+1:]\n",
    "lam=lam[time_step+1:]"
   ]
  },
  {
   "cell_type": "code",
   "execution_count": 165,
   "id": "bound-crystal",
   "metadata": {},
   "outputs": [
    {
     "data": {
      "text/plain": [
       "<matplotlib.legend.Legend at 0x7faeba690190>"
      ]
     },
     "execution_count": 165,
     "metadata": {},
     "output_type": "execute_result"
    },
    {
     "data": {
      "image/png": "[encoded data removed]",
      "text/plain": [
       "<Figure size 432x288 with 1 Axes>"
      ]
     },
     "metadata": {
      "needs_background": "light"
     },
     "output_type": "display_data"
    }
   ],
   "source": [
    "i = 390\n",
    "index=range(i,i+20)\n",
    "plt.plot(timesplot[index],l_test[index],label='predicted')\n",
    "plt.plot(timesplot[index],lam[index],label='true')\n",
    "plt.legend()"
   ]
  },
  {
   "cell_type": "code",
   "execution_count": 161,
   "id": "coated-coverage",
   "metadata": {},
   "outputs": [
    {
     "data": {
      "text/plain": [
       "<matplotlib.legend.Legend at 0x7fae8d53e350>"
      ]
     },
     "execution_count": 161,
     "metadata": {},
     "output_type": "execute_result"
    },
    {
     "data": {
      "image/png": "[encoded data removed]",
      "text/plain": [
       "<Figure size 432x288 with 1 Axes>"
      ]
     },
     "metadata": {
      "needs_background": "light"
     },
     "output_type": "display_data"
    }
   ],
   "source": [
    "i = 1076\n",
    "index=range(i,i+13)\n",
    "plt.plot(timesplot[index],l_test[index],label='predicted')\n",
    "plt.plot(timesplot[index],lam[index],label='true')\n",
    "plt.legend()"
   ]
  },
  {
   "cell_type": "code",
   "execution_count": 120,
   "id": "classified-judges",
   "metadata": {},
   "outputs": [
    {
     "data": {
      "text/plain": [
       "0.51"
      ]
     },
     "execution_count": 120,
     "metadata": {},
     "output_type": "execute_result"
    }
   ],
   "source": [
    "rho"
   ]
  },
  {
   "cell_type": "code",
   "execution_count": 166,
   "id": "creative-childhood",
   "metadata": {},
   "outputs": [
    {
     "data": {
      "text/plain": [
       "[<matplotlib.lines.Line2D at 0x7faeba5be210>]"
      ]
     },
     "execution_count": 166,
     "metadata": {},
     "output_type": "execute_result"
    },
    {
     "data": {
      "image/png": "[encoded data removed]",
      "text/plain": [
       "<Figure size 432x288 with 1 Axes>"
      ]
     },
     "metadata": {
      "needs_background": "light"
     },
     "output_type": "display_data"
    }
   ],
   "source": [
    "plt.plot(timesplot[:3979],abs(l_test[:3979,0]-lam)/(lam))"
   ]
  },
  {
   "cell_type": "code",
   "execution_count": 86,
   "id": "tested-vermont",
   "metadata": {},
   "outputs": [
    {
     "data": {
      "text/plain": [
       "32.78499835179414"
      ]
     },
     "execution_count": 86,
     "metadata": {},
     "output_type": "execute_result"
    }
   ],
   "source": []
  },
  {
   "cell_type": "code",
   "execution_count": 41,
   "id": "basic-transcript",
   "metadata": {},
   "outputs": [
    {
     "data": {
      "text/plain": [
       "2.370475364347354"
      ]
     },
     "execution_count": 41,
     "metadata": {},
     "output_type": "execute_result"
    }
   ],
   "source": [
    "(l_test[:,0]/lam).mean()"
   ]
  },
  {
   "cell_type": "code",
   "execution_count": 154,
   "id": "subtle-sodium",
   "metadata": {},
   "outputs": [
    {
     "data": {
      "text/plain": [
       "1099"
      ]
     },
     "execution_count": 154,
     "metadata": {},
     "output_type": "execute_result"
    }
   ],
   "source": [
    "lammags.argmax()"
   ]
  },
  {
   "cell_type": "code",
   "execution_count": 89,
   "id": "noticed-browser",
   "metadata": {},
   "outputs": [
    {
     "data": {
      "text/plain": [
       "7.010365151206469"
      ]
     },
     "execution_count": 89,
     "metadata": {},
     "output_type": "execute_result"
    }
   ],
   "source": [
    "lammags.max()"
   ]
  },
  {
   "cell_type": "code",
   "execution_count": null,
   "id": "perfect-killer",
   "metadata": {},
   "outputs": [],
   "source": [
    "binwidth=0.5\n",
    "plt.hist(dT_train,bins=np.arange(min(dT_train), max(dT_train) + binwidth, binwidth),density=True)"
   ]
  }
 ],
 "metadata": {
  "kernelspec": {
   "display_name": "Python 3",
   "language": "python",
   "name": "python3"
  },
  "language_info": {
   "codemirror_mode": {
    "name": "ipython",
    "version": 3
   },
   "file_extension": ".py",
   "mimetype": "text/x-python",
   "name": "python",
   "nbconvert_exporter": "python",
   "pygments_lexer": "ipython3",
   "version": "3.7.10"
  }
 },
 "nbformat": 4,
 "nbformat_minor": 5
}
