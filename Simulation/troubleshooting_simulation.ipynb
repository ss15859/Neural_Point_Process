{
 "cells": [
  {
   "cell_type": "markdown",
   "id": "optical-function",
   "metadata": {},
   "source": [
    "# Troubleshooting Simulation "
   ]
  },
  {
   "cell_type": "code",
   "execution_count": 21,
   "id": "welsh-joint",
   "metadata": {},
   "outputs": [],
   "source": [
    "import csv\n",
    "import numpy as np\n",
    "import datetime as dt\n",
    "from shapely.geometry import Polygon\n",
    "import pandas as pd\n",
    "import matplotlib.pyplot as plt\n",
    "\n",
    "from simulation import generate_catalog, simulate_aftershock_time\n",
    "from inversion import round_half_up, polygon_surface, expected_aftershocks\n",
    "\n",
    "from scipy.special import gammaincc, gammainccinv, gamma, gammainc\n",
    "from scipy.stats import gaussian_kde\n",
    "\n",
    "import tensorflow as tf\n",
    "import tensorflow.keras as keras\n",
    "from tensorflow.keras import layers\n",
    "from tensorflow.keras import backend as K\n",
    "from tensorflow.keras.models import Model"
   ]
  },
  {
   "cell_type": "code",
   "execution_count": 22,
   "id": "pregnant-hughes",
   "metadata": {},
   "outputs": [
    {
     "name": "stderr",
     "output_type": "stream",
     "text": [
      "/home/ss15859/anaconda3/envs/py-37-keras-21/lib/python3.7/site-packages/pyproj/crs/crs.py:53: FutureWarning: '+init=<authority>:<code>' syntax is deprecated. '<authority>:<code>' is the preferred initialization method. When making the change, be mindful of axis order changes: https://pyproj4.github.io/pyproj/stable/gotchas.html#axis-order-changes-in-proj-6\n",
      "  return _prepare_from_string(\" \".join(pjargs))\n",
      "/home/ss15859/anaconda3/envs/py-37-keras-21/lib/python3.7/site-packages/pyproj/crs/crs.py:294: FutureWarning: '+init=<authority>:<code>' syntax is deprecated. '<authority>:<code>' is the preferred initialization method. When making the change, be mindful of axis order changes: https://pyproj4.github.io/pyproj/stable/gotchas.html#axis-order-changes-in-proj-6\n",
      "  projstring = _prepare_from_string(\" \".join((projstring, projkwargs)))\n"
     ]
    }
   ],
   "source": [
    "shape_coords = [list([a[1], a[0]]) for a in (np.load(\"california_shape.npy\"))]\n",
    "caliregion = Polygon(shape_coords)\n",
    "area = polygon_surface(caliregion)\n",
    "burn_start = dt.datetime(1871, 1, 1)\n",
    "primary_start = dt.datetime(1871, 1, 1)\n",
    "end = dt.datetime(2021, 1, 1)\n",
    "\n",
    "\n",
    "mc=3.6\n",
    "beta=2.4\n",
    "\n",
    "params = {\n",
    "    'log10_mu': -6.8,\n",
    "    'log10_k0': -2.49,\n",
    "    'a': 1.69,\n",
    "    'log10_c': -2.95,\n",
    "    'omega': -0.03,\n",
    "    'log10_tau': 3.99,\n",
    "    'log10_d': -0.35,\n",
    "    'gamma': 1.22,\n",
    "    'rho': 0.51,\n",
    "    'M0': mc,\n",
    "    'beta': beta\n",
    "    }"
   ]
  },
  {
   "cell_type": "code",
   "execution_count": 23,
   "id": "inner-bailey",
   "metadata": {},
   "outputs": [
    {
     "name": "stdout",
     "output_type": "stream",
     "text": [
      "generating background events..\n",
      "  number of background events needed: 8492\n",
      "  generating 8492 to throw away those outside the polygon\n"
     ]
    },
    {
     "name": "stderr",
     "output_type": "stream",
     "text": [
      "/home/ss15859/anaconda3/envs/py-37-keras-21/lib/python3.7/site-packages/pyproj/crs/crs.py:53: FutureWarning: '+init=<authority>:<code>' syntax is deprecated. '<authority>:<code>' is the preferred initialization method. When making the change, be mindful of axis order changes: https://pyproj4.github.io/pyproj/stable/gotchas.html#axis-order-changes-in-proj-6\n",
      "  return _prepare_from_string(\" \".join(pjargs))\n",
      "/home/ss15859/anaconda3/envs/py-37-keras-21/lib/python3.7/site-packages/pyproj/crs/crs.py:294: FutureWarning: '+init=<authority>:<code>' syntax is deprecated. '<authority>:<code>' is the preferred initialization method. When making the change, be mindful of axis order changes: https://pyproj4.github.io/pyproj/stable/gotchas.html#axis-order-changes-in-proj-6\n",
      "  projstring = _prepare_from_string(\" \".join((projstring, projkwargs)))\n",
      "/home/ss15859/anaconda3/envs/py-37-keras-21/lib/python3.7/site-packages/pyproj/crs/crs.py:53: FutureWarning: '+init=<authority>:<code>' syntax is deprecated. '<authority>:<code>' is the preferred initialization method. When making the change, be mindful of axis order changes: https://pyproj4.github.io/pyproj/stable/gotchas.html#axis-order-changes-in-proj-6\n",
      "  return _prepare_from_string(\" \".join(pjargs))\n",
      "/home/ss15859/anaconda3/envs/py-37-keras-21/lib/python3.7/site-packages/pyproj/crs/crs.py:294: FutureWarning: '+init=<authority>:<code>' syntax is deprecated. '<authority>:<code>' is the preferred initialization method. When making the change, be mindful of axis order changes: https://pyproj4.github.io/pyproj/stable/gotchas.html#axis-order-changes-in-proj-6\n",
      "  projstring = _prepare_from_string(\" \".join((projstring, projkwargs)))\n"
     ]
    },
    {
     "name": "stdout",
     "output_type": "stream",
     "text": [
      "  number of background events: 8492\n",
      "\n",
      "  branching ratio: 0.8667056165577146\n",
      "  expected total number of events (if time were infinite): 63708.610825878626\n",
      "\n",
      "\n",
      "simulating aftershocks of generation 0 ..\n",
      "  number of events with aftershocks: 4403\n",
      "  number of generated aftershocks: 7108\n",
      "\n",
      "\n",
      "simulating aftershocks of generation 1 ..\n",
      "  number of events with aftershocks: 3798\n",
      "  number of generated aftershocks: 6071\n",
      "\n",
      "\n",
      "simulating aftershocks of generation 2 ..\n",
      "  number of events with aftershocks: 3193\n",
      "  number of generated aftershocks: 5307\n",
      "\n",
      "\n",
      "simulating aftershocks of generation 3 ..\n",
      "  number of events with aftershocks: 2837\n",
      "  number of generated aftershocks: 4458\n",
      "\n",
      "\n",
      "simulating aftershocks of generation 4 ..\n",
      "  number of events with aftershocks: 2362\n",
      "  number of generated aftershocks: 3742\n",
      "\n",
      "\n",
      "simulating aftershocks of generation 5 ..\n",
      "  number of events with aftershocks: 1970\n",
      "  number of generated aftershocks: 3239\n",
      "\n",
      "\n",
      "simulating aftershocks of generation 6 ..\n",
      "  number of events with aftershocks: 1700\n",
      "  number of generated aftershocks: 2736\n",
      "\n",
      "\n",
      "simulating aftershocks of generation 7 ..\n",
      "  number of events with aftershocks: 1427\n",
      "  number of generated aftershocks: 2296\n",
      "\n",
      "\n",
      "simulating aftershocks of generation 8 ..\n",
      "  number of events with aftershocks: 1263\n",
      "  number of generated aftershocks: 2004\n",
      "\n",
      "\n",
      "simulating aftershocks of generation 9 ..\n",
      "  number of events with aftershocks: 1046\n",
      "  number of generated aftershocks: 1647\n",
      "\n",
      "\n",
      "simulating aftershocks of generation 10 ..\n",
      "  number of events with aftershocks: 865\n",
      "  number of generated aftershocks: 1395\n",
      "\n",
      "\n",
      "simulating aftershocks of generation 11 ..\n",
      "  number of events with aftershocks: 720\n",
      "  number of generated aftershocks: 1240\n",
      "\n",
      "\n",
      "simulating aftershocks of generation 12 ..\n",
      "  number of events with aftershocks: 672\n",
      "  number of generated aftershocks: 1055\n",
      "\n",
      "\n",
      "simulating aftershocks of generation 13 ..\n",
      "  number of events with aftershocks: 560\n",
      "  number of generated aftershocks: 907\n",
      "\n",
      "\n",
      "simulating aftershocks of generation 14 ..\n",
      "  number of events with aftershocks: 489\n",
      "  number of generated aftershocks: 741\n",
      "\n",
      "\n",
      "simulating aftershocks of generation 15 ..\n",
      "  number of events with aftershocks: 402\n",
      "  number of generated aftershocks: 642\n",
      "\n",
      "\n",
      "simulating aftershocks of generation 16 ..\n",
      "  number of events with aftershocks: 334\n",
      "  number of generated aftershocks: 578\n",
      "\n",
      "\n",
      "simulating aftershocks of generation 17 ..\n",
      "  number of events with aftershocks: 311\n",
      "  number of generated aftershocks: 517\n",
      "\n",
      "\n",
      "simulating aftershocks of generation 18 ..\n",
      "  number of events with aftershocks: 282\n",
      "  number of generated aftershocks: 476\n",
      "\n",
      "\n",
      "simulating aftershocks of generation 19 ..\n",
      "  number of events with aftershocks: 247\n",
      "  number of generated aftershocks: 382\n",
      "\n",
      "\n",
      "simulating aftershocks of generation 20 ..\n",
      "  number of events with aftershocks: 207\n",
      "  number of generated aftershocks: 335\n",
      "\n",
      "\n",
      "simulating aftershocks of generation 21 ..\n",
      "  number of events with aftershocks: 161\n",
      "  number of generated aftershocks: 264\n",
      "\n",
      "\n",
      "simulating aftershocks of generation 22 ..\n",
      "  number of events with aftershocks: 134\n",
      "  number of generated aftershocks: 258\n",
      "\n",
      "\n",
      "simulating aftershocks of generation 23 ..\n",
      "  number of events with aftershocks: 135\n",
      "  number of generated aftershocks: 239\n",
      "\n",
      "\n",
      "simulating aftershocks of generation 24 ..\n",
      "  number of events with aftershocks: 120\n",
      "  number of generated aftershocks: 201\n",
      "\n",
      "\n",
      "simulating aftershocks of generation 25 ..\n",
      "  number of events with aftershocks: 100\n",
      "  number of generated aftershocks: 141\n",
      "\n",
      "\n",
      "simulating aftershocks of generation 26 ..\n",
      "  number of events with aftershocks: 66\n",
      "  number of generated aftershocks: 100\n",
      "\n",
      "\n",
      "simulating aftershocks of generation 27 ..\n",
      "  number of events with aftershocks: 48\n",
      "  number of generated aftershocks: 160\n",
      "\n",
      "\n",
      "simulating aftershocks of generation 28 ..\n",
      "  number of events with aftershocks: 83\n",
      "  number of generated aftershocks: 140\n",
      "\n",
      "\n",
      "simulating aftershocks of generation 29 ..\n",
      "  number of events with aftershocks: 77\n",
      "  number of generated aftershocks: 127\n",
      "\n",
      "\n",
      "simulating aftershocks of generation 30 ..\n",
      "  number of events with aftershocks: 75\n",
      "  number of generated aftershocks: 127\n",
      "\n",
      "\n",
      "simulating aftershocks of generation 31 ..\n",
      "  number of events with aftershocks: 63\n",
      "  number of generated aftershocks: 105\n",
      "\n",
      "\n",
      "simulating aftershocks of generation 32 ..\n",
      "  number of events with aftershocks: 57\n",
      "  number of generated aftershocks: 97\n",
      "\n",
      "\n",
      "simulating aftershocks of generation 33 ..\n",
      "  number of events with aftershocks: 58\n",
      "  number of generated aftershocks: 93\n",
      "\n",
      "\n",
      "simulating aftershocks of generation 34 ..\n",
      "  number of events with aftershocks: 49\n",
      "  number of generated aftershocks: 95\n",
      "\n",
      "\n",
      "simulating aftershocks of generation 35 ..\n",
      "  number of events with aftershocks: 57\n",
      "  number of generated aftershocks: 83\n",
      "\n",
      "\n",
      "simulating aftershocks of generation 36 ..\n",
      "  number of events with aftershocks: 38\n",
      "  number of generated aftershocks: 59\n",
      "\n",
      "\n",
      "simulating aftershocks of generation 37 ..\n",
      "  number of events with aftershocks: 31\n",
      "  number of generated aftershocks: 49\n",
      "\n",
      "\n",
      "simulating aftershocks of generation 38 ..\n",
      "  number of events with aftershocks: 28\n",
      "  number of generated aftershocks: 66\n",
      "\n",
      "\n",
      "simulating aftershocks of generation 39 ..\n",
      "  number of events with aftershocks: 32\n",
      "  number of generated aftershocks: 50\n",
      "\n",
      "\n",
      "simulating aftershocks of generation 40 ..\n",
      "  number of events with aftershocks: 27\n",
      "  number of generated aftershocks: 44\n",
      "\n",
      "\n",
      "simulating aftershocks of generation 41 ..\n",
      "  number of events with aftershocks: 23\n",
      "  number of generated aftershocks: 36\n",
      "\n",
      "\n",
      "simulating aftershocks of generation 42 ..\n",
      "  number of events with aftershocks: 15\n",
      "  number of generated aftershocks: 25\n",
      "\n",
      "\n",
      "simulating aftershocks of generation 43 ..\n",
      "  number of events with aftershocks: 16\n",
      "  number of generated aftershocks: 25\n",
      "\n",
      "\n",
      "simulating aftershocks of generation 44 ..\n",
      "  number of events with aftershocks: 9\n",
      "  number of generated aftershocks: 15\n",
      "\n",
      "\n",
      "simulating aftershocks of generation 45 ..\n",
      "  number of events with aftershocks: 11\n",
      "  number of generated aftershocks: 14\n",
      "\n",
      "\n",
      "simulating aftershocks of generation 46 ..\n",
      "  number of events with aftershocks: 8\n",
      "  number of generated aftershocks: 17\n",
      "\n",
      "\n",
      "simulating aftershocks of generation 47 ..\n",
      "  number of events with aftershocks: 5\n",
      "  number of generated aftershocks: 10\n",
      "\n",
      "\n",
      "simulating aftershocks of generation 48 ..\n",
      "  number of events with aftershocks: 6\n",
      "  number of generated aftershocks: 10\n",
      "\n",
      "\n",
      "simulating aftershocks of generation 49 ..\n",
      "  number of events with aftershocks: 3\n",
      "  number of generated aftershocks: 3\n",
      "\n",
      "\n",
      "simulating aftershocks of generation 50 ..\n",
      "  number of events with aftershocks: 3\n",
      "  number of generated aftershocks: 4\n",
      "\n",
      "\n",
      "simulating aftershocks of generation 51 ..\n",
      "  number of events with aftershocks: 2\n",
      "  number of generated aftershocks: 1\n",
      "\n",
      "\n",
      "simulating aftershocks of generation 52 ..\n",
      "  number of events with aftershocks: 0\n",
      "\n",
      "\n",
      "total events simulated!: 58026\n",
      "inside the polygon: 58026\n"
     ]
    }
   ],
   "source": [
    "synthetic = generate_catalog(\n",
    "        polygon=caliregion,\n",
    "        timewindow_start=burn_start,\n",
    "        timewindow_end=end,\n",
    "        parameters=params,\n",
    "        mc=mc,\n",
    "        beta_main=beta,\n",
    "        \n",
    "    )\n"
   ]
  },
  {
   "cell_type": "code",
   "execution_count": 24,
   "id": "biblical-venture",
   "metadata": {},
   "outputs": [],
   "source": [
    "synthetic = synthetic[[\"latitude\", \"longitude\", \"time\", \"magnitude\"]]\n"
   ]
  },
  {
   "cell_type": "code",
   "execution_count": 25,
   "id": "presidential-mobile",
   "metadata": {},
   "outputs": [
    {
     "data": {
      "text/html": [
       "<div>\n",
       "<style scoped>\n",
       "    .dataframe tbody tr th:only-of-type {\n",
       "        vertical-align: middle;\n",
       "    }\n",
       "\n",
       "    .dataframe tbody tr th {\n",
       "        vertical-align: top;\n",
       "    }\n",
       "\n",
       "    .dataframe thead th {\n",
       "        text-align: right;\n",
       "    }\n",
       "</style>\n",
       "<table border=\"1\" class=\"dataframe\">\n",
       "  <thead>\n",
       "    <tr style=\"text-align: right;\">\n",
       "      <th></th>\n",
       "      <th>latitude</th>\n",
       "      <th>longitude</th>\n",
       "      <th>time</th>\n",
       "      <th>magnitude</th>\n",
       "    </tr>\n",
       "  </thead>\n",
       "  <tbody>\n",
       "    <tr>\n",
       "      <th>1</th>\n",
       "      <td>36</td>\n",
       "      <td>-122</td>\n",
       "      <td>1871-01-14 01:38:32.755265000</td>\n",
       "      <td>3.923400</td>\n",
       "    </tr>\n",
       "    <tr>\n",
       "      <th>2</th>\n",
       "      <td>36</td>\n",
       "      <td>-122</td>\n",
       "      <td>1871-01-16 12:03:39.613253000</td>\n",
       "      <td>4.604839</td>\n",
       "    </tr>\n",
       "    <tr>\n",
       "      <th>3</th>\n",
       "      <td>36</td>\n",
       "      <td>-122</td>\n",
       "      <td>1871-02-02 22:18:56.779805000</td>\n",
       "      <td>4.000704</td>\n",
       "    </tr>\n",
       "    <tr>\n",
       "      <th>4</th>\n",
       "      <td>36</td>\n",
       "      <td>-122</td>\n",
       "      <td>1871-02-03 12:14:37.710767000</td>\n",
       "      <td>3.929098</td>\n",
       "    </tr>\n",
       "    <tr>\n",
       "      <th>5</th>\n",
       "      <td>36</td>\n",
       "      <td>-122</td>\n",
       "      <td>1871-02-07 23:15:51.510108000</td>\n",
       "      <td>4.457550</td>\n",
       "    </tr>\n",
       "    <tr>\n",
       "      <th>...</th>\n",
       "      <td>...</td>\n",
       "      <td>...</td>\n",
       "      <td>...</td>\n",
       "      <td>...</td>\n",
       "    </tr>\n",
       "    <tr>\n",
       "      <th>58022</th>\n",
       "      <td>36</td>\n",
       "      <td>-122</td>\n",
       "      <td>2000-05-07 20:02:13.998604396</td>\n",
       "      <td>4.303463</td>\n",
       "    </tr>\n",
       "    <tr>\n",
       "      <th>58023</th>\n",
       "      <td>36</td>\n",
       "      <td>-122</td>\n",
       "      <td>2013-02-26 22:30:07.251042795</td>\n",
       "      <td>3.978866</td>\n",
       "    </tr>\n",
       "    <tr>\n",
       "      <th>58024</th>\n",
       "      <td>36</td>\n",
       "      <td>-122</td>\n",
       "      <td>2013-02-27 18:23:05.315577195</td>\n",
       "      <td>3.683023</td>\n",
       "    </tr>\n",
       "    <tr>\n",
       "      <th>58025</th>\n",
       "      <td>36</td>\n",
       "      <td>-122</td>\n",
       "      <td>1953-04-29 04:29:54.936328797</td>\n",
       "      <td>3.806231</td>\n",
       "    </tr>\n",
       "    <tr>\n",
       "      <th>58026</th>\n",
       "      <td>36</td>\n",
       "      <td>-122</td>\n",
       "      <td>1953-06-25 00:57:37.180283997</td>\n",
       "      <td>3.710474</td>\n",
       "    </tr>\n",
       "  </tbody>\n",
       "</table>\n",
       "<p>58026 rows × 4 columns</p>\n",
       "</div>"
      ],
      "text/plain": [
       "       latitude  longitude                          time  magnitude\n",
       "1            36       -122 1871-01-14 01:38:32.755265000   3.923400\n",
       "2            36       -122 1871-01-16 12:03:39.613253000   4.604839\n",
       "3            36       -122 1871-02-02 22:18:56.779805000   4.000704\n",
       "4            36       -122 1871-02-03 12:14:37.710767000   3.929098\n",
       "5            36       -122 1871-02-07 23:15:51.510108000   4.457550\n",
       "...         ...        ...                           ...        ...\n",
       "58022        36       -122 2000-05-07 20:02:13.998604396   4.303463\n",
       "58023        36       -122 2013-02-26 22:30:07.251042795   3.978866\n",
       "58024        36       -122 2013-02-27 18:23:05.315577195   3.683023\n",
       "58025        36       -122 1953-04-29 04:29:54.936328797   3.806231\n",
       "58026        36       -122 1953-06-25 00:57:37.180283997   3.710474\n",
       "\n",
       "[58026 rows x 4 columns]"
      ]
     },
     "execution_count": 25,
     "metadata": {},
     "output_type": "execute_result"
    }
   ],
   "source": [
    "synthetic"
   ]
  },
  {
   "cell_type": "code",
   "execution_count": 26,
   "id": "standard-factor",
   "metadata": {},
   "outputs": [
    {
     "data": {
      "text/html": [
       "<div>\n",
       "<style scoped>\n",
       "    .dataframe tbody tr th:only-of-type {\n",
       "        vertical-align: middle;\n",
       "    }\n",
       "\n",
       "    .dataframe tbody tr th {\n",
       "        vertical-align: top;\n",
       "    }\n",
       "\n",
       "    .dataframe thead th {\n",
       "        text-align: right;\n",
       "    }\n",
       "</style>\n",
       "<table border=\"1\" class=\"dataframe\">\n",
       "  <thead>\n",
       "    <tr style=\"text-align: right;\">\n",
       "      <th></th>\n",
       "      <th>latitude</th>\n",
       "      <th>longitude</th>\n",
       "      <th>time</th>\n",
       "      <th>magnitude</th>\n",
       "    </tr>\n",
       "  </thead>\n",
       "  <tbody>\n",
       "    <tr>\n",
       "      <th>1</th>\n",
       "      <td>36</td>\n",
       "      <td>-122</td>\n",
       "      <td>1871-01-14 01:38:32.755265000</td>\n",
       "      <td>3.923400</td>\n",
       "    </tr>\n",
       "    <tr>\n",
       "      <th>2</th>\n",
       "      <td>36</td>\n",
       "      <td>-122</td>\n",
       "      <td>1871-01-16 12:03:39.613253000</td>\n",
       "      <td>4.604839</td>\n",
       "    </tr>\n",
       "    <tr>\n",
       "      <th>3</th>\n",
       "      <td>36</td>\n",
       "      <td>-122</td>\n",
       "      <td>1871-02-02 22:18:56.779805000</td>\n",
       "      <td>4.000704</td>\n",
       "    </tr>\n",
       "    <tr>\n",
       "      <th>4</th>\n",
       "      <td>36</td>\n",
       "      <td>-122</td>\n",
       "      <td>1871-02-03 12:14:37.710767000</td>\n",
       "      <td>3.929098</td>\n",
       "    </tr>\n",
       "    <tr>\n",
       "      <th>5</th>\n",
       "      <td>36</td>\n",
       "      <td>-122</td>\n",
       "      <td>1871-02-07 23:15:51.510108000</td>\n",
       "      <td>4.457550</td>\n",
       "    </tr>\n",
       "    <tr>\n",
       "      <th>...</th>\n",
       "      <td>...</td>\n",
       "      <td>...</td>\n",
       "      <td>...</td>\n",
       "      <td>...</td>\n",
       "    </tr>\n",
       "    <tr>\n",
       "      <th>15600</th>\n",
       "      <td>36</td>\n",
       "      <td>-122</td>\n",
       "      <td>2020-12-28 18:27:34.617379000</td>\n",
       "      <td>4.718601</td>\n",
       "    </tr>\n",
       "    <tr>\n",
       "      <th>15599</th>\n",
       "      <td>36</td>\n",
       "      <td>-122</td>\n",
       "      <td>2020-12-28 21:23:30.294076600</td>\n",
       "      <td>3.762061</td>\n",
       "    </tr>\n",
       "    <tr>\n",
       "      <th>21671</th>\n",
       "      <td>36</td>\n",
       "      <td>-122</td>\n",
       "      <td>2020-12-28 21:26:53.583772600</td>\n",
       "      <td>3.886331</td>\n",
       "    </tr>\n",
       "    <tr>\n",
       "      <th>26978</th>\n",
       "      <td>36</td>\n",
       "      <td>-122</td>\n",
       "      <td>2020-12-29 00:42:21.847055800</td>\n",
       "      <td>3.914071</td>\n",
       "    </tr>\n",
       "    <tr>\n",
       "      <th>21666</th>\n",
       "      <td>36</td>\n",
       "      <td>-122</td>\n",
       "      <td>2020-12-29 06:57:09.491260200</td>\n",
       "      <td>4.140766</td>\n",
       "    </tr>\n",
       "  </tbody>\n",
       "</table>\n",
       "<p>58026 rows × 4 columns</p>\n",
       "</div>"
      ],
      "text/plain": [
       "       latitude  longitude                          time  magnitude\n",
       "1            36       -122 1871-01-14 01:38:32.755265000   3.923400\n",
       "2            36       -122 1871-01-16 12:03:39.613253000   4.604839\n",
       "3            36       -122 1871-02-02 22:18:56.779805000   4.000704\n",
       "4            36       -122 1871-02-03 12:14:37.710767000   3.929098\n",
       "5            36       -122 1871-02-07 23:15:51.510108000   4.457550\n",
       "...         ...        ...                           ...        ...\n",
       "15600        36       -122 2020-12-28 18:27:34.617379000   4.718601\n",
       "15599        36       -122 2020-12-28 21:23:30.294076600   3.762061\n",
       "21671        36       -122 2020-12-28 21:26:53.583772600   3.886331\n",
       "26978        36       -122 2020-12-29 00:42:21.847055800   3.914071\n",
       "21666        36       -122 2020-12-29 06:57:09.491260200   4.140766\n",
       "\n",
       "[58026 rows x 4 columns]"
      ]
     },
     "execution_count": 26,
     "metadata": {},
     "output_type": "execute_result"
    }
   ],
   "source": [
    "synthetic = synthetic.sort_values('time')\n",
    "synthetic"
   ]
  },
  {
   "cell_type": "code",
   "execution_count": 27,
   "id": "affecting-diary",
   "metadata": {},
   "outputs": [],
   "source": [
    "dates = np.array(synthetic['time'])\n",
    "delta_times = (dates-dates[0])\n",
    "times=delta_times/ np.timedelta64(1, 'D')"
   ]
  },
  {
   "cell_type": "code",
   "execution_count": 28,
   "id": "subject-girlfriend",
   "metadata": {},
   "outputs": [],
   "source": [
    "mags = np.array(synthetic['magnitude'])"
   ]
  },
  {
   "cell_type": "markdown",
   "id": "addressed-firmware",
   "metadata": {},
   "source": [
    "$$ g(t,x,y,m) = \\frac{k_0 \\cdot e^{a(m-m_c)} }{\\frac{(t+c)^{1+\\omega}}{e^{-t/\\tau}} \\cdot\\left((x^2+y^2)+d \\cdot e^{\\gamma(m-m_c)}\\right)^{1+\\rho} }$$"
   ]
  },
  {
   "cell_type": "markdown",
   "id": "intermediate-sister",
   "metadata": {},
   "source": [
    "To simply this to only temporal, we can take the same parameter values and just ensure that $x$ and $y$ are always zero. The triggering function then becomes:\n",
    "$$ g(t,m) = \\frac{k_0 \\cdot e^{a(m-m_c)} }{\\frac{(t+c)^{1+\\omega}}{e^{-t/\\tau}} \\cdot\\left(d \\cdot e^{\\gamma(m-m_c)}\\right)^{1+\\rho} }$$"
   ]
  },
  {
   "cell_type": "markdown",
   "id": "private-comparison",
   "metadata": {},
   "source": [
    "The intensity at time $t$ is:\n",
    "\\begin{align*} \\lambda(t) &= \\mu + \\sum_{t_i<t} g(t-t_i,m_i) \\\\\n",
    "&= \\mu + \\sum_{t_i<t} h(t-t_i) k(m_i)\n",
    "\\end{align*}"
   ]
  },
  {
   "cell_type": "markdown",
   "id": "weighted-defensive",
   "metadata": {},
   "source": [
    "Where,\n",
    "$$h(t) = \\frac{e^{-t/\\tau}}{(t+c)^{1+\\omega}}$$"
   ]
  },
  {
   "cell_type": "markdown",
   "id": "celtic-plastic",
   "metadata": {},
   "source": [
    "$$k(m) = \\frac{k_0 \\cdot e^{a(m-m_c)}}{\\left(d \\cdot e^{\\gamma(m-m_c)}\\right)^{1+\\rho} } $$"
   ]
  },
  {
   "cell_type": "code",
   "execution_count": 29,
   "id": "spanish-palestine",
   "metadata": {},
   "outputs": [],
   "source": [
    "tau=10**float(params[\"log10_tau\"])\n",
    "c= 10**float(params[\"log10_c\"])\n",
    "w = float(params[\"omega\"])\n",
    "k0 = 10**float(params[\"log10_k0\"])\n",
    "alpha = float(params[\"a\"])\n",
    "M0 = float(params[\"M0\"])\n",
    "d = 10**float(params[\"log10_d\"])\n",
    "rho = float(params[\"rho\"])\n",
    "ground = 10**float(params[\"log10_mu\"])\n",
    "gama = float(params[\"gamma\"])\n",
    "beta = float(params[\"beta\"])\n",
    "\n",
    "\n",
    "# def h(t):\n",
    "#     return np.exp(-t/tau)/((t+c)**(1+w))\n",
    "\n",
    "# def k(m):\n",
    "#     return k0 * np.exp(alpha * (m - M0))/((d*np.exp(gamma*(m-M0)))**(1+rho))\n",
    "\n",
    "\n",
    "scale = 1/(gamma(-w)*np.power(tau,-1*w))\n",
    "\n",
    "def upper_gamma_ext(a, x):\n",
    "    if a > 0:\n",
    "        return gammaincc(a, x) * gamma(a)\n",
    "    elif a == 0:\n",
    "        return exp1(x)\n",
    "    else:\n",
    "        return (upper_gamma_ext(a + 1, x) - np.power(x, a)*np.exp(-x)) / a\n",
    "\n",
    "def h(t):\n",
    "    return scale*np.exp(-t/tau)/(np.power(t+c,(1+w)))\n",
    "\n",
    "# def k(m):\n",
    "#     return k0*np.exp(alpha*(m-M0))/(np.power(d*np.exp(gama*(m-M0)),(1+rho)))\n",
    "\n",
    "def k(m):\n",
    "    \n",
    "    number_factor = k0 * np.exp(alpha * (m - M0))\n",
    "    area_factor = np.pi * np.power(\n",
    "        d * np.exp(gama * (m - M0)),\n",
    "        -1 * rho\n",
    "    ) / rho\n",
    "\n",
    "    time_factor = np.exp(c/tau) * np.power(tau, -w) \n",
    "    time_fraction = upper_gamma_ext(-w, c/tau)\n",
    "    \n",
    "    \n",
    "    return number_factor*area_factor*time_factor*time_fraction\n",
    "\n",
    "# def H(t):\n",
    "#     return (1/gamma(-w))*gammainc(-w,t/tau)\n",
    "\n",
    "def H(t):\n",
    "    return 1 - gammaincc(-w,(t+c)/tau)/gammaincc(-w,c/tau)\n"
   ]
  },
  {
   "cell_type": "code",
   "execution_count": null,
   "id": "inner-eating",
   "metadata": {},
   "outputs": [],
   "source": [
    "upper_gamma_ext(-w, c/tau)"
   ]
  },
  {
   "cell_type": "code",
   "execution_count": 57,
   "id": "reserved-favor",
   "metadata": {},
   "outputs": [
    {
     "data": {
      "text/plain": [
       "<matplotlib.legend.Legend at 0x7fb7b038d790>"
      ]
     },
     "execution_count": 57,
     "metadata": {},
     "output_type": "execute_result"
    },
    {
     "data": {
      "image/png": "[encoded data removed]",
      "text/plain": [
       "<Figure size 432x288 with 1 Axes>"
      ]
     },
     "metadata": {
      "needs_background": "light"
     },
     "output_type": "display_data"
    }
   ],
   "source": [
    "t = simulate_aftershock_time(params[\"log10_c\"], w, params[\"log10_tau\"], size=10000)\n",
    "def f(x):\n",
    "    return np.exp(-(x+c)/tau)/(gammaincc(-w,c/tau)*tau*np.power(((x+c)/tau),1+w)*gamma(-w))\n",
    "\n",
    "\n",
    "\n",
    "density = gaussian_kde(t)\n",
    "x=np.linspace(0,0.08,10000)\n",
    "plt.plot(x,density(x/tau-c),label='simulated density')\n",
    "# # plt.hist(t,density=True)\n",
    "plt.plot(x,h(x),label='As stated in paper')\n",
    "plt.plot(x,f(x),label='Reverse engineered from code')\n",
    "plt.legend()"
   ]
  },
  {
   "cell_type": "code",
   "execution_count": 51,
   "id": "personalized-attendance",
   "metadata": {},
   "outputs": [
    {
     "data": {
      "text/plain": [
       "TimedeltaIndex([  '17 days 04:49:02.358249600', '2029 days 05:35:54.062044800',\n",
       "                   '0 days 23:58:40.962057600',       '0 days 00:04:29.712720',\n",
       "                   '4 days 11:35:02.833065600', '5331 days 16:16:15.107750400',\n",
       "                   '0 days 01:58:03.748252800',  '560 days 21:10:14.261836800',\n",
       "                      '5 days 21:26:31.927344',    '0 days 08:22:31.101916800',\n",
       "                ...\n",
       "                '5096 days 21:37:29.261654400',    '0 days 01:47:18.069129600',\n",
       "                 '357 days 23:00:34.342156800',    '0 days 01:00:39.697977600',\n",
       "                   '0 days 01:02:39.626361600',    '0 days 17:52:23.296598400',\n",
       "                    '103 days 16:26:30.547392',       '1 days 03:39:00.130608',\n",
       "                   '0 days 03:26:01.588934400',\n",
       "                   '4 days 18:28:00.417014400'],\n",
       "               dtype='timedelta64[ns]', length=10000, freq=None)"
      ]
     },
     "execution_count": 51,
     "metadata": {},
     "output_type": "execute_result"
    }
   ],
   "source": [
    "pd.to_timedelta(t, unit='d')"
   ]
  },
  {
   "cell_type": "code",
   "execution_count": 52,
   "id": "optional-marketplace",
   "metadata": {},
   "outputs": [
    {
     "data": {
      "text/plain": [
       "array([1.72007217e+01, 2.02923326e+03, 9.99085209e-01, ...,\n",
       "       1.15208485e+00, 1.43073946e-01, 4.76944927e+00])"
      ]
     },
     "execution_count": 52,
     "metadata": {},
     "output_type": "execute_result"
    }
   ],
   "source": [
    "t"
   ]
  },
  {
   "cell_type": "code",
   "execution_count": null,
   "id": "neither-stylus",
   "metadata": {},
   "outputs": [],
   "source": [
    "(T_test[-1]-T_test[time_step+1])"
   ]
  },
  {
   "cell_type": "code",
   "execution_count": null,
   "id": "killing-institution",
   "metadata": {},
   "outputs": [],
   "source": [
    "((T_test[-1])-T_test[time_step+1:])[-30:]"
   ]
  },
  {
   "cell_type": "code",
   "execution_count": 13,
   "id": "quiet-questionnaire",
   "metadata": {},
   "outputs": [],
   "source": [
    "# def marked_ETAS_intensity(Tdat,Mdat):\n",
    "    \n",
    "#     lam = np.zeros_like(Tdat)\n",
    "#     lam[0] = ground*area\n",
    "#     for i in range(len(lam)):\n",
    "    \n",
    "#         cumulative = 0\n",
    "#         for j in range(1,i):\n",
    "#             cumulative += k(Mdat[j])*h((Tdat[i]-Tdat[j]))\n",
    "\n",
    "    \n",
    "#         lam[i] = ground*area + cumulative\n",
    "    \n",
    "#     return lam \n",
    "\n",
    "theta_without_mu = params[\"log10_k0\"], params[\"a\"], params[\"log10_c\"], params[\"omega\"], \\\n",
    "                       params[\"log10_tau\"], params[\"log10_d\"], params[\"gamma\"], params[\"rho\"]\n",
    "\n",
    "def marked_ETAS_intensity(Tdat,Mdat):\n",
    "    \n",
    "    lam = np.zeros_like(Tdat)\n",
    "    lam[0] = ground*area\n",
    "    for i in range(len(lam)):\n",
    "    \n",
    "        cumulative = 0\n",
    "        for j in range(1,i):\n",
    "            cumulative += k(Mdat[j])*f(Tdat[i]-Tdat[j])\n",
    "\n",
    "    \n",
    "        lam[i] = ground*area + cumulative\n",
    "    \n",
    "    return lam \n",
    "\n",
    "\n",
    "def marked_likelihood(Tdat,Mdat,maxTime):\n",
    "    temp = np.log(ground*area)\n",
    "    for i in range(1,len(Tdat)):\n",
    "        \n",
    "        temp += np.log(ground*area + sum(k(Mdat[:(i )]) * f(Tdat[i] - Tdat[:(i)]))+1e-7)\n",
    "    \n",
    "    temp = temp - ground*maxTime*area\n",
    "    temp = temp - sum(k(Mdat) * H(maxTime - Tdat))\n",
    "    \n",
    "    return temp"
   ]
  },
  {
   "cell_type": "code",
   "execution_count": null,
   "id": "indoor-quality",
   "metadata": {},
   "outputs": [],
   "source": [
    "x = np.linspace(8,10,1000)\n",
    "plt.plot(x,k(x),alpha=0.8,label='mine')\n",
    "plt.plot(x,expected_aftershocks(x,params=[theta_without_mu, M0],no_start=True,no_end=True),alpha=0.5,label='hers')\n",
    "plt.legend()"
   ]
  },
  {
   "cell_type": "code",
   "execution_count": 14,
   "id": "caring-bacon",
   "metadata": {},
   "outputs": [],
   "source": [
    "lamtimes=times[:4000]\n",
    "lammags=mags[:4000]"
   ]
  },
  {
   "cell_type": "code",
   "execution_count": 15,
   "id": "instant-percentage",
   "metadata": {},
   "outputs": [],
   "source": [
    "lam = marked_ETAS_intensity(lamtimes,lammags)"
   ]
  },
  {
   "cell_type": "code",
   "execution_count": 16,
   "id": "constitutional-excuse",
   "metadata": {},
   "outputs": [],
   "source": [
    "## hyper parameters\n",
    "time_step = 20 # truncation depth of RNN \n",
    "size_rnn = 64 # the number of units in the RNN\n",
    "size_nn = 64 # the nubmer of units in each hidden layer in the cumulative hazard function network\n",
    "size_layer_chfn = 2 # the number of the hidden layers in the cumulative hazard function network\n",
    "size_layer_cmfn = 2\n",
    "\n",
    "T_train=times\n",
    "M_train=mags\n",
    "\n",
    "## mean and std of the log of the inter-event interval, which will be used for the data standardization\n",
    "mu = np.log(np.ediff1d(T_train)).mean()\n",
    "sigma = np.log(np.ediff1d(T_train)).std()\n",
    "\n",
    "mu1 = np.log(M_train).mean()\n",
    "sigma1 = np.log(M_train).std()\n",
    "\n",
    "## kernel initializer for positive weights\n",
    "def abs_glorot_uniform(shape, dtype=None, partition_info=None): \n",
    "    return K.abs(keras.initializers.glorot_uniform(seed=None)(shape,dtype=dtype))\n",
    "\n",
    "## Inputs \n",
    "\n",
    "event_history = layers.Input(shape=(time_step,2))\n",
    "elapsed_time = layers.Input(shape=(1,)) # input to cumulative hazard function network (the elapsed time from the most recent event)\n",
    "current_mag = layers.Input(shape=(1,)) \n",
    "\n",
    "\n",
    "## log-transformation and standardization\n",
    "# event_history_nmlz = layers.Lambda(lambda x: (K.log(x)-mu)/sigma )(event_history) ## probs have to do matrix equivalent for this\n",
    "elapsed_time_nmlz = layers.Lambda(lambda x: (K.log(x)-mu)/sigma )(elapsed_time) \n",
    "\n",
    "numpyA = np.array([[1/sigma,0],[0,1/sigma1]])\n",
    "\n",
    "def multA(x,A):\n",
    "    A = K.constant(numpyA)\n",
    "\n",
    "    return K.dot(x,A)\n",
    "\n",
    "event_history_nmlz = layers.Lambda(lambda x: multA(K.log(x)-[mu,mu1],numpyA))(event_history)\n",
    "current_mag_nmlz = layers.Lambda(lambda x: (K.log(x)-mu1)/sigma1 )(current_mag)\n",
    "\n",
    "## RNN\n",
    "output_rnn = layers.SimpleRNN(size_rnn,input_shape=(time_step,2),activation='tanh')(event_history_nmlz)\n",
    "\n",
    "## the first hidden layer in the cummulative hazard function network\n",
    "hidden_tau = layers.Dense(size_nn,kernel_initializer=abs_glorot_uniform,kernel_constraint=keras.constraints.NonNeg(),use_bias=False)(elapsed_time_nmlz) # elapsed time -> the 1st hidden layer, positive weights\n",
    "hidden_rnn = layers.Dense(size_nn)(output_rnn) # rnn output -> the 1st hidden layer\n",
    "hidden = layers.Lambda(lambda inputs: K.tanh(inputs[0]+inputs[1]) )([hidden_tau,hidden_rnn])\n",
    "\n",
    "## the second and higher hidden layers\n",
    "for i in range(size_layer_chfn-1):\n",
    "    hidden = layers.Dense(size_nn,activation='tanh',kernel_initializer=abs_glorot_uniform,kernel_constraint=keras.constraints.NonNeg())(hidden) # positive weights\n",
    "\n",
    "## the first hidden layer in the cummulative hazard function network\n",
    "hidden_mu = layers.Dense(size_nn,kernel_initializer=abs_glorot_uniform,kernel_constraint=keras.constraints.NonNeg(),use_bias=False)(current_mag_nmlz) # elapsed time -> the 1st hidden layer, positive weights\n",
    "hidden_rnn_mag = layers.Dense(size_nn)(output_rnn) # rnn output -> the 1st hidden layer\n",
    "hidden_mag = layers.Lambda(lambda inputs: K.tanh(inputs[0]+inputs[1]) )([hidden_mu,hidden_rnn_mag,hidden_tau])\n",
    "\n",
    "## the second and higher hidden layers\n",
    "for i in range(size_layer_cmfn-1):\n",
    "    hidden_mag = layers.Dense(size_nn,activation='tanh',kernel_initializer=abs_glorot_uniform,kernel_constraint=keras.constraints.NonNeg())(hidden_mag) # positive weights\n",
    "    \n",
    "    \n",
    "    \n",
    "## Outputs\n",
    "Int_l = layers.Dense(1, activation='softplus',kernel_initializer=abs_glorot_uniform, kernel_constraint=keras.constraints.NonNeg() )(hidden) # cumulative hazard function, positive weights\n",
    "l = layers.Lambda( lambda inputs: K.gradients(inputs[0],inputs[1])[0] )([Int_l,elapsed_time]) # hazard function\n",
    "Int_l_mag = layers.Dense(1, activation='softplus',kernel_initializer=abs_glorot_uniform, kernel_constraint=keras.constraints.NonNeg() )(hidden_mag) # cumulative hazard function, positive weights\n",
    "l_mag= layers.Lambda( lambda inputs: K.gradients(inputs[0],inputs[1])[0] )([Int_l_mag,current_mag]) # hazard function\n",
    "\n",
    "## define model\n",
    "model = Model(inputs=[event_history,elapsed_time,current_mag],outputs=[l,Int_l,l_mag,Int_l_mag])\n",
    "model.add_loss( -K.mean( K.log( 1e-10 + l )+ K.log(1e-10 + l_mag ) - Int_l ) ) # set loss function to be the negative log-likelihood function"
   ]
  },
  {
   "cell_type": "code",
   "execution_count": 17,
   "id": "decimal-quick",
   "metadata": {},
   "outputs": [
    {
     "name": "stdout",
     "output_type": "stream",
     "text": [
      "WARNING:tensorflow:Output lambda_5 missing from loss dictionary. We assume this was done on purpose. The fit and evaluate APIs will not be expecting any data to be passed to lambda_5.\n",
      "WARNING:tensorflow:Output dense_6 missing from loss dictionary. We assume this was done on purpose. The fit and evaluate APIs will not be expecting any data to be passed to dense_6.\n",
      "WARNING:tensorflow:Output lambda_6 missing from loss dictionary. We assume this was done on purpose. The fit and evaluate APIs will not be expecting any data to be passed to lambda_6.\n",
      "WARNING:tensorflow:Output dense_7 missing from loss dictionary. We assume this was done on purpose. The fit and evaluate APIs will not be expecting any data to be passed to dense_7.\n",
      "Train on 8844 samples, validate on 2211 samples\n",
      "Epoch 1/30\n",
      "8844/8844 [==============================] - 1s 158us/sample - loss: 2.2036 - val_loss: 0.2092\n",
      "Epoch 2/30\n",
      "8844/8844 [==============================] - 0s 33us/sample - loss: 0.1312 - val_loss: -0.4605\n",
      "Epoch 3/30\n",
      "8844/8844 [==============================] - 0s 33us/sample - loss: -0.2294 - val_loss: -0.6686\n",
      "Epoch 4/30\n",
      "8844/8844 [==============================] - 0s 33us/sample - loss: -0.3976 - val_loss: -0.7984\n",
      "Epoch 5/30\n",
      "8844/8844 [==============================] - 0s 37us/sample - loss: -0.5334 - val_loss: -0.9459\n",
      "Epoch 6/30\n",
      "8844/8844 [==============================] - 0s 38us/sample - loss: -0.6591 - val_loss: -1.0478\n",
      "Epoch 7/30\n",
      "8844/8844 [==============================] - 0s 39us/sample - loss: -0.7657 - val_loss: -1.1359\n",
      "Epoch 8/30\n",
      "8844/8844 [==============================] - 0s 39us/sample - loss: -0.8541 - val_loss: -1.2240\n",
      "Epoch 9/30\n",
      "8844/8844 [==============================] - 0s 37us/sample - loss: -0.9257 - val_loss: -1.3064\n",
      "Epoch 10/30\n",
      "8844/8844 [==============================] - 0s 38us/sample - loss: -1.0115 - val_loss: -1.3717\n",
      "Epoch 11/30\n",
      "8844/8844 [==============================] - 0s 38us/sample - loss: -1.0843 - val_loss: -1.4569\n",
      "Epoch 12/30\n",
      "8844/8844 [==============================] - 0s 38us/sample - loss: -1.1598 - val_loss: -1.5028\n",
      "Epoch 13/30\n",
      "8844/8844 [==============================] - 0s 38us/sample - loss: -1.2136 - val_loss: -1.5672\n",
      "Epoch 14/30\n",
      "8844/8844 [==============================] - 0s 37us/sample - loss: -1.2767 - val_loss: -1.6168\n",
      "Epoch 15/30\n",
      "8844/8844 [==============================] - 0s 38us/sample - loss: -1.3217 - val_loss: -1.6460\n",
      "Epoch 16/30\n",
      "8844/8844 [==============================] - 0s 38us/sample - loss: -1.3657 - val_loss: -1.7123\n",
      "Epoch 17/30\n",
      "8844/8844 [==============================] - 0s 39us/sample - loss: -1.4166 - val_loss: -1.7312\n",
      "Epoch 18/30\n",
      "8844/8844 [==============================] - 0s 38us/sample - loss: -1.4481 - val_loss: -1.7821\n",
      "Epoch 19/30\n",
      "8844/8844 [==============================] - 0s 38us/sample - loss: -1.4956 - val_loss: -1.8042\n",
      "Epoch 20/30\n",
      "8844/8844 [==============================] - 0s 37us/sample - loss: -1.5324 - val_loss: -1.8670\n",
      "Epoch 21/30\n",
      "8844/8844 [==============================] - 0s 37us/sample - loss: -1.5744 - val_loss: -1.8948\n",
      "Epoch 22/30\n",
      "8844/8844 [==============================] - 0s 37us/sample - loss: -1.5946 - val_loss: -1.9085\n",
      "Epoch 23/30\n",
      "8844/8844 [==============================] - 0s 38us/sample - loss: -1.6324 - val_loss: -1.9173\n",
      "Epoch 24/30\n",
      "8844/8844 [==============================] - 0s 38us/sample - loss: -1.6592 - val_loss: -1.9720\n",
      "Epoch 25/30\n",
      "8844/8844 [==============================] - 0s 38us/sample - loss: -1.6973 - val_loss: -1.9872\n",
      "Epoch 26/30\n",
      "8844/8844 [==============================] - 0s 37us/sample - loss: -1.7221 - val_loss: -1.9984\n",
      "Epoch 27/30\n",
      "8844/8844 [==============================] - 0s 37us/sample - loss: -1.7323 - val_loss: -2.0518\n",
      "Epoch 28/30\n",
      "8844/8844 [==============================] - 0s 38us/sample - loss: -1.7821 - val_loss: -2.0783\n",
      "Epoch 29/30\n",
      "8844/8844 [==============================] - 0s 38us/sample - loss: -1.8002 - val_loss: -2.1007\n",
      "Epoch 30/30\n",
      "8844/8844 [==============================] - 0s 38us/sample - loss: -1.8288 - val_loss: -2.1271\n"
     ]
    },
    {
     "data": {
      "text/plain": [
       "<tensorflow.python.keras.callbacks.History at 0x7fb7e6df54d0>"
      ]
     },
     "execution_count": 17,
     "metadata": {},
     "output_type": "execute_result"
    }
   ],
   "source": [
    "## format the input data\n",
    "dM_train = np.delete(mags,0)\n",
    "\n",
    "dT_train = np.ediff1d(times) # transform a series of timestamps to a series of interevent intervals: T_train -> dT_train\n",
    "n = dT_train.shape[0]\n",
    "n2 = dM_train.shape[0]\n",
    "input_RNN_times = np.array( [ dT_train[i:i+time_step] for i in range(n-time_step) ]).reshape(n-time_step,time_step,1)\n",
    "input_RNN_mags = np.array( [ dM_train[i:i+time_step] for i in range(n2-time_step) ]).reshape(n2-time_step,time_step,1)\n",
    "input_RNN = np.concatenate((input_RNN_times,input_RNN_mags),axis=2)\n",
    "input_CHFN = dT_train[-n+time_step:].reshape(n-time_step,1)\n",
    "input_CMFN =dM_train[-n+time_step:].reshape(n-time_step,1)\n",
    "\n",
    "\n",
    "## training \n",
    "model.compile(keras.optimizers.Adam(lr=0.001))\n",
    "model.fit([input_RNN,input_CHFN,input_CMFN],epochs=30,batch_size=256,validation_split=0.2) # In our study, we have set epochs = 100 and employed early stopping. Please see code.ipynb for more details."
   ]
  },
  {
   "cell_type": "code",
   "execution_count": 18,
   "id": "empty-harvard",
   "metadata": {},
   "outputs": [
    {
     "name": "stdout",
     "output_type": "stream",
     "text": [
      "Mean negative log-likelihood per event:  1.8188766\n"
     ]
    }
   ],
   "source": [
    "[l_test,Int_l_test,l_mag_test,Int_mag_test] = model.predict([input_RNN,input_CHFN,input_CMFN],batch_size=input_RNN.shape[0])\n",
    "LL = np.log(l_test+1e-10) - Int_l_test  # log-liklihood\n",
    "print(\"Mean negative log-likelihood per event: \",-LL.mean())"
   ]
  },
  {
   "cell_type": "code",
   "execution_count": 19,
   "id": "treated-radiation",
   "metadata": {},
   "outputs": [
    {
     "name": "stdout",
     "output_type": "stream",
     "text": [
      "True mean negative log-likelihood per event:  1.797813494946289\n"
     ]
    }
   ],
   "source": [
    "T_test=T_train\n",
    "M_test=M_train\n",
    "TLL = -marked_likelihood(T_test[time_step+1:],M_test[time_step+1:],(T_test[-1]))/len(T_test[time_step+1:])\n",
    "print(\"True mean negative log-likelihood per event: \",TLL)"
   ]
  },
  {
   "cell_type": "code",
   "execution_count": 20,
   "id": "continent-dream",
   "metadata": {},
   "outputs": [
    {
     "data": {
      "text/plain": [
       "array([0.00000000e+00, 6.89294115e-01, 4.70042355e+01, ...,\n",
       "       5.47420837e+04, 5.47464395e+04, 5.47531939e+04])"
      ]
     },
     "execution_count": 20,
     "metadata": {},
     "output_type": "execute_result"
    }
   ],
   "source": [
    "T_train"
   ]
  },
  {
   "cell_type": "code",
   "execution_count": 59,
   "id": "based-principle",
   "metadata": {},
   "outputs": [],
   "source": [
    "timesplot=times[time_step+1:]\n",
    "lam=lam[time_step+1:]"
   ]
  },
  {
   "cell_type": "code",
   "execution_count": 60,
   "id": "placed-limitation",
   "metadata": {},
   "outputs": [
    {
     "data": {
      "text/plain": [
       "<matplotlib.legend.Legend at 0x7fb7b038d850>"
      ]
     },
     "execution_count": 60,
     "metadata": {},
     "output_type": "execute_result"
    },
    {
     "data": {
      "image/png": "[encoded data removed]",
      "text/plain": [
       "<Figure size 432x288 with 1 Axes>"
      ]
     },
     "metadata": {
      "needs_background": "light"
     },
     "output_type": "display_data"
    }
   ],
   "source": [
    "i = 390\n",
    "index=range(i,i+20)\n",
    "plt.plot(timesplot[index],l_test[index],label='predicted')\n",
    "plt.plot(timesplot[index],lam[index],label='true')\n",
    "plt.legend()"
   ]
  },
  {
   "cell_type": "code",
   "execution_count": 80,
   "id": "original-parameter",
   "metadata": {},
   "outputs": [
    {
     "data": {
      "text/plain": [
       "<matplotlib.legend.Legend at 0x7fb77c626fd0>"
      ]
     },
     "execution_count": 80,
     "metadata": {},
     "output_type": "execute_result"
    },
    {
     "data": {
      "image/png": "[encoded data removed]",
      "text/plain": [
       "<Figure size 432x288 with 1 Axes>"
      ]
     },
     "metadata": {
      "needs_background": "light"
     },
     "output_type": "display_data"
    }
   ],
   "source": [
    "i = 25\n",
    "index=range(i,i+15)\n",
    "plt.plot(timesplot[index],l_test[index],label='predicted')\n",
    "plt.plot(timesplot[index],lam[index],label='true')\n",
    "plt.legend()"
   ]
  },
  {
   "cell_type": "code",
   "execution_count": null,
   "id": "known-royalty",
   "metadata": {},
   "outputs": [],
   "source": [
    "rho"
   ]
  },
  {
   "cell_type": "code",
   "execution_count": null,
   "id": "combined-prize",
   "metadata": {},
   "outputs": [],
   "source": [
    "plt.plot(timesplot[:3979],abs(l_test[:3979,0]-lam)/(lam))"
   ]
  },
  {
   "cell_type": "code",
   "execution_count": null,
   "id": "german-breakdown",
   "metadata": {},
   "outputs": [],
   "source": []
  },
  {
   "cell_type": "code",
   "execution_count": null,
   "id": "golden-termination",
   "metadata": {},
   "outputs": [],
   "source": [
    "(l_test[:,0]/lam).mean()"
   ]
  },
  {
   "cell_type": "code",
   "execution_count": null,
   "id": "remarkable-latino",
   "metadata": {},
   "outputs": [],
   "source": [
    "lammags.argmax()"
   ]
  },
  {
   "cell_type": "code",
   "execution_count": null,
   "id": "cutting-closure",
   "metadata": {},
   "outputs": [],
   "source": [
    "lammags.max()"
   ]
  },
  {
   "cell_type": "code",
   "execution_count": null,
   "id": "introductory-photography",
   "metadata": {},
   "outputs": [],
   "source": [
    "binwidth=0.5\n",
    "plt.hist(dT_train,bins=np.arange(min(dT_train), max(dT_train) + binwidth, binwidth),density=True)"
   ]
  }
 ],
 "metadata": {
  "kernelspec": {
   "display_name": "Python 3",
   "language": "python",
   "name": "python3"
  },
  "language_info": {
   "codemirror_mode": {
    "name": "ipython",
    "version": 3
   },
   "file_extension": ".py",
   "mimetype": "text/x-python",
   "name": "python",
   "nbconvert_exporter": "python",
   "pygments_lexer": "ipython3",
   "version": "3.7.10"
  }
 },
 "nbformat": 4,
 "nbformat_minor": 5
}
